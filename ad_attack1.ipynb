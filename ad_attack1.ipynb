{
  "nbformat": 4,
  "nbformat_minor": 0,
  "metadata": {
    "colab": {
      "provenance": []
    },
    "kernelspec": {
      "name": "python3",
      "display_name": "Python 3"
    },
    "language_info": {
      "name": "python"
    }
  },
  "cells": [
    {
      "cell_type": "code",
      "source": [
        "def get_spans(df, partition, scale=None):\n",
        "    \"\"\"\n",
        "    :param        df: the dataframe for which to calculate the spans\n",
        "    :param partition: the partition for which to calculate the spans\n",
        "    :param     scale: if given, the spans of each column will be divided\n",
        "                      by the value in `scale` for that column\n",
        "    :        returns: The spans of all columns in the partition\n",
        "    \"\"\"\n",
        "    spans = {}\n",
        "    for column in df.columns:\n",
        "        if column in categorical:\n",
        "            span = len(df[column][partition].unique())\n",
        "            #print(\"span-cat\",span)\n",
        "        else:\n",
        "            span = df[column][partition].max()-df[column][partition].min()\n",
        "            #print(\"span-num\",span)\n",
        "        if scale is not None:\n",
        "            span = span/scale[column]\n",
        "            #print(\"span/scale-num\",span)\n",
        "        spans[column] = span\n",
        "    return spans\n",
        "'''def get_spans(df, partition, scale=None):\n",
        "    spans = {}\n",
        "    for column in feature_columns:\n",
        "        if df[column].dtype.name == \"category\":\n",
        "            span = len(df[column][partition].unique())\n",
        "        else:\n",
        "            span = (\n",
        "                df[column][partition].max() - df[column][partition].min()\n",
        "            )\n",
        "        if scale is not None:\n",
        "            span = span / scale[column]\n",
        "        spans[column] = span\n",
        "    return spans'''\n",
        "def split(df, partition, column):\n",
        "    \"\"\"\n",
        "    :param        df: The dataframe to split\n",
        "    :param partition: The partition to split\n",
        "    :param    column: The column along which to split\n",
        "    :        returns: A tuple containing a split of the original partition\n",
        "    \"\"\"\n",
        "    dfp = df[column][partition]\n",
        "    if column in categorical:\n",
        "        values = dfp.unique()\n",
        "        lv = set(values[:len(values)//2])\n",
        "        #print(\"lv-cat\",lv)\n",
        "        rv = set(values[len(values)//2:])\n",
        "        #print(\"rv-cat\",rv)\n",
        "        return dfp.index[dfp.isin(lv)], dfp.index[dfp.isin(rv)]\n",
        "    else:\n",
        "        median = dfp.median()\n",
        "        dfl = dfp.index[dfp < median]\n",
        "        #print(\"dfl-num\",dfl)\n",
        "        dfr = dfp.index[dfp >= median]\n",
        "        #print(\"dfr-num\",dfr)\n",
        "        return (dfl, dfr)\n",
        "def is_k_anonymous(df, partition, sensitive_column, k=3):\n",
        "    \"\"\"\n",
        "    :param               df: The dataframe on which to check the partition.\n",
        "    :param        partition: The partition of the dataframe to check.\n",
        "    :param sensitive_column: The name of the sensitive column\n",
        "    :param                k: The desired k\n",
        "    :returns               : True if the partition is valid according to our k-anonymity criteria, False otherwise.\n",
        "    \"\"\"\n",
        "    if len(partition) < k:\n",
        "        return False\n",
        "    return True\n",
        "\n",
        "def partition_dataset(df, feature_columns, sensitive_column, scale, is_valid):\n",
        "    \"\"\"\n",
        "    :param               df: The dataframe to be partitioned.\n",
        "    :param  feature_columns: A list of column names along which to partition the dataset.\n",
        "    :param sensitive_column: The name of the sensitive column (to be passed on to the `is_valid` function)\n",
        "    :param            scale: The column spans as generated before.\n",
        "    :param         is_valid: A function that takes a dataframe and a partition and returns True if the partition is valid.\n",
        "    :returns               : A list of valid partitions that cover the entire dataframe.\n",
        "    \"\"\"\n",
        "    finished_partitions = []\n",
        "    partitions = [df.index]\n",
        "    while partitions:\n",
        "        partition = partitions.pop(0)\n",
        "        #print(\"partition\",partition)\n",
        "        spans = get_spans(df[feature_columns], partition, scale)\n",
        "        #print(\"spans\",spans)\n",
        "        for column, span in sorted(spans.items(), key=lambda x:-x[1]):\n",
        "            lp, rp = split(df, partition, column)\n",
        "            #print(\"lp\",lp)\n",
        "            #print(\"rp\",rp)\n",
        "            if not is_valid(df, lp, sensitive_column) or not is_valid(df, rp, sensitive_column):\n",
        "                #print(\"continue happened\")\n",
        "                continue\n",
        "            #print(\"satisfied if here\")\n",
        "            partitions.extend((lp, rp))\n",
        "            #print(\"breaking\")\n",
        "            break\n",
        "        else:\n",
        "            #print(\"satisfied else here\")\n",
        "            finished_partitions.append(partition)\n",
        "            #print(\"appending fin part here\",finished_partitions)\n",
        "    return finished_partitions\n",
        "def agg_categorical_column(series):\n",
        "    return [','.join(set(series))]\n",
        "\n",
        "def agg_numerical_column(series):\n",
        "    return [series.mean()]\n",
        "def build_anonymized_dataset(df, partitions, feature_columns, sensitive_column, max_partitions=None):\n",
        "    aggregations = {}\n",
        "    for column in feature_columns:\n",
        "        if column in categorical:\n",
        "            aggregations[column] = agg_categorical_column\n",
        "        else:\n",
        "            aggregations[column] = agg_numerical_column\n",
        "    rows = []\n",
        "    for i, partition in enumerate(partitions):\n",
        "        if i % 100 == 1:\n",
        "            print(\"Finished {} partitions...\".format(i))\n",
        "        if max_partitions is not None and i > max_partitions:\n",
        "            break\n",
        "        grouped_columns = df.loc[partition].agg(aggregations, squeeze=False)\n",
        "        #print(\"grouped_columns\",grouped_columns)\n",
        "        sensitive_counts = df.loc[partition].groupby(sensitive_column).agg({sensitive_column: 'count'})\n",
        "        #print(\"sensitive-columns\",sensitive_counts)\n",
        "\n",
        "        # Check if grouped_columns is a list\n",
        "        if isinstance(grouped_columns, list):\n",
        "            # If it's a list, iterate over each DataFrame and process\n",
        "            for group_df in grouped_columns:\n",
        "                values = group_df.iloc[0].to_dict()\n",
        "                for sensitive_value, count in sensitive_counts[sensitive_column].items():\n",
        "                    if count == 0:\n",
        "                        continue\n",
        "                    values.update({\n",
        "                        sensitive_column: sensitive_value,\n",
        "                        'count': count,\n",
        "                    })\n",
        "                    rows.append(values.copy())\n",
        "        else:\n",
        "            # If it's not a list, it's a single DataFrame, so process it directly\n",
        "            #print(\"not list\")\n",
        "            values = grouped_columns.to_dict()\n",
        "            for sensitive_value, count in sensitive_counts[sensitive_column].items():\n",
        "                if count == 0:\n",
        "                    continue\n",
        "                values.update({\n",
        "                    sensitive_column: sensitive_value,\n",
        "                    'count': count,\n",
        "                })\n",
        "                rows.append(values.copy())\n",
        "\n",
        "    return pd.DataFrame(rows)\n",
        "def diversity(df, partition, column):\n",
        "    return len(df[column][partition].unique())\n",
        "\n",
        "def is_l_diverse(df, partition, sensitive_column, l=2):\n",
        "    \"\"\"\n",
        "    :param               df: The dataframe for which to check l-diversity\n",
        "    :param        partition: The partition of the dataframe on which to check l-diversity\n",
        "    :param sensitive_column: The name of the sensitive column\n",
        "    :param                l: The minimum required diversity of sensitive attribute values in the partition\n",
        "    \"\"\"\n",
        "    return diversity(df, partition, sensitive_column) >= l\n",
        "\n",
        "def t_closeness(df, partition, column, global_freqs):\n",
        "    total_count = float(len(partition))\n",
        "    d_max = None\n",
        "    group_counts = df.loc[partition].groupby(column)[column].agg('count')\n",
        "    for value, count in group_counts.to_dict().items():\n",
        "        p = count/total_count\n",
        "        d = abs(p-global_freqs[value])\n",
        "        if d_max is None or d > d_max:\n",
        "            d_max = d\n",
        "    return d_max\n",
        "\n",
        "def is_t_close(df, partition, sensitive_column, global_freqs, p=0.2):\n",
        "    \"\"\"\n",
        "    :param               df: The dataframe for which to check l-diversity\n",
        "    :param        partition: The partition of the dataframe on which to check l-diversity\n",
        "    :param sensitive_column: The name of the sensitive column\n",
        "    :param     global_freqs: The global frequencies of the sensitive attribute values\n",
        "    :param                p: The maximum allowed Kolmogorov-Smirnov distance\n",
        "    \"\"\"\n",
        "    if not sensitive_column in categorical:\n",
        "        raise ValueError(\"this method only works for categorical values\")\n",
        "    return t_closeness(df, partition, sensitive_column, global_freqs) <= p"
      ],
      "metadata": {
        "id": "QbXSkKXuJdhD"
      },
      "execution_count": null,
      "outputs": []
    },
    {
      "cell_type": "markdown",
      "source": [
        "**For Adult Dataset**"
      ],
      "metadata": {
        "id": "XyrZrRbGFSDx"
      }
    },
    {
      "cell_type": "code",
      "source": [
        "import pandas as pd\n",
        "from google.colab import drive\n",
        "drive.mount('/content/drive')\n",
        "# this is a list of the column names in our dataset (as the file doesn't contain any headers)\n",
        "names = (\n",
        "    'age',\n",
        "    'workclass', #Private, Self-emp-not-inc, Self-emp-inc, Federal-gov, Local-gov, State-gov, Without-pay, Never-worked.\n",
        "    'fnlwgt',\n",
        "    'education',\n",
        "    'education-num',\n",
        "    'marital-status',\n",
        "    'occupation',\n",
        "    'relationship',\n",
        "    'race',\n",
        "    'sex',\n",
        "    'capital-gain',\n",
        "    'capital-loss',\n",
        "    'hours-per-week',\n",
        "    'native-country',\n",
        "    'income',\n",
        ")\n",
        "\n",
        "# some fields are categorical and will require special treatment\n",
        "categorical = set((\n",
        "    'workclass',\n",
        "    'education',\n",
        "    'marital-status',\n",
        "    'occupation',\n",
        "    'relationship',\n",
        "    'sex',\n",
        "    'native-country',\n",
        "    'race',\n",
        "    'income',\n",
        "))\n",
        "path=\"/content/drive/My Drive/Data Privacy Assignment/Data Priv_dataset/Adult_test.csv\"\n",
        "df = pd.read_csv(path, header=None, names=names, engine='python');# We load the data using Pandas\n",
        "for name in categorical:\n",
        "    df[name] = df[name].astype(\"category\")\n",
        "df"
      ],
      "metadata": {
        "colab": {
          "base_uri": "https://localhost:8080/",
          "height": 441
        },
        "id": "vRKfKDR_Fa5g",
        "outputId": "cb048e1f-5ddf-4031-c5c6-fa8d53e18cfb"
      },
      "execution_count": null,
      "outputs": [
        {
          "output_type": "stream",
          "name": "stdout",
          "text": [
            "Mounted at /content/drive\n"
          ]
        },
        {
          "output_type": "execute_result",
          "data": {
            "text/plain": [
              "       age         workclass  fnlwgt   education  education-num  \\\n",
              "0       39         State-gov   77516   Bachelors             13   \n",
              "1       50  Self-emp-not-inc   83311   Bachelors             13   \n",
              "2       38           Private  215646     HS-grad              9   \n",
              "3       53           Private  234721        11th              7   \n",
              "4       28           Private  338409   Bachelors             13   \n",
              "...    ...               ...     ...         ...            ...   \n",
              "32556   27           Private  257302  Assoc-acdm             12   \n",
              "32557   40           Private  154374     HS-grad              9   \n",
              "32558   58           Private  151910     HS-grad              9   \n",
              "32559   22           Private  201490     HS-grad              9   \n",
              "32560   52      Self-emp-inc  287927     HS-grad              9   \n",
              "\n",
              "           marital-status         occupation   relationship   race     sex  \\\n",
              "0           Never-married       Adm-clerical  Not-in-family  White    Male   \n",
              "1      Married-civ-spouse    Exec-managerial        Husband  White    Male   \n",
              "2                Divorced  Handlers-cleaners  Not-in-family  White    Male   \n",
              "3      Married-civ-spouse  Handlers-cleaners        Husband  Black    Male   \n",
              "4      Married-civ-spouse     Prof-specialty           Wife  Black  Female   \n",
              "...                   ...                ...            ...    ...     ...   \n",
              "32556  Married-civ-spouse       Tech-support           Wife  White  Female   \n",
              "32557  Married-civ-spouse  Machine-op-inspct        Husband  White    Male   \n",
              "32558             Widowed       Adm-clerical      Unmarried  White  Female   \n",
              "32559       Never-married       Adm-clerical      Own-child  White    Male   \n",
              "32560  Married-civ-spouse    Exec-managerial           Wife  White  Female   \n",
              "\n",
              "       capital-gain  capital-loss  hours-per-week native-country income  \n",
              "0              2174             0              40  United-States  <=50K  \n",
              "1                 0             0              13  United-States  <=50K  \n",
              "2                 0             0              40  United-States  <=50K  \n",
              "3                 0             0              40  United-States  <=50K  \n",
              "4                 0             0              40           Cuba  <=50K  \n",
              "...             ...           ...             ...            ...    ...  \n",
              "32556             0             0              38  United-States  <=50K  \n",
              "32557             0             0              40  United-States   >50K  \n",
              "32558             0             0              40  United-States  <=50K  \n",
              "32559             0             0              20  United-States  <=50K  \n",
              "32560         15024             0              40  United-States   >50K  \n",
              "\n",
              "[32561 rows x 15 columns]"
            ],
            "text/html": [
              "\n",
              "  <div id=\"df-fa454a1b-a6c3-4a3e-8732-6dfbdee1c546\" class=\"colab-df-container\">\n",
              "    <div>\n",
              "<style scoped>\n",
              "    .dataframe tbody tr th:only-of-type {\n",
              "        vertical-align: middle;\n",
              "    }\n",
              "\n",
              "    .dataframe tbody tr th {\n",
              "        vertical-align: top;\n",
              "    }\n",
              "\n",
              "    .dataframe thead th {\n",
              "        text-align: right;\n",
              "    }\n",
              "</style>\n",
              "<table border=\"1\" class=\"dataframe\">\n",
              "  <thead>\n",
              "    <tr style=\"text-align: right;\">\n",
              "      <th></th>\n",
              "      <th>age</th>\n",
              "      <th>workclass</th>\n",
              "      <th>fnlwgt</th>\n",
              "      <th>education</th>\n",
              "      <th>education-num</th>\n",
              "      <th>marital-status</th>\n",
              "      <th>occupation</th>\n",
              "      <th>relationship</th>\n",
              "      <th>race</th>\n",
              "      <th>sex</th>\n",
              "      <th>capital-gain</th>\n",
              "      <th>capital-loss</th>\n",
              "      <th>hours-per-week</th>\n",
              "      <th>native-country</th>\n",
              "      <th>income</th>\n",
              "    </tr>\n",
              "  </thead>\n",
              "  <tbody>\n",
              "    <tr>\n",
              "      <th>0</th>\n",
              "      <td>39</td>\n",
              "      <td>State-gov</td>\n",
              "      <td>77516</td>\n",
              "      <td>Bachelors</td>\n",
              "      <td>13</td>\n",
              "      <td>Never-married</td>\n",
              "      <td>Adm-clerical</td>\n",
              "      <td>Not-in-family</td>\n",
              "      <td>White</td>\n",
              "      <td>Male</td>\n",
              "      <td>2174</td>\n",
              "      <td>0</td>\n",
              "      <td>40</td>\n",
              "      <td>United-States</td>\n",
              "      <td>&lt;=50K</td>\n",
              "    </tr>\n",
              "    <tr>\n",
              "      <th>1</th>\n",
              "      <td>50</td>\n",
              "      <td>Self-emp-not-inc</td>\n",
              "      <td>83311</td>\n",
              "      <td>Bachelors</td>\n",
              "      <td>13</td>\n",
              "      <td>Married-civ-spouse</td>\n",
              "      <td>Exec-managerial</td>\n",
              "      <td>Husband</td>\n",
              "      <td>White</td>\n",
              "      <td>Male</td>\n",
              "      <td>0</td>\n",
              "      <td>0</td>\n",
              "      <td>13</td>\n",
              "      <td>United-States</td>\n",
              "      <td>&lt;=50K</td>\n",
              "    </tr>\n",
              "    <tr>\n",
              "      <th>2</th>\n",
              "      <td>38</td>\n",
              "      <td>Private</td>\n",
              "      <td>215646</td>\n",
              "      <td>HS-grad</td>\n",
              "      <td>9</td>\n",
              "      <td>Divorced</td>\n",
              "      <td>Handlers-cleaners</td>\n",
              "      <td>Not-in-family</td>\n",
              "      <td>White</td>\n",
              "      <td>Male</td>\n",
              "      <td>0</td>\n",
              "      <td>0</td>\n",
              "      <td>40</td>\n",
              "      <td>United-States</td>\n",
              "      <td>&lt;=50K</td>\n",
              "    </tr>\n",
              "    <tr>\n",
              "      <th>3</th>\n",
              "      <td>53</td>\n",
              "      <td>Private</td>\n",
              "      <td>234721</td>\n",
              "      <td>11th</td>\n",
              "      <td>7</td>\n",
              "      <td>Married-civ-spouse</td>\n",
              "      <td>Handlers-cleaners</td>\n",
              "      <td>Husband</td>\n",
              "      <td>Black</td>\n",
              "      <td>Male</td>\n",
              "      <td>0</td>\n",
              "      <td>0</td>\n",
              "      <td>40</td>\n",
              "      <td>United-States</td>\n",
              "      <td>&lt;=50K</td>\n",
              "    </tr>\n",
              "    <tr>\n",
              "      <th>4</th>\n",
              "      <td>28</td>\n",
              "      <td>Private</td>\n",
              "      <td>338409</td>\n",
              "      <td>Bachelors</td>\n",
              "      <td>13</td>\n",
              "      <td>Married-civ-spouse</td>\n",
              "      <td>Prof-specialty</td>\n",
              "      <td>Wife</td>\n",
              "      <td>Black</td>\n",
              "      <td>Female</td>\n",
              "      <td>0</td>\n",
              "      <td>0</td>\n",
              "      <td>40</td>\n",
              "      <td>Cuba</td>\n",
              "      <td>&lt;=50K</td>\n",
              "    </tr>\n",
              "    <tr>\n",
              "      <th>...</th>\n",
              "      <td>...</td>\n",
              "      <td>...</td>\n",
              "      <td>...</td>\n",
              "      <td>...</td>\n",
              "      <td>...</td>\n",
              "      <td>...</td>\n",
              "      <td>...</td>\n",
              "      <td>...</td>\n",
              "      <td>...</td>\n",
              "      <td>...</td>\n",
              "      <td>...</td>\n",
              "      <td>...</td>\n",
              "      <td>...</td>\n",
              "      <td>...</td>\n",
              "      <td>...</td>\n",
              "    </tr>\n",
              "    <tr>\n",
              "      <th>32556</th>\n",
              "      <td>27</td>\n",
              "      <td>Private</td>\n",
              "      <td>257302</td>\n",
              "      <td>Assoc-acdm</td>\n",
              "      <td>12</td>\n",
              "      <td>Married-civ-spouse</td>\n",
              "      <td>Tech-support</td>\n",
              "      <td>Wife</td>\n",
              "      <td>White</td>\n",
              "      <td>Female</td>\n",
              "      <td>0</td>\n",
              "      <td>0</td>\n",
              "      <td>38</td>\n",
              "      <td>United-States</td>\n",
              "      <td>&lt;=50K</td>\n",
              "    </tr>\n",
              "    <tr>\n",
              "      <th>32557</th>\n",
              "      <td>40</td>\n",
              "      <td>Private</td>\n",
              "      <td>154374</td>\n",
              "      <td>HS-grad</td>\n",
              "      <td>9</td>\n",
              "      <td>Married-civ-spouse</td>\n",
              "      <td>Machine-op-inspct</td>\n",
              "      <td>Husband</td>\n",
              "      <td>White</td>\n",
              "      <td>Male</td>\n",
              "      <td>0</td>\n",
              "      <td>0</td>\n",
              "      <td>40</td>\n",
              "      <td>United-States</td>\n",
              "      <td>&gt;50K</td>\n",
              "    </tr>\n",
              "    <tr>\n",
              "      <th>32558</th>\n",
              "      <td>58</td>\n",
              "      <td>Private</td>\n",
              "      <td>151910</td>\n",
              "      <td>HS-grad</td>\n",
              "      <td>9</td>\n",
              "      <td>Widowed</td>\n",
              "      <td>Adm-clerical</td>\n",
              "      <td>Unmarried</td>\n",
              "      <td>White</td>\n",
              "      <td>Female</td>\n",
              "      <td>0</td>\n",
              "      <td>0</td>\n",
              "      <td>40</td>\n",
              "      <td>United-States</td>\n",
              "      <td>&lt;=50K</td>\n",
              "    </tr>\n",
              "    <tr>\n",
              "      <th>32559</th>\n",
              "      <td>22</td>\n",
              "      <td>Private</td>\n",
              "      <td>201490</td>\n",
              "      <td>HS-grad</td>\n",
              "      <td>9</td>\n",
              "      <td>Never-married</td>\n",
              "      <td>Adm-clerical</td>\n",
              "      <td>Own-child</td>\n",
              "      <td>White</td>\n",
              "      <td>Male</td>\n",
              "      <td>0</td>\n",
              "      <td>0</td>\n",
              "      <td>20</td>\n",
              "      <td>United-States</td>\n",
              "      <td>&lt;=50K</td>\n",
              "    </tr>\n",
              "    <tr>\n",
              "      <th>32560</th>\n",
              "      <td>52</td>\n",
              "      <td>Self-emp-inc</td>\n",
              "      <td>287927</td>\n",
              "      <td>HS-grad</td>\n",
              "      <td>9</td>\n",
              "      <td>Married-civ-spouse</td>\n",
              "      <td>Exec-managerial</td>\n",
              "      <td>Wife</td>\n",
              "      <td>White</td>\n",
              "      <td>Female</td>\n",
              "      <td>15024</td>\n",
              "      <td>0</td>\n",
              "      <td>40</td>\n",
              "      <td>United-States</td>\n",
              "      <td>&gt;50K</td>\n",
              "    </tr>\n",
              "  </tbody>\n",
              "</table>\n",
              "<p>32561 rows × 15 columns</p>\n",
              "</div>\n",
              "    <div class=\"colab-df-buttons\">\n",
              "\n",
              "  <div class=\"colab-df-container\">\n",
              "    <button class=\"colab-df-convert\" onclick=\"convertToInteractive('df-fa454a1b-a6c3-4a3e-8732-6dfbdee1c546')\"\n",
              "            title=\"Convert this dataframe to an interactive table.\"\n",
              "            style=\"display:none;\">\n",
              "\n",
              "  <svg xmlns=\"http://www.w3.org/2000/svg\" height=\"24px\" viewBox=\"0 -960 960 960\">\n",
              "    <path d=\"M120-120v-720h720v720H120Zm60-500h600v-160H180v160Zm220 220h160v-160H400v160Zm0 220h160v-160H400v160ZM180-400h160v-160H180v160Zm440 0h160v-160H620v160ZM180-180h160v-160H180v160Zm440 0h160v-160H620v160Z\"/>\n",
              "  </svg>\n",
              "    </button>\n",
              "\n",
              "  <style>\n",
              "    .colab-df-container {\n",
              "      display:flex;\n",
              "      gap: 12px;\n",
              "    }\n",
              "\n",
              "    .colab-df-convert {\n",
              "      background-color: #E8F0FE;\n",
              "      border: none;\n",
              "      border-radius: 50%;\n",
              "      cursor: pointer;\n",
              "      display: none;\n",
              "      fill: #1967D2;\n",
              "      height: 32px;\n",
              "      padding: 0 0 0 0;\n",
              "      width: 32px;\n",
              "    }\n",
              "\n",
              "    .colab-df-convert:hover {\n",
              "      background-color: #E2EBFA;\n",
              "      box-shadow: 0px 1px 2px rgba(60, 64, 67, 0.3), 0px 1px 3px 1px rgba(60, 64, 67, 0.15);\n",
              "      fill: #174EA6;\n",
              "    }\n",
              "\n",
              "    .colab-df-buttons div {\n",
              "      margin-bottom: 4px;\n",
              "    }\n",
              "\n",
              "    [theme=dark] .colab-df-convert {\n",
              "      background-color: #3B4455;\n",
              "      fill: #D2E3FC;\n",
              "    }\n",
              "\n",
              "    [theme=dark] .colab-df-convert:hover {\n",
              "      background-color: #434B5C;\n",
              "      box-shadow: 0px 1px 3px 1px rgba(0, 0, 0, 0.15);\n",
              "      filter: drop-shadow(0px 1px 2px rgba(0, 0, 0, 0.3));\n",
              "      fill: #FFFFFF;\n",
              "    }\n",
              "  </style>\n",
              "\n",
              "    <script>\n",
              "      const buttonEl =\n",
              "        document.querySelector('#df-fa454a1b-a6c3-4a3e-8732-6dfbdee1c546 button.colab-df-convert');\n",
              "      buttonEl.style.display =\n",
              "        google.colab.kernel.accessAllowed ? 'block' : 'none';\n",
              "\n",
              "      async function convertToInteractive(key) {\n",
              "        const element = document.querySelector('#df-fa454a1b-a6c3-4a3e-8732-6dfbdee1c546');\n",
              "        const dataTable =\n",
              "          await google.colab.kernel.invokeFunction('convertToInteractive',\n",
              "                                                    [key], {});\n",
              "        if (!dataTable) return;\n",
              "\n",
              "        const docLinkHtml = 'Like what you see? Visit the ' +\n",
              "          '<a target=\"_blank\" href=https://colab.research.google.com/notebooks/data_table.ipynb>data table notebook</a>'\n",
              "          + ' to learn more about interactive tables.';\n",
              "        element.innerHTML = '';\n",
              "        dataTable['output_type'] = 'display_data';\n",
              "        await google.colab.output.renderOutput(dataTable, element);\n",
              "        const docLink = document.createElement('div');\n",
              "        docLink.innerHTML = docLinkHtml;\n",
              "        element.appendChild(docLink);\n",
              "      }\n",
              "    </script>\n",
              "  </div>\n",
              "\n",
              "\n",
              "<div id=\"df-4ea54611-08f4-4935-9fd6-bc30f3b4f8ae\">\n",
              "  <button class=\"colab-df-quickchart\" onclick=\"quickchart('df-4ea54611-08f4-4935-9fd6-bc30f3b4f8ae')\"\n",
              "            title=\"Suggest charts\"\n",
              "            style=\"display:none;\">\n",
              "\n",
              "<svg xmlns=\"http://www.w3.org/2000/svg\" height=\"24px\"viewBox=\"0 0 24 24\"\n",
              "     width=\"24px\">\n",
              "    <g>\n",
              "        <path d=\"M19 3H5c-1.1 0-2 .9-2 2v14c0 1.1.9 2 2 2h14c1.1 0 2-.9 2-2V5c0-1.1-.9-2-2-2zM9 17H7v-7h2v7zm4 0h-2V7h2v10zm4 0h-2v-4h2v4z\"/>\n",
              "    </g>\n",
              "</svg>\n",
              "  </button>\n",
              "\n",
              "<style>\n",
              "  .colab-df-quickchart {\n",
              "      --bg-color: #E8F0FE;\n",
              "      --fill-color: #1967D2;\n",
              "      --hover-bg-color: #E2EBFA;\n",
              "      --hover-fill-color: #174EA6;\n",
              "      --disabled-fill-color: #AAA;\n",
              "      --disabled-bg-color: #DDD;\n",
              "  }\n",
              "\n",
              "  [theme=dark] .colab-df-quickchart {\n",
              "      --bg-color: #3B4455;\n",
              "      --fill-color: #D2E3FC;\n",
              "      --hover-bg-color: #434B5C;\n",
              "      --hover-fill-color: #FFFFFF;\n",
              "      --disabled-bg-color: #3B4455;\n",
              "      --disabled-fill-color: #666;\n",
              "  }\n",
              "\n",
              "  .colab-df-quickchart {\n",
              "    background-color: var(--bg-color);\n",
              "    border: none;\n",
              "    border-radius: 50%;\n",
              "    cursor: pointer;\n",
              "    display: none;\n",
              "    fill: var(--fill-color);\n",
              "    height: 32px;\n",
              "    padding: 0;\n",
              "    width: 32px;\n",
              "  }\n",
              "\n",
              "  .colab-df-quickchart:hover {\n",
              "    background-color: var(--hover-bg-color);\n",
              "    box-shadow: 0 1px 2px rgba(60, 64, 67, 0.3), 0 1px 3px 1px rgba(60, 64, 67, 0.15);\n",
              "    fill: var(--button-hover-fill-color);\n",
              "  }\n",
              "\n",
              "  .colab-df-quickchart-complete:disabled,\n",
              "  .colab-df-quickchart-complete:disabled:hover {\n",
              "    background-color: var(--disabled-bg-color);\n",
              "    fill: var(--disabled-fill-color);\n",
              "    box-shadow: none;\n",
              "  }\n",
              "\n",
              "  .colab-df-spinner {\n",
              "    border: 2px solid var(--fill-color);\n",
              "    border-color: transparent;\n",
              "    border-bottom-color: var(--fill-color);\n",
              "    animation:\n",
              "      spin 1s steps(1) infinite;\n",
              "  }\n",
              "\n",
              "  @keyframes spin {\n",
              "    0% {\n",
              "      border-color: transparent;\n",
              "      border-bottom-color: var(--fill-color);\n",
              "      border-left-color: var(--fill-color);\n",
              "    }\n",
              "    20% {\n",
              "      border-color: transparent;\n",
              "      border-left-color: var(--fill-color);\n",
              "      border-top-color: var(--fill-color);\n",
              "    }\n",
              "    30% {\n",
              "      border-color: transparent;\n",
              "      border-left-color: var(--fill-color);\n",
              "      border-top-color: var(--fill-color);\n",
              "      border-right-color: var(--fill-color);\n",
              "    }\n",
              "    40% {\n",
              "      border-color: transparent;\n",
              "      border-right-color: var(--fill-color);\n",
              "      border-top-color: var(--fill-color);\n",
              "    }\n",
              "    60% {\n",
              "      border-color: transparent;\n",
              "      border-right-color: var(--fill-color);\n",
              "    }\n",
              "    80% {\n",
              "      border-color: transparent;\n",
              "      border-right-color: var(--fill-color);\n",
              "      border-bottom-color: var(--fill-color);\n",
              "    }\n",
              "    90% {\n",
              "      border-color: transparent;\n",
              "      border-bottom-color: var(--fill-color);\n",
              "    }\n",
              "  }\n",
              "</style>\n",
              "\n",
              "  <script>\n",
              "    async function quickchart(key) {\n",
              "      const quickchartButtonEl =\n",
              "        document.querySelector('#' + key + ' button');\n",
              "      quickchartButtonEl.disabled = true;  // To prevent multiple clicks.\n",
              "      quickchartButtonEl.classList.add('colab-df-spinner');\n",
              "      try {\n",
              "        const charts = await google.colab.kernel.invokeFunction(\n",
              "            'suggestCharts', [key], {});\n",
              "      } catch (error) {\n",
              "        console.error('Error during call to suggestCharts:', error);\n",
              "      }\n",
              "      quickchartButtonEl.classList.remove('colab-df-spinner');\n",
              "      quickchartButtonEl.classList.add('colab-df-quickchart-complete');\n",
              "    }\n",
              "    (() => {\n",
              "      let quickchartButtonEl =\n",
              "        document.querySelector('#df-4ea54611-08f4-4935-9fd6-bc30f3b4f8ae button');\n",
              "      quickchartButtonEl.style.display =\n",
              "        google.colab.kernel.accessAllowed ? 'block' : 'none';\n",
              "    })();\n",
              "  </script>\n",
              "</div>\n",
              "    </div>\n",
              "  </div>\n"
            ]
          },
          "metadata": {},
          "execution_count": 2
        }
      ]
    },
    {
      "cell_type": "markdown",
      "source": [
        "K=3"
      ],
      "metadata": {
        "id": "U6xc6x5WLX7H"
      }
    },
    {
      "cell_type": "code",
      "source": [
        "def is_k_anonymous(df, partition, sensitive_column, k=3):\n",
        "    \"\"\"\n",
        "    :param               df: The dataframe on which to check the partition.\n",
        "    :param        partition: The partition of the dataframe to check.\n",
        "    :param sensitive_column: The name of the sensitive column\n",
        "    :param                k: The desired k\n",
        "    :returns               : True if the partition is valid according to our k-anonymity criteria, False otherwise.\n",
        "    \"\"\"\n",
        "    if len(partition) < k:\n",
        "        return False\n",
        "    return True\n",
        "full_spans = get_spans(df, df.index)\n",
        "# we apply our partitioning method to two columns of our dataset, using \"occupation\" as the sensitive attribute\n",
        "feature_columns = ['age', 'education', 'marital-status', 'race']\n",
        "sensitive_column = 'occupation'\n",
        "finished_partitions = partition_dataset(df, feature_columns, sensitive_column, full_spans, is_k_anonymous)\n",
        "#dfn_adult = build_anonymized_dataset(df, finished_partitions, feature_columns, sensitive_column)\n",
        "#dfn_adult"
      ],
      "metadata": {
        "id": "otromJXBLGkA"
      },
      "execution_count": null,
      "outputs": []
    },
    {
      "cell_type": "code",
      "source": [
        "def count_anonymity(\n",
        "    df, partitions, feature_columns, sensitive_column, max_partitions=None\n",
        "):\n",
        "    aggregations = {}\n",
        "    for column in feature_columns:\n",
        "        if df[column].dtype.name == \"category\":\n",
        "            aggregations[column] = agg_categorical_column\n",
        "        else:\n",
        "            aggregations[column] = agg_numerical_column\n",
        "    aggregations[sensitive_column] = \"count\"\n",
        "    rows = []\n",
        "    for i, partition in enumerate(partitions):\n",
        "        if max_partitions is not None and i > max_partitions:\n",
        "            break\n",
        "        grouped_columns = df.loc[partition].agg(aggregations, squeeze=False)\n",
        "        sensitive_counts = df.loc[partition].groupby(sensitive_column).agg({sensitive_column: 'count'})\n",
        "\n",
        "        # Check if grouped_columns is a list\n",
        "        if isinstance(grouped_columns, list):\n",
        "            # If it's a list, iterate over each DataFrame and process\n",
        "            for group_df in grouped_columns:\n",
        "                values = group_df.apply(lambda x: x[0] if isinstance(x, list) and len(x) > 0 else x).to_dict()\n",
        "                for sensitive_value, count in sensitive_counts[sensitive_column].items():\n",
        "                    if count == 0:\n",
        "                        continue\n",
        "                    values.update({\n",
        "                        sensitive_column: sensitive_value,\n",
        "                        'count': count,\n",
        "                    })\n",
        "                    rows.append(values.copy())\n",
        "        else:\n",
        "            # If it's not a list, it's a single DataFrame, so process it directly\n",
        "            values = grouped_columns.apply(lambda x: x[0] if isinstance(x, list) and len(x) > 0 else x).to_dict()\n",
        "            for sensitive_value, count in sensitive_counts[sensitive_column].items():\n",
        "                if count == 0:\n",
        "                    continue\n",
        "                values.update({\n",
        "                    sensitive_column: sensitive_value,\n",
        "                    'count': count,\n",
        "                })\n",
        "                rows.append(values.copy())\n",
        "\n",
        "    return rows\n",
        "dfn_ad_count=count_anonymity(df, finished_partitions, feature_columns, sensitive_column)\n",
        "sort_dfn_cnt = sorted(dfn_ad_count, key=lambda x: x['age'])\n",
        "sort_dfn_cnt[:5]"
      ],
      "metadata": {
        "colab": {
          "base_uri": "https://localhost:8080/"
        },
        "id": "pFt7VbOhLPLv",
        "outputId": "4dc0a297-20f2-47ef-a6b4-9c13fde40471"
      },
      "execution_count": null,
      "outputs": [
        {
          "output_type": "execute_result",
          "data": {
            "text/plain": [
              "[{'age': 17.0,\n",
              "  'education': '10th',\n",
              "  'marital-status': 'Never-married',\n",
              "  'race': 'White',\n",
              "  'occupation': '?',\n",
              "  'count': 29},\n",
              " {'age': 17.0,\n",
              "  'education': '10th',\n",
              "  'marital-status': 'Never-married',\n",
              "  'race': 'White',\n",
              "  'occupation': 'Adm-clerical',\n",
              "  'count': 2},\n",
              " {'age': 17.0,\n",
              "  'education': '10th',\n",
              "  'marital-status': 'Never-married',\n",
              "  'race': 'White',\n",
              "  'occupation': 'Craft-repair',\n",
              "  'count': 2},\n",
              " {'age': 17.0,\n",
              "  'education': '10th',\n",
              "  'marital-status': 'Never-married',\n",
              "  'race': 'White',\n",
              "  'occupation': 'Farming-fishing',\n",
              "  'count': 4},\n",
              " {'age': 17.0,\n",
              "  'education': '10th',\n",
              "  'marital-status': 'Never-married',\n",
              "  'race': 'White',\n",
              "  'occupation': 'Handlers-cleaners',\n",
              "  'count': 8}]"
            ]
          },
          "metadata": {},
          "execution_count": 10
        }
      ]
    },
    {
      "cell_type": "code",
      "source": [
        "import pandas as pd\n",
        "import numpy as np\n",
        "from sklearn.neighbors import KDTree\n",
        "#!pip install category_encoders\n",
        "import category_encoders as ce\n",
        "\n",
        "class RecordLinkage:\n",
        "    def __init__(self, df, knowledge):\n",
        "        self.df = df\n",
        "        self.knowledge = knowledge\n",
        "\n",
        "        categories = (df.dtypes == \"object\").keys().to_list()\n",
        "        self.enc = ce.OneHotEncoder(cols=categories, drop_invariant=False)\n",
        "        df_concat = pd.concat([self.df, self.knowledge], ignore_index=True)\n",
        "        self.enc.fit(df_concat)\n",
        "\n",
        "    def execute(self, k=3):\n",
        "        enc_df = self.enc.transform(self.df).astype(\"float64\").values\n",
        "        enc_knowledge = self.enc.transform(self.knowledge).astype(\"float64\").values\n",
        "\n",
        "        tree = KDTree(enc_df)\n",
        "        dist, index = tree.query(enc_knowledge, k=k)\n",
        "        return dist, index\n",
        "\n",
        "\n",
        "def attack(df, knowledge):\n",
        "    k = 3\n",
        "    a = RecordLinkage(df, knowledge)\n",
        "    ab=[]\n",
        "    dist, index = a.execute(k)\n",
        "\n",
        "    di = pd.DataFrame(np.hstack((index, dist)))\n",
        "    #print(di)\n",
        "\n",
        "    di.loc[di[3] > di[3].median(), :] = -1\n",
        "    #print(di[3].median())\n",
        "    # Display the top three\n",
        "    ab.append(di.iloc[:, 0:k].astype(int))\n",
        "    return di.iloc[:, 0:k].astype(int),ab\n",
        "\n",
        "path1=\"/content/drive/My Drive/Data Privacy Assignment/adult_attack1.csv\"\n",
        "dfa_attack = pd.read_csv(path1)\n",
        "\n",
        "# Anonymized data\n",
        "dfad_cnt_k3 = pd.DataFrame(sort_dfn_cnt).loc[:, ['age', 'education', 'marital-status', 'race']]\n",
        "# this is attackers knowledge\n",
        "knowledge = dfa_attack.loc[:, ['age', 'education', 'marital-status', 'race']]\n",
        "\n",
        "rl,ab = attack(dfad_cnt_k3, knowledge)\n",
        "print(rl)\n",
        "\n",
        "link_cnt=0\n",
        "for i in range(11):\n",
        "  for j in range(3):\n",
        "    x=ab[0][j][i]\n",
        "    for k in range(4):\n",
        "      if((dfad_cnt_k3.loc[x][feature_columns[k]])== knowledge.loc[i][feature_columns[k]]):\n",
        "        #print(dfad_cnt_k3.loc[x])\n",
        "        #print(knowledge.loc[i])\n",
        "        link_cnt+=1;\n",
        "\n",
        "print(link_cnt)"
      ],
      "metadata": {
        "colab": {
          "base_uri": "https://localhost:8080/"
        },
        "id": "x9d9OyDRNtHP",
        "outputId": "41c53ffa-f222-4b58-a8e0-533fde103b5f"
      },
      "execution_count": null,
      "outputs": [
        {
          "output_type": "stream",
          "name": "stdout",
          "text": [
            "        0      1      2\n",
            "0   11015  11013  11014\n",
            "1    1204   1203   1208\n",
            "2    2015   2013   2014\n",
            "3   10969  10967  10968\n",
            "4    6722   6720   6721\n",
            "5   11055  11053  11054\n",
            "6   10556  10554  10555\n",
            "7    4425   4435   4424\n",
            "8   11013  10980  10981\n",
            "9   10554  10455  10454\n",
            "10   1206   1207   1208\n",
            "45\n"
          ]
        }
      ]
    },
    {
      "cell_type": "markdown",
      "source": [
        "K=3;L=2"
      ],
      "metadata": {
        "id": "rtG9Bxq_auT0"
      }
    },
    {
      "cell_type": "code",
      "source": [
        "def diversity(df, partition, column):\n",
        "    return len(df[column][partition].unique())\n",
        "\n",
        "def is_l_diverse(df, partition, sensitive_column, l=2):\n",
        "    \"\"\"\n",
        "    :param               df: The dataframe for which to check l-diversity\n",
        "    :param        partition: The partition of the dataframe on which to check l-diversity\n",
        "    :param sensitive_column: The name of the sensitive column\n",
        "    :param                l: The minimum required diversity of sensitive attribute values in the partition\n",
        "    \"\"\"\n",
        "    return diversity(df, partition, sensitive_column) >= l\n",
        "# now let's apply this method to our data and see how the result changes\n",
        "finished_l_diverse_partitions = partition_dataset(df, feature_columns, sensitive_column, full_spans, lambda *args: is_k_anonymous(*args) and is_l_diverse(*args))\n",
        "dfl_ad_count=count_anonymity(df, finished_l_diverse_partitions, feature_columns, sensitive_column)\n",
        "sort_dfl_cnt = sorted(dfl_ad_count, key=lambda x: x['age'])"
      ],
      "metadata": {
        "id": "V7F4oYt1asvY"
      },
      "execution_count": null,
      "outputs": []
    },
    {
      "cell_type": "code",
      "source": [
        "# Anonymized data\n",
        "dflad_cnt_k3l2 = pd.DataFrame(sort_dfl_cnt).loc[:, ['age', 'education', 'marital-status', 'race']]\n",
        "# this is attackers knowledge\n",
        "knowledge = dfa_attack.loc[:, ['age', 'education', 'marital-status', 'race']]\n",
        "\n",
        "rl,ab = attack(dflad_cnt_k3l2, knowledge)\n",
        "print(rl)\n",
        "link_cnt=0\n",
        "for i in range(11):\n",
        "  for j in range(3):\n",
        "    x=ab[0][j][i]\n",
        "    for k in range(4):\n",
        "      if(x!=-1):\n",
        "        if((dflad_cnt_k3l2.loc[x][feature_columns[k]])== knowledge.loc[i][feature_columns[k]]):\n",
        "          #print(dfad_cnt_k3.loc[x])\n",
        "          #print(knowledge.loc[i])\n",
        "          link_cnt+=1;\n",
        "\n",
        "print(link_cnt)"
      ],
      "metadata": {
        "colab": {
          "base_uri": "https://localhost:8080/"
        },
        "id": "P8Blsrp3bVSH",
        "outputId": "91519cbd-1f16-474c-ea80-8a065b462dc6"
      },
      "execution_count": null,
      "outputs": [
        {
          "output_type": "stream",
          "name": "stdout",
          "text": [
            "       0     1     2\n",
            "0     -1    -1    -1\n",
            "1    968   974   967\n",
            "2   1686  1678  1682\n",
            "3     -1    -1    -1\n",
            "4   5534  5531  5530\n",
            "5     -1    -1    -1\n",
            "6   8407  8405  8406\n",
            "7   3653  3671  3651\n",
            "8    189   186   187\n",
            "9   6955  6953  6954\n",
            "10   912   914   913\n",
            "30\n"
          ]
        }
      ]
    },
    {
      "cell_type": "markdown",
      "source": [
        "K=3;L=4"
      ],
      "metadata": {
        "id": "XE48ou7tuh3T"
      }
    },
    {
      "cell_type": "code",
      "source": [
        "def diversity(df, partition, column):\n",
        "    return len(df[column][partition].unique())\n",
        "\n",
        "def is_l_diverse(df, partition, sensitive_column, l=4):\n",
        "    \"\"\"\n",
        "    :param               df: The dataframe for which to check l-diversity\n",
        "    :param        partition: The partition of the dataframe on which to check l-diversity\n",
        "    :param sensitive_column: The name of the sensitive column\n",
        "    :param                l: The minimum required diversity of sensitive attribute values in the partition\n",
        "    \"\"\"\n",
        "    return diversity(df, partition, sensitive_column) >= l\n",
        "# now let's apply this method to our data and see how the result changes\n",
        "finished_l_diverse_partitions = partition_dataset(df, feature_columns, sensitive_column, full_spans, lambda *args: is_k_anonymous(*args) and is_l_diverse(*args))\n",
        "dfl_ad_count=count_anonymity(df, finished_l_diverse_partitions, feature_columns, sensitive_column)\n",
        "sort_dfl_cnt = sorted(dfl_ad_count, key=lambda x: x['age'])\n",
        "\n",
        "# Anonymized data\n",
        "dflad_cnt_k3l4 = pd.DataFrame(sort_dfl_cnt).loc[:, ['age', 'education', 'marital-status', 'race']]\n",
        "# this is attackers knowledge\n",
        "knowledge = dfa_attack.loc[:, ['age', 'education', 'marital-status', 'race']]\n",
        "\n",
        "rl,ab = attack(dflad_cnt_k3l4, knowledge)\n",
        "print(rl)\n",
        "link_cnt=0\n",
        "for i in range(11):\n",
        "  for j in range(3):\n",
        "    x=ab[0][j][i]\n",
        "    for k in range(4):\n",
        "      if(x!=-1):\n",
        "        if((dflad_cnt_k3l4.loc[x][feature_columns[k]])== knowledge.loc[i][feature_columns[k]]):\n",
        "          #print(dfad_cnt_k3.loc[x])\n",
        "          #print(knowledge.loc[i])\n",
        "          link_cnt+=1;\n",
        "\n",
        "print(link_cnt)"
      ],
      "metadata": {
        "colab": {
          "base_uri": "https://localhost:8080/"
        },
        "id": "pOKq_FTlt-a_",
        "outputId": "b75eefd6-829d-4ff7-9458-c1e56192afbd"
      },
      "execution_count": null,
      "outputs": [
        {
          "output_type": "stream",
          "name": "stdout",
          "text": [
            "       0     1     2\n",
            "0     -1    -1    -1\n",
            "1    972   974   973\n",
            "2   1681  1690  1680\n",
            "3     -1    -1    -1\n",
            "4   5543  5544  5532\n",
            "5     -1    -1    -1\n",
            "6   8402  8400  8401\n",
            "7   3687  3689  3688\n",
            "8    187   189   188\n",
            "9   6947  6945  6946\n",
            "10   913   911   912\n",
            "30\n"
          ]
        }
      ]
    },
    {
      "cell_type": "markdown",
      "source": [
        "k=3;L=12"
      ],
      "metadata": {
        "id": "lTRxF9s5g-p3"
      }
    },
    {
      "cell_type": "code",
      "source": [
        "def diversity(df, partition, column):\n",
        "    return len(df[column][partition].unique())\n",
        "\n",
        "def is_l_diverse(df, partition, sensitive_column, l=12):\n",
        "    \"\"\"\n",
        "    :param               df: The dataframe for which to check l-diversity\n",
        "    :param        partition: The partition of the dataframe on which to check l-diversity\n",
        "    :param sensitive_column: The name of the sensitive column\n",
        "    :param                l: The minimum required diversity of sensitive attribute values in the partition\n",
        "    \"\"\"\n",
        "    return diversity(df, partition, sensitive_column) >= l\n",
        "# now let's apply this method to our data and see how the result changes\n",
        "finished_l_diverse_partitions = partition_dataset(df, feature_columns, sensitive_column, full_spans, lambda *args: is_k_anonymous(*args) and is_l_diverse(*args))\n",
        "dfl_ad_count=count_anonymity(df, finished_l_diverse_partitions, feature_columns, sensitive_column)\n",
        "sort_dfl_cnt = sorted(dfl_ad_count, key=lambda x: x['age'])\n",
        "\n",
        "# Anonymized data\n",
        "dflad_cnt_k3l4 = pd.DataFrame(sort_dfl_cnt).loc[:, ['age', 'education', 'marital-status', 'race']]\n",
        "# this is attackers knowledge\n",
        "knowledge = dfa_attack.loc[:, ['age', 'education', 'marital-status', 'race']]\n",
        "\n",
        "rl,ab = attack(dflad_cnt_k3l4, knowledge)\n",
        "print(rl)\n",
        "link_cnt=0\n",
        "for i in range(11):\n",
        "  for j in range(3):\n",
        "    x=ab[0][j][i]\n",
        "    for k in range(4):\n",
        "      if(x!=-1):\n",
        "        if((dflad_cnt_k3l4.loc[x][feature_columns[k]])== knowledge.loc[i][feature_columns[k]]):\n",
        "          #print(dfad_cnt_k3.loc[x])\n",
        "          #print(knowledge.loc[i])\n",
        "          link_cnt+=1;\n",
        "\n",
        "print(link_cnt)"
      ],
      "metadata": {
        "colab": {
          "base_uri": "https://localhost:8080/"
        },
        "id": "vMlKNOrkhAf3",
        "outputId": "b7eebfcb-213d-47f4-841e-2e9181cbb7c6"
      },
      "execution_count": null,
      "outputs": [
        {
          "output_type": "stream",
          "name": "stdout",
          "text": [
            "       0     1     2\n",
            "0     -1    -1    -1\n",
            "1    403   449   402\n",
            "2    827   824   825\n",
            "3     -1    -1    -1\n",
            "4     79    77    78\n",
            "5     -1    -1    -1\n",
            "6    235   234   233\n",
            "7   1726  1725  1724\n",
            "8     -1    -1    -1\n",
            "9    235   234   233\n",
            "10   403   449   402\n",
            "21\n"
          ]
        }
      ]
    },
    {
      "cell_type": "markdown",
      "source": [
        "K=3;P=0.2"
      ],
      "metadata": {
        "id": "tpAeOFh5_Paj"
      }
    },
    {
      "cell_type": "code",
      "source": [
        "# here we generate the global frequencies for the sensitive column\n",
        "global_freqs = {}\n",
        "total_count = float(len(df))\n",
        "group_counts = df.groupby(sensitive_column)[sensitive_column].agg('count')\n",
        "for value, count in group_counts.to_dict().items():\n",
        "    p = count/total_count\n",
        "    global_freqs[value] = p\n",
        "\n",
        "def t_closeness(df, partition, column, global_freqs):\n",
        "    total_count = float(len(partition))\n",
        "    d_max = None\n",
        "    group_counts = df.loc[partition].groupby(column)[column].agg('count')\n",
        "    for value, count in group_counts.to_dict().items():\n",
        "        p = count/total_count\n",
        "        d = abs(p-global_freqs[value])\n",
        "        if d_max is None or d > d_max:\n",
        "            d_max = d\n",
        "    return d_max\n",
        "\n",
        "def is_t_close(df, partition, sensitive_column, global_freqs, p=0.15):\n",
        "    \"\"\"\n",
        "    :param               df: The dataframe for which to check l-diversity\n",
        "    :param        partition: The partition of the dataframe on which to check l-diversity\n",
        "    :param sensitive_column: The name of the sensitive column\n",
        "    :param     global_freqs: The global frequencies of the sensitive attribute values\n",
        "    :param                p: The maximum allowed Kolmogorov-Smirnov distance\n",
        "    \"\"\"\n",
        "    if not sensitive_column in categorical:\n",
        "        raise ValueError(\"this method only works for categorical values\")\n",
        "    return t_closeness(df, partition, sensitive_column, global_freqs) <= p\n",
        "\n",
        "# Let's apply this to our dataset\n",
        "finished_t_close_partitions = partition_dataset(df, feature_columns, sensitive_column, full_spans, lambda *args: is_k_anonymous(*args) and is_t_close(*args, global_freqs))\n",
        "dfp_ad_count=count_anonymity(df, finished_t_close_partitions, feature_columns, sensitive_column)\n",
        "sort_dfp_cnt = sorted(dfp_ad_count, key=lambda x: x['age'])"
      ],
      "metadata": {
        "id": "Lm2ecJXY_lwc"
      },
      "execution_count": null,
      "outputs": []
    },
    {
      "cell_type": "code",
      "source": [
        "# Anonymized data\n",
        "dfpad_cnt_k3p02 = pd.DataFrame(sort_dfp_cnt).loc[:, ['age', 'education', 'marital-status', 'race']]\n",
        "# this is attackers knowledge\n",
        "knowledge = dfa_attack.loc[:, ['age', 'education', 'marital-status', 'race']]\n",
        "\n",
        "rl,ab = attack(dfpad_cnt_k3p02, knowledge)\n",
        "print(rl)\n",
        "link_cnt=0\n",
        "for i in range(11):\n",
        "  for j in range(3):\n",
        "    x=ab[0][j][i]\n",
        "    for k in range(4):\n",
        "      if(x!=-1):\n",
        "        if((dfpad_cnt_k3p02.loc[x][feature_columns[k]])== knowledge.loc[i][feature_columns[k]]):\n",
        "          #print(dfad_cnt_k3.loc[x])\n",
        "          #print(knowledge.loc[i])\n",
        "          link_cnt+=1;\n",
        "\n",
        "print(link_cnt)"
      ],
      "metadata": {
        "colab": {
          "base_uri": "https://localhost:8080/"
        },
        "id": "6P5nJ9U5ky3d",
        "outputId": "c9fd6d33-8688-4431-db5f-96dc29424875"
      },
      "execution_count": null,
      "outputs": [
        {
          "output_type": "stream",
          "name": "stdout",
          "text": [
            "       0     1     2\n",
            "0     -1    -1    -1\n",
            "1    357   356   355\n",
            "2    699   708   703\n",
            "3     -1    -1    -1\n",
            "4   2570  2569  2568\n",
            "5     -1    -1    -1\n",
            "6    341   344   342\n",
            "7   1684  1679  1686\n",
            "8     -1    -1    -1\n",
            "9    341   344   342\n",
            "10   357   356   355\n",
            "21\n"
          ]
        }
      ]
    },
    {
      "cell_type": "markdown",
      "source": [
        "K=10"
      ],
      "metadata": {
        "id": "gJo3mqF-bV7I"
      }
    },
    {
      "cell_type": "code",
      "source": [
        "def is_k_anonymous(df, partition, sensitive_column, k=10):\n",
        "    \"\"\"\n",
        "    :param               df: The dataframe on which to check the partition.\n",
        "    :param        partition: The partition of the dataframe to check.\n",
        "    :param sensitive_column: The name of the sensitive column\n",
        "    :param                k: The desired k\n",
        "    :returns               : True if the partition is valid according to our k-anonymity criteria, False otherwise.\n",
        "    \"\"\"\n",
        "    if len(partition) < k:\n",
        "        return False\n",
        "    return True\n",
        "finished_partitions = partition_dataset(df, feature_columns, sensitive_column, full_spans, is_k_anonymous)\n",
        "dfn_ad_count=count_anonymity(df, finished_partitions, feature_columns, sensitive_column)\n",
        "sort_dfn_cnt = sorted(dfn_ad_count, key=lambda x: x['age'])\n",
        "sort_dfn_cnt[:5]"
      ],
      "metadata": {
        "colab": {
          "base_uri": "https://localhost:8080/"
        },
        "id": "rDjNTtLPOduK",
        "outputId": "bc4c6dc3-8f0f-429a-bd66-4bf13e032ee4"
      },
      "execution_count": null,
      "outputs": [
        {
          "output_type": "execute_result",
          "data": {
            "text/plain": [
              "[{'age': 17.0,\n",
              "  'education': '10th',\n",
              "  'marital-status': 'Never-married',\n",
              "  'race': 'White',\n",
              "  'occupation': '?',\n",
              "  'count': 29},\n",
              " {'age': 17.0,\n",
              "  'education': '10th',\n",
              "  'marital-status': 'Never-married',\n",
              "  'race': 'White',\n",
              "  'occupation': 'Adm-clerical',\n",
              "  'count': 2},\n",
              " {'age': 17.0,\n",
              "  'education': '10th',\n",
              "  'marital-status': 'Never-married',\n",
              "  'race': 'White',\n",
              "  'occupation': 'Craft-repair',\n",
              "  'count': 2},\n",
              " {'age': 17.0,\n",
              "  'education': '10th',\n",
              "  'marital-status': 'Never-married',\n",
              "  'race': 'White',\n",
              "  'occupation': 'Farming-fishing',\n",
              "  'count': 4},\n",
              " {'age': 17.0,\n",
              "  'education': '10th',\n",
              "  'marital-status': 'Never-married',\n",
              "  'race': 'White',\n",
              "  'occupation': 'Handlers-cleaners',\n",
              "  'count': 8}]"
            ]
          },
          "metadata": {},
          "execution_count": 259
        }
      ]
    },
    {
      "cell_type": "code",
      "source": [
        "# Anonymized data\n",
        "dfad_cnt_k10 = pd.DataFrame(sort_dfn_cnt).loc[:, ['age', 'education', 'marital-status', 'race']]\n",
        "# this is attackers knowledge\n",
        "knowledge = dfa_attack.loc[:, ['age', 'education', 'marital-status', 'race']]\n",
        "\n",
        "rl,ab = attack(dfad_cnt_k10, knowledge)\n",
        "print(rl)\n",
        "link_cnt=0\n",
        "for i in range(11):\n",
        "  for j in range(3):\n",
        "    x=ab[0][j][i]\n",
        "    for k in range(4):\n",
        "      if(x!=-1):\n",
        "        if((dfad_cnt_k10.loc[x][feature_columns[k]])== knowledge.loc[i][feature_columns[k]]):\n",
        "          #print(dfad_cnt_k3.loc[x])\n",
        "          #print(knowledge.loc[i])\n",
        "          link_cnt+=1;\n",
        "\n",
        "print(link_cnt)"
      ],
      "metadata": {
        "colab": {
          "base_uri": "https://localhost:8080/"
        },
        "id": "xFHtE7YbOlha",
        "outputId": "f440a384-0fdc-4e22-98ae-dfe23c33d693"
      },
      "execution_count": null,
      "outputs": [
        {
          "output_type": "stream",
          "name": "stdout",
          "text": [
            "       0     1     2\n",
            "0     -1    -1    -1\n",
            "1    968   970   967\n",
            "2   1685  1686  1678\n",
            "3     -1    -1    -1\n",
            "4   5534  5535  5533\n",
            "5     -1    -1    -1\n",
            "6   8410  8408  8409\n",
            "7   3652  3660  3651\n",
            "8    183   185   184\n",
            "9   6958  6956  6957\n",
            "10   912   914   913\n",
            "30\n"
          ]
        }
      ]
    },
    {
      "cell_type": "markdown",
      "source": [
        "L=2;K=10"
      ],
      "metadata": {
        "id": "ZPWgeag7cAR9"
      }
    },
    {
      "cell_type": "code",
      "source": [
        "def is_l_diverse(df, partition, sensitive_column, l=2):\n",
        "    \"\"\"\n",
        "    :param               df: The dataframe for which to check l-diversity\n",
        "    :param        partition: The partition of the dataframe on which to check l-diversity\n",
        "    :param sensitive_column: The name of the sensitive column\n",
        "    :param                l: The minimum required diversity of sensitive attribute values in the partition\n",
        "    \"\"\"\n",
        "    return diversity(df, partition, sensitive_column) >= l\n",
        "finished_l_diverse_partitions = partition_dataset(df, feature_columns, sensitive_column, full_spans, lambda *args: is_k_anonymous(*args) and is_l_diverse(*args))\n",
        "dfl_ad_count=count_anonymity(df, finished_l_diverse_partitions, feature_columns, sensitive_column)\n",
        "sort_dfl_cnt = sorted(dfl_ad_count, key=lambda x: x['age'])\n",
        "# Anonymized data\n",
        "dflad_cnt_k10l2 = pd.DataFrame(sort_dfl_cnt).loc[:, ['age', 'education', 'marital-status', 'race']]\n",
        "# this is attackers knowledge\n",
        "knowledge = dfa_attack.loc[:, ['age', 'education', 'marital-status', 'race']]\n",
        "\n",
        "rl,ab = attack(dflad_cnt_k10l2, knowledge)\n",
        "print(rl)\n",
        "link_cnt=0\n",
        "for i in range(11):\n",
        "  for j in range(3):\n",
        "    x=ab[0][j][i]\n",
        "    for k in range(4):\n",
        "      if(x!=-1):\n",
        "        if((dflad_cnt_k10l2.loc[x][feature_columns[k]])== knowledge.loc[i][feature_columns[k]]):\n",
        "          #print(dfad_cnt_k3.loc[x])\n",
        "          #print(knowledge.loc[i])\n",
        "          link_cnt+=1;\n",
        "\n",
        "print(link_cnt)"
      ],
      "metadata": {
        "colab": {
          "base_uri": "https://localhost:8080/"
        },
        "id": "jVgbUc_ocB7E",
        "outputId": "1e45a0a2-0b45-4f15-d4ae-0028d5101235"
      },
      "execution_count": null,
      "outputs": [
        {
          "output_type": "stream",
          "name": "stdout",
          "text": [
            "       0     1     2\n",
            "0     -1    -1    -1\n",
            "1    968   974   967\n",
            "2   1686  1678  1682\n",
            "3     -1    -1    -1\n",
            "4   5534  5531  5530\n",
            "5     -1    -1    -1\n",
            "6   8407  8405  8406\n",
            "7   3653  3671  3651\n",
            "8    189   186   187\n",
            "9   6955  6953  6954\n",
            "10   912   914   913\n",
            "30\n"
          ]
        }
      ]
    },
    {
      "cell_type": "markdown",
      "source": [
        "L=4,k=10"
      ],
      "metadata": {
        "id": "RKJc4jTZpcAR"
      }
    },
    {
      "cell_type": "code",
      "source": [
        "def is_l_diverse(df, partition, sensitive_column, l=4):\n",
        "    \"\"\"\n",
        "    :param               df: The dataframe for which to check l-diversity\n",
        "    :param        partition: The partition of the dataframe on which to check l-diversity\n",
        "    :param sensitive_column: The name of the sensitive column\n",
        "    :param                l: The minimum required diversity of sensitive attribute values in the partition\n",
        "    \"\"\"\n",
        "    return diversity(df, partition, sensitive_column) >= l\n",
        "finished_l_diverse_partitions = partition_dataset(df, feature_columns, sensitive_column, full_spans, lambda *args: is_k_anonymous(*args) and is_l_diverse(*args))\n",
        "dfl_ad_count=count_anonymity(df, finished_l_diverse_partitions, feature_columns, sensitive_column)\n",
        "sort_dfl_cnt = sorted(dfl_ad_count, key=lambda x: x['age'])\n",
        "# Anonymized data\n",
        "dflad_cnt_k10l4 = pd.DataFrame(sort_dfl_cnt).loc[:, ['age', 'education', 'marital-status', 'race']]\n",
        "\n",
        "# this is attackers knowledge\n",
        "knowledge = dfa_attack.loc[:, ['age', 'education', 'marital-status', 'race']]\n",
        "\n",
        "rl,ab = attack(dflad_cnt_k10l4, knowledge)\n",
        "print(rl)\n",
        "link_cnt=0\n",
        "for i in range(11):\n",
        "  for j in range(3):\n",
        "    x=ab[0][j][i]\n",
        "    for k in range(4):\n",
        "      if(x!=-1):\n",
        "        if((dflad_cnt_k10l4.loc[x][feature_columns[k]])== knowledge.loc[i][feature_columns[k]]):\n",
        "          #print(dfad_cnt_k3.loc[x])\n",
        "          #print(knowledge.loc[i])\n",
        "          link_cnt+=1;\n",
        "\n",
        "print(link_cnt)"
      ],
      "metadata": {
        "colab": {
          "base_uri": "https://localhost:8080/"
        },
        "id": "pDzYlJA4pdmI",
        "outputId": "d6c97fcf-b05d-4a55-ff99-f9dc1b77a4f6"
      },
      "execution_count": null,
      "outputs": [
        {
          "output_type": "stream",
          "name": "stdout",
          "text": [
            "       0     1     2\n",
            "0     -1    -1    -1\n",
            "1    972   974   973\n",
            "2   1681  1690  1680\n",
            "3     -1    -1    -1\n",
            "4   5543  5544  5532\n",
            "5     -1    -1    -1\n",
            "6   8402  8400  8401\n",
            "7   3687  3689  3688\n",
            "8    187   189   188\n",
            "9   6947  6945  6946\n",
            "10   913   911   912\n",
            "30\n"
          ]
        }
      ]
    },
    {
      "cell_type": "markdown",
      "source": [
        "K=10;L=12"
      ],
      "metadata": {
        "id": "sb8fXIUvhTbH"
      }
    },
    {
      "cell_type": "code",
      "source": [
        "def diversity(df, partition, column):\n",
        "    return len(df[column][partition].unique())\n",
        "\n",
        "def is_l_diverse(df, partition, sensitive_column, l=12):\n",
        "    \"\"\"\n",
        "    :param               df: The dataframe for which to check l-diversity\n",
        "    :param        partition: The partition of the dataframe on which to check l-diversity\n",
        "    :param sensitive_column: The name of the sensitive column\n",
        "    :param                l: The minimum required diversity of sensitive attribute values in the partition\n",
        "    \"\"\"\n",
        "    return diversity(df, partition, sensitive_column) >= l\n",
        "# now let's apply this method to our data and see how the result changes\n",
        "finished_l_diverse_partitions = partition_dataset(df, feature_columns, sensitive_column, full_spans, lambda *args: is_k_anonymous(*args) and is_l_diverse(*args))\n",
        "dfl_ad_count=count_anonymity(df, finished_l_diverse_partitions, feature_columns, sensitive_column)\n",
        "sort_dfl_cnt = sorted(dfl_ad_count, key=lambda x: x['age'])\n",
        "\n",
        "# Anonymized data\n",
        "dflad_cnt_k3l4 = pd.DataFrame(sort_dfl_cnt).loc[:, ['age', 'education', 'marital-status', 'race']]\n",
        "# this is attackers knowledge\n",
        "knowledge = dfa_attack.loc[:, ['age', 'education', 'marital-status', 'race']]\n",
        "\n",
        "rl,ab = attack(dflad_cnt_k3l4, knowledge)\n",
        "print(rl)\n",
        "link_cnt=0\n",
        "for i in range(11):\n",
        "  for j in range(3):\n",
        "    x=ab[0][j][i]\n",
        "    for k in range(4):\n",
        "      if(x!=-1):\n",
        "        if((dflad_cnt_k3l4.loc[x][feature_columns[k]])== knowledge.loc[i][feature_columns[k]]):\n",
        "          #print(dfad_cnt_k3.loc[x])\n",
        "          #print(knowledge.loc[i])\n",
        "          link_cnt+=1;\n",
        "\n",
        "print(link_cnt)"
      ],
      "metadata": {
        "colab": {
          "base_uri": "https://localhost:8080/"
        },
        "id": "1qS6vFBFhUyg",
        "outputId": "4c69952c-38e2-42bf-f539-1a6b536c6951"
      },
      "execution_count": null,
      "outputs": [
        {
          "output_type": "stream",
          "name": "stdout",
          "text": [
            "       0     1     2\n",
            "0     -1    -1    -1\n",
            "1    403   449   402\n",
            "2    827   824   825\n",
            "3     -1    -1    -1\n",
            "4     79    77    78\n",
            "5     -1    -1    -1\n",
            "6    235   234   233\n",
            "7   1726  1725  1724\n",
            "8     -1    -1    -1\n",
            "9    235   234   233\n",
            "10   403   449   402\n",
            "21\n"
          ]
        }
      ]
    },
    {
      "cell_type": "markdown",
      "source": [
        "k=10;p=0.15"
      ],
      "metadata": {
        "id": "ec09vVuaYQhQ"
      }
    },
    {
      "cell_type": "code",
      "source": [
        "# here we generate the global frequencies for the sensitive column\n",
        "global_freqs = {}\n",
        "total_count = float(len(df))\n",
        "group_counts = df.groupby(sensitive_column)[sensitive_column].agg('count')\n",
        "for value, count in group_counts.to_dict().items():\n",
        "    p = count/total_count\n",
        "    global_freqs[value] = p\n",
        "\n",
        "def t_closeness(df, partition, column, global_freqs):\n",
        "    total_count = float(len(partition))\n",
        "    d_max = None\n",
        "    group_counts = df.loc[partition].groupby(column)[column].agg('count')\n",
        "    for value, count in group_counts.to_dict().items():\n",
        "        p = count/total_count\n",
        "        d = abs(p-global_freqs[value])\n",
        "        if d_max is None or d > d_max:\n",
        "            d_max = d\n",
        "    return d_max\n",
        "\n",
        "def is_t_close(df, partition, sensitive_column, global_freqs, p=0.15):\n",
        "    \"\"\"\n",
        "    :param               df: The dataframe for which to check l-diversity\n",
        "    :param        partition: The partition of the dataframe on which to check l-diversity\n",
        "    :param sensitive_column: The name of the sensitive column\n",
        "    :param     global_freqs: The global frequencies of the sensitive attribute values\n",
        "    :param                p: The maximum allowed Kolmogorov-Smirnov distance\n",
        "    \"\"\"\n",
        "    if not sensitive_column in categorical:\n",
        "        raise ValueError(\"this method only works for categorical values\")\n",
        "    return t_closeness(df, partition, sensitive_column, global_freqs) <= p\n",
        "\n",
        "# Let's apply this to our dataset\n",
        "finished_t_close_partitions = partition_dataset(df, feature_columns, sensitive_column, full_spans, lambda *args: is_k_anonymous(*args) and is_t_close(*args, global_freqs))\n",
        "dfp_ad_count=count_anonymity(df, finished_t_close_partitions, feature_columns, sensitive_column)\n",
        "sort_dfp_cnt = sorted(dfp_ad_count, key=lambda x: x['age'])\n",
        "# Anonymized data\n",
        "dfpad_cnt_k10p02 = pd.DataFrame(sort_dfp_cnt).loc[:, ['age', 'education', 'marital-status', 'race']]\n",
        "# this is attackers knowledge\n",
        "knowledge = dfa_attack.loc[:, ['age', 'education', 'marital-status', 'race']]\n",
        "\n",
        "rl,ab = attack(dfpad_cnt_k10p02, knowledge)\n",
        "print(rl)\n",
        "link_cnt=0\n",
        "for i in range(11):\n",
        "  for j in range(3):\n",
        "    x=ab[0][j][i]\n",
        "    for k in range(4):\n",
        "      if(x!=-1):\n",
        "        if((dfpad_cnt_k10p02.loc[x][feature_columns[k]])== knowledge.loc[i][feature_columns[k]]):\n",
        "          #print(dfad_cnt_k3.loc[x])\n",
        "          #print(knowledge.loc[i])\n",
        "          link_cnt+=1;\n",
        "\n",
        "print(link_cnt)"
      ],
      "metadata": {
        "colab": {
          "base_uri": "https://localhost:8080/"
        },
        "id": "5-zw4RUNWDQW",
        "outputId": "9d26acf4-f0f1-4109-f472-dee0520501d5"
      },
      "execution_count": null,
      "outputs": [
        {
          "output_type": "stream",
          "name": "stdout",
          "text": [
            "       0     1     2\n",
            "0     -1    -1    -1\n",
            "1    355   357   356\n",
            "2    699   700   697\n",
            "3     -1    -1    -1\n",
            "4   2547  2545  2546\n",
            "5     -1    -1    -1\n",
            "6    352   354   353\n",
            "7   1673  1678  1672\n",
            "8     -1    -1    -1\n",
            "9    352   354   353\n",
            "10   355   357   356\n",
            "21\n"
          ]
        }
      ]
    },
    {
      "cell_type": "markdown",
      "source": [
        "K=20"
      ],
      "metadata": {
        "id": "djjd7GP6dFsI"
      }
    },
    {
      "cell_type": "code",
      "source": [
        "def is_k_anonymous(df, partition, sensitive_column, k=20):\n",
        "    \"\"\"\n",
        "    :param               df: The dataframe on which to check the partition.\n",
        "    :param        partition: The partition of the dataframe to check.\n",
        "    :param sensitive_column: The name of the sensitive column\n",
        "    :param                k: The desired k\n",
        "    :returns               : True if the partition is valid according to our k-anonymity criteria, False otherwise.\n",
        "    \"\"\"\n",
        "    if len(partition) < k:\n",
        "        return False\n",
        "    return True\n",
        "finished_partitions = partition_dataset(df, feature_columns, sensitive_column, full_spans, is_k_anonymous)\n",
        "dfn_ad_count=count_anonymity(df, finished_partitions, feature_columns, sensitive_column)\n",
        "sort_dfn_cnt = sorted(dfn_ad_count, key=lambda x: x['age'])\n",
        "sort_dfn_cnt[:5]"
      ],
      "metadata": {
        "colab": {
          "base_uri": "https://localhost:8080/"
        },
        "id": "GU12y2eDPEx4",
        "outputId": "cec3a775-837d-4349-e6e6-3e0613ca0f9c"
      },
      "execution_count": null,
      "outputs": [
        {
          "output_type": "execute_result",
          "data": {
            "text/plain": [
              "[{'age': 17.0,\n",
              "  'education': '10th',\n",
              "  'marital-status': 'Never-married',\n",
              "  'race': 'White',\n",
              "  'occupation': '?',\n",
              "  'count': 29},\n",
              " {'age': 17.0,\n",
              "  'education': '10th',\n",
              "  'marital-status': 'Never-married',\n",
              "  'race': 'White',\n",
              "  'occupation': 'Adm-clerical',\n",
              "  'count': 2},\n",
              " {'age': 17.0,\n",
              "  'education': '10th',\n",
              "  'marital-status': 'Never-married',\n",
              "  'race': 'White',\n",
              "  'occupation': 'Craft-repair',\n",
              "  'count': 2},\n",
              " {'age': 17.0,\n",
              "  'education': '10th',\n",
              "  'marital-status': 'Never-married',\n",
              "  'race': 'White',\n",
              "  'occupation': 'Farming-fishing',\n",
              "  'count': 4},\n",
              " {'age': 17.0,\n",
              "  'education': '10th',\n",
              "  'marital-status': 'Never-married',\n",
              "  'race': 'White',\n",
              "  'occupation': 'Handlers-cleaners',\n",
              "  'count': 8}]"
            ]
          },
          "metadata": {},
          "execution_count": 262
        }
      ]
    },
    {
      "cell_type": "code",
      "source": [
        "# Anonymized data\n",
        "dfad_cnt_k20 = pd.DataFrame(sort_dfn_cnt).loc[:, ['age', 'education', 'marital-status', 'race']]\n",
        "# this is attackers knowledge\n",
        "knowledge = dfa_attack.loc[:, ['age', 'education', 'marital-status', 'race']]\n",
        "\n",
        "rl,ab = attack(dfad_cnt_k20, knowledge)\n",
        "print(rl)\n",
        "link_cnt=0\n",
        "for i in range(11):\n",
        "  for j in range(3):\n",
        "    x=ab[0][j][i]\n",
        "    for k in range(4):\n",
        "      if(x!=-1):\n",
        "        if((dfad_cnt_k20.loc[x][feature_columns[k]])== knowledge.loc[i][feature_columns[k]]):\n",
        "          #print(dfad_cnt_k3.loc[x])\n",
        "          #print(knowledge.loc[i])\n",
        "          link_cnt+=1;\n",
        "\n",
        "print(link_cnt)"
      ],
      "metadata": {
        "colab": {
          "base_uri": "https://localhost:8080/"
        },
        "id": "GGSCfsAOPKpN",
        "outputId": "7f8191e7-05bb-49ae-ff01-fc3c1962619a"
      },
      "execution_count": null,
      "outputs": [
        {
          "output_type": "stream",
          "name": "stdout",
          "text": [
            "       0     1     2\n",
            "0     -1    -1    -1\n",
            "1    758   756   757\n",
            "2   1311  1308  1306\n",
            "3     -1    -1    -1\n",
            "4   4309  4307  4308\n",
            "5     -1    -1    -1\n",
            "6    449   441   440\n",
            "7   2848  2858  2847\n",
            "8    156   152   154\n",
            "9   5383  5381  5382\n",
            "10   806   805   803\n",
            "30\n"
          ]
        }
      ]
    },
    {
      "cell_type": "markdown",
      "source": [
        "K=20;L=2"
      ],
      "metadata": {
        "id": "Qv-WdePydQmM"
      }
    },
    {
      "cell_type": "code",
      "source": [
        "def is_l_diverse(df, partition, sensitive_column, l=2):\n",
        "    \"\"\"\n",
        "    :param               df: The dataframe for which to check l-diversity\n",
        "    :param        partition: The partition of the dataframe on which to check l-diversity\n",
        "    :param sensitive_column: The name of the sensitive column\n",
        "    :param                l: The minimum required diversity of sensitive attribute values in the partition\n",
        "    \"\"\"\n",
        "    return diversity(df, partition, sensitive_column) >= l\n",
        "finished_l_diverse_partitions = partition_dataset(df, feature_columns, sensitive_column, full_spans, lambda *args: is_k_anonymous(*args) and is_l_diverse(*args))\n",
        "dfl_ad_count=count_anonymity(df, finished_l_diverse_partitions, feature_columns, sensitive_column)\n",
        "sort_dfl_cnt = sorted(dfl_ad_count, key=lambda x: x['age'])\n",
        "# Anonymized data\n",
        "dflad_cnt_k20l2 = pd.DataFrame(sort_dfl_cnt).loc[:, ['age', 'education', 'marital-status', 'race']]\n",
        "# this is attackers knowledge\n",
        "knowledge = dfa_attack.loc[:, ['age', 'education', 'marital-status', 'race']]\n",
        "\n",
        "rl,ab = attack(dflad_cnt_k20l2, knowledge)\n",
        "print(rl)\n",
        "link_cnt=0\n",
        "for i in range(11):\n",
        "  for j in range(3):\n",
        "    x=ab[0][j][i]\n",
        "    for k in range(4):\n",
        "      if(x!=-1):\n",
        "        if((dflad_cnt_k20l2.loc[x][feature_columns[k]])== knowledge.loc[i][feature_columns[k]]):\n",
        "          #print(dfad_cnt_k3.loc[x])\n",
        "          #print(knowledge.loc[i])\n",
        "          link_cnt+=1;\n",
        "\n",
        "print(link_cnt)"
      ],
      "metadata": {
        "colab": {
          "base_uri": "https://localhost:8080/"
        },
        "id": "eKMaMzVidUI9",
        "outputId": "4d1a5759-1e42-49b7-9b74-46f0aeea57d4"
      },
      "execution_count": null,
      "outputs": [
        {
          "output_type": "stream",
          "name": "stdout",
          "text": [
            "       0     1     2\n",
            "0     -1    -1    -1\n",
            "1    758   756   757\n",
            "2   1306  1307  1310\n",
            "3     -1    -1    -1\n",
            "4   4308  4306  4307\n",
            "5     -1    -1    -1\n",
            "6    443   450   449\n",
            "7   2847  2861  2846\n",
            "8    152   158   157\n",
            "9   5382  5380  5381\n",
            "10   803   805   804\n",
            "30\n"
          ]
        }
      ]
    },
    {
      "cell_type": "markdown",
      "source": [
        "k=20;L=4"
      ],
      "metadata": {
        "id": "ssAMFFM1r1yJ"
      }
    },
    {
      "cell_type": "code",
      "source": [
        "def is_l_diverse(df, partition, sensitive_column, l=4):\n",
        "    \"\"\"\n",
        "    :param               df: The dataframe for which to check l-diversity\n",
        "    :param        partition: The partition of the dataframe on which to check l-diversity\n",
        "    :param sensitive_column: The name of the sensitive column\n",
        "    :param                l: The minimum required diversity of sensitive attribute values in the partition\n",
        "    \"\"\"\n",
        "    return diversity(df, partition, sensitive_column) >= l\n",
        "finished_l_diverse_partitions = partition_dataset(df, feature_columns, sensitive_column, full_spans, lambda *args: is_k_anonymous(*args) and is_l_diverse(*args))\n",
        "dfl_ad_count=count_anonymity(df, finished_l_diverse_partitions, feature_columns, sensitive_column)\n",
        "sort_dfl_cnt = sorted(dfl_ad_count, key=lambda x: x['age'])\n",
        "# Anonymized data\n",
        "dflad_cnt_k20l4 = pd.DataFrame(sort_dfl_cnt).loc[:, ['age', 'education', 'marital-status', 'race']]\n",
        "# this is attackers knowledge\n",
        "knowledge = dfa_attack.loc[:, ['age', 'education', 'marital-status', 'race']]\n",
        "\n",
        "rl,ab = attack(dflad_cnt_k20l4, knowledge)\n",
        "print(rl)\n",
        "link_cnt=0\n",
        "for i in range(11):\n",
        "  for j in range(3):\n",
        "    x=ab[0][j][i]\n",
        "    for k in range(4):\n",
        "      if(x!=-1):\n",
        "        if((dflad_cnt_k20l4.loc[x][feature_columns[k]])== knowledge.loc[i][feature_columns[k]]):\n",
        "          #print(dfad_cnt_k3.loc[x])\n",
        "          #print(knowledge.loc[i])\n",
        "          link_cnt+=1;\n",
        "\n",
        "print(link_cnt)"
      ],
      "metadata": {
        "colab": {
          "base_uri": "https://localhost:8080/"
        },
        "id": "O6qEzdwHr3US",
        "outputId": "88e81a7f-cbc8-4ee4-b427-d5f2b004bc7a"
      },
      "execution_count": null,
      "outputs": [
        {
          "output_type": "stream",
          "name": "stdout",
          "text": [
            "       0     1     2\n",
            "0     -1    -1    -1\n",
            "1    759   756   757\n",
            "2   1308  1311  1310\n",
            "3     -1    -1    -1\n",
            "4   4318  4316  4317\n",
            "5     -1    -1    -1\n",
            "6    442   446   443\n",
            "7   2854  2861  2870\n",
            "8    152   155   154\n",
            "9   5387  5385  5386\n",
            "10   803   821   804\n",
            "30\n"
          ]
        }
      ]
    },
    {
      "cell_type": "markdown",
      "source": [
        "K=20;L=12"
      ],
      "metadata": {
        "id": "i0oMqeHah0P4"
      }
    },
    {
      "cell_type": "code",
      "source": [
        "def diversity(df, partition, column):\n",
        "    return len(df[column][partition].unique())\n",
        "\n",
        "def is_l_diverse(df, partition, sensitive_column, l=12):\n",
        "    \"\"\"\n",
        "    :param               df: The dataframe for which to check l-diversity\n",
        "    :param        partition: The partition of the dataframe on which to check l-diversity\n",
        "    :param sensitive_column: The name of the sensitive column\n",
        "    :param                l: The minimum required diversity of sensitive attribute values in the partition\n",
        "    \"\"\"\n",
        "    return diversity(df, partition, sensitive_column) >= l\n",
        "# now let's apply this method to our data and see how the result changes\n",
        "finished_l_diverse_partitions = partition_dataset(df, feature_columns, sensitive_column, full_spans, lambda *args: is_k_anonymous(*args) and is_l_diverse(*args))\n",
        "dfl_ad_count=count_anonymity(df, finished_l_diverse_partitions, feature_columns, sensitive_column)\n",
        "sort_dfl_cnt = sorted(dfl_ad_count, key=lambda x: x['age'])\n",
        "\n",
        "# Anonymized data\n",
        "dflad_cnt_k3l4 = pd.DataFrame(sort_dfl_cnt).loc[:, ['age', 'education', 'marital-status', 'race']]\n",
        "# this is attackers knowledge\n",
        "knowledge = dfa_attack.loc[:, ['age', 'education', 'marital-status', 'race']]\n",
        "\n",
        "rl,ab = attack(dflad_cnt_k3l4, knowledge)\n",
        "print(rl)\n",
        "link_cnt=0\n",
        "for i in range(11):\n",
        "  for j in range(3):\n",
        "    x=ab[0][j][i]\n",
        "    for k in range(4):\n",
        "      if(x!=-1):\n",
        "        if((dflad_cnt_k3l4.loc[x][feature_columns[k]])== knowledge.loc[i][feature_columns[k]]):\n",
        "          #print(dfad_cnt_k3.loc[x])\n",
        "          #print(knowledge.loc[i])\n",
        "          link_cnt+=1;\n",
        "\n",
        "print(link_cnt)"
      ],
      "metadata": {
        "colab": {
          "base_uri": "https://localhost:8080/"
        },
        "id": "sFcm1UNxhzuJ",
        "outputId": "ad7b4ff1-a68b-436c-9b8a-12ea17ae6952"
      },
      "execution_count": null,
      "outputs": [
        {
          "output_type": "stream",
          "name": "stdout",
          "text": [
            "       0     1     2\n",
            "0     -1    -1    -1\n",
            "1    403   449   402\n",
            "2    827   824   825\n",
            "3     -1    -1    -1\n",
            "4     79    77    78\n",
            "5     -1    -1    -1\n",
            "6    235   234   233\n",
            "7   1726  1725  1724\n",
            "8     -1    -1    -1\n",
            "9    235   234   233\n",
            "10   403   449   402\n",
            "21\n"
          ]
        }
      ]
    },
    {
      "cell_type": "markdown",
      "source": [
        "K=20;p=0.15"
      ],
      "metadata": {
        "id": "0oDXqX6ZCCdR"
      }
    },
    {
      "cell_type": "code",
      "source": [
        "# here we generate the global frequencies for the sensitive column\n",
        "global_freqs = {}\n",
        "total_count = float(len(df))\n",
        "group_counts = df.groupby(sensitive_column)[sensitive_column].agg('count')\n",
        "for value, count in group_counts.to_dict().items():\n",
        "    p = count/total_count\n",
        "    global_freqs[value] = p\n",
        "\n",
        "def t_closeness(df, partition, column, global_freqs):\n",
        "    total_count = float(len(partition))\n",
        "    d_max = None\n",
        "    group_counts = df.loc[partition].groupby(column)[column].agg('count')\n",
        "    for value, count in group_counts.to_dict().items():\n",
        "        p = count/total_count\n",
        "        d = abs(p-global_freqs[value])\n",
        "        if d_max is None or d > d_max:\n",
        "            d_max = d\n",
        "    return d_max\n",
        "\n",
        "def is_t_close(df, partition, sensitive_column, global_freqs, p=0.15):\n",
        "    \"\"\"\n",
        "    :param               df: The dataframe for which to check l-diversity\n",
        "    :param        partition: The partition of the dataframe on which to check l-diversity\n",
        "    :param sensitive_column: The name of the sensitive column\n",
        "    :param     global_freqs: The global frequencies of the sensitive attribute values\n",
        "    :param                p: The maximum allowed Kolmogorov-Smirnov distance\n",
        "    \"\"\"\n",
        "    if not sensitive_column in categorical:\n",
        "        raise ValueError(\"this method only works for categorical values\")\n",
        "    return t_closeness(df, partition, sensitive_column, global_freqs) <= p\n",
        "\n",
        "# Let's apply this to our dataset\n",
        "finished_t_close_partitions = partition_dataset(df, feature_columns, sensitive_column, full_spans, lambda *args: is_k_anonymous(*args) and is_t_close(*args, global_freqs))\n",
        "dfp_ad_count=count_anonymity(df, finished_t_close_partitions, feature_columns, sensitive_column)\n",
        "sort_dfp_cnt = sorted(dfp_ad_count, key=lambda x: x['age'])\n",
        "dfpad_cnt_k20p02 = pd.DataFrame(sort_dfp_cnt).loc[:, ['age', 'education', 'marital-status', 'race']]\n",
        "\n",
        "knowledge = dfa_attack.loc[:, ['age', 'education', 'marital-status', 'race']]\n",
        "rl,ab = attack(dfpad_cnt_k20p02, knowledge)\n",
        "print(rl)\n",
        "link_cnt=0\n",
        "for i in range(11):\n",
        "  for j in range(3):\n",
        "    x=ab[0][j][i]\n",
        "    for k in range(4):\n",
        "      if(x!=-1):\n",
        "        if((dfpad_cnt_k20p02.loc[x][feature_columns[k]])== knowledge.loc[i][feature_columns[k]]):\n",
        "          #print(dfad_cnt_k3.loc[x])\n",
        "          #print(knowledge.loc[i])\n",
        "          link_cnt+=1;\n",
        "\n",
        "print(link_cnt)"
      ],
      "metadata": {
        "colab": {
          "base_uri": "https://localhost:8080/"
        },
        "id": "k3MWOLQOY8FA",
        "outputId": "385ddb2a-0e82-4085-a408-65616a155c74"
      },
      "execution_count": null,
      "outputs": [
        {
          "output_type": "stream",
          "name": "stdout",
          "text": [
            "       0     1     2\n",
            "0     -1    -1    -1\n",
            "1    352   349   351\n",
            "2    666   669   667\n",
            "3     -1    -1    -1\n",
            "4   2393  2395  2394\n",
            "5     -1    -1    -1\n",
            "6    337   339   345\n",
            "7   1558  1557  1556\n",
            "8     -1    -1    -1\n",
            "9    337   339   345\n",
            "10   352   349   351\n",
            "21\n"
          ]
        }
      ]
    },
    {
      "cell_type": "markdown",
      "source": [
        "K=50"
      ],
      "metadata": {
        "id": "eIXOdiB6dlWH"
      }
    },
    {
      "cell_type": "code",
      "source": [
        "def is_k_anonymous(df, partition, sensitive_column, k=50):\n",
        "    \"\"\"\n",
        "    :param               df: The dataframe on which to check the partition.\n",
        "    :param        partition: The partition of the dataframe to check.\n",
        "    :param sensitive_column: The name of the sensitive column\n",
        "    :param                k: The desired k\n",
        "    :returns               : True if the partition is valid according to our k-anonymity criteria, False otherwise.\n",
        "    \"\"\"\n",
        "    if len(partition) < k:\n",
        "        return False\n",
        "    return True\n",
        "finished_partitions = partition_dataset(df, feature_columns, sensitive_column, full_spans, is_k_anonymous)\n",
        "dfn_ad_count=count_anonymity(df, finished_partitions, feature_columns, sensitive_column)\n",
        "sort_dfn_cnt = sorted(dfn_ad_count, key=lambda x: x['age'])\n",
        "sort_dfn_cnt[:5]"
      ],
      "metadata": {
        "colab": {
          "base_uri": "https://localhost:8080/"
        },
        "id": "iftUPkUfPQ2g",
        "outputId": "f937d6f2-e1d1-462f-fd3a-c0bb8a712c64"
      },
      "execution_count": null,
      "outputs": [
        {
          "output_type": "execute_result",
          "data": {
            "text/plain": [
              "[{'age': 17.0,\n",
              "  'education': '10th',\n",
              "  'marital-status': 'Never-married',\n",
              "  'race': 'White',\n",
              "  'occupation': '?',\n",
              "  'count': 29},\n",
              " {'age': 17.0,\n",
              "  'education': '10th',\n",
              "  'marital-status': 'Never-married',\n",
              "  'race': 'White',\n",
              "  'occupation': 'Adm-clerical',\n",
              "  'count': 2},\n",
              " {'age': 17.0,\n",
              "  'education': '10th',\n",
              "  'marital-status': 'Never-married',\n",
              "  'race': 'White',\n",
              "  'occupation': 'Craft-repair',\n",
              "  'count': 2},\n",
              " {'age': 17.0,\n",
              "  'education': '10th',\n",
              "  'marital-status': 'Never-married',\n",
              "  'race': 'White',\n",
              "  'occupation': 'Farming-fishing',\n",
              "  'count': 4},\n",
              " {'age': 17.0,\n",
              "  'education': '10th',\n",
              "  'marital-status': 'Never-married',\n",
              "  'race': 'White',\n",
              "  'occupation': 'Handlers-cleaners',\n",
              "  'count': 8}]"
            ]
          },
          "metadata": {},
          "execution_count": 265
        }
      ]
    },
    {
      "cell_type": "code",
      "source": [
        "# Anonymized data\n",
        "dfad_cnt_k50 = pd.DataFrame(sort_dfn_cnt).loc[:,  ['age', 'education', 'marital-status', 'race']]\n",
        "knowledge = dfa_attack.loc[:,  ['age', 'education', 'marital-status', 'race']]\n",
        "\n",
        "rl,ab = attack(dfad_cnt_k50, knowledge)\n",
        "print(rl)\n",
        "link_cnt=0\n",
        "for i in range(11):\n",
        "  for j in range(3):\n",
        "    x=ab[0][j][i]\n",
        "    for k in range(4):\n",
        "      if(x!=-1):\n",
        "        if((dfad_cnt_k50.loc[x][feature_columns[k]])== knowledge.loc[i][feature_columns[k]]):\n",
        "          #print(dfad_cnt_k3.loc[x])\n",
        "          #print(knowledge.loc[i])\n",
        "          link_cnt+=1;\n",
        "\n",
        "print(link_cnt)"
      ],
      "metadata": {
        "colab": {
          "base_uri": "https://localhost:8080/"
        },
        "id": "_D_VKFdHPX5b",
        "outputId": "00a1102b-c8c4-4619-a643-0e1dd557bf66"
      },
      "execution_count": null,
      "outputs": [
        {
          "output_type": "stream",
          "name": "stdout",
          "text": [
            "       0     1     2\n",
            "0     -1    -1    -1\n",
            "1    451   452   450\n",
            "2    886   889   888\n",
            "3     -1    -1    -1\n",
            "4   2768  2766  2767\n",
            "5     -1    -1    -1\n",
            "6    429   416   428\n",
            "7   1826  1824  1827\n",
            "8   3375  3373  3374\n",
            "9   3461  3459  3460\n",
            "10   451   452   450\n",
            "27\n"
          ]
        }
      ]
    },
    {
      "cell_type": "markdown",
      "source": [
        "K=50;l=2"
      ],
      "metadata": {
        "id": "mhwobyXbdrYM"
      }
    },
    {
      "cell_type": "code",
      "source": [
        "def is_l_diverse(df, partition, sensitive_column, l=2):\n",
        "    \"\"\"\n",
        "    :param               df: The dataframe for which to check l-diversity\n",
        "    :param        partition: The partition of the dataframe on which to check l-diversity\n",
        "    :param sensitive_column: The name of the sensitive column\n",
        "    :param                l: The minimum required diversity of sensitive attribute values in the partition\n",
        "    \"\"\"\n",
        "    return diversity(df, partition, sensitive_column) >= l\n",
        "finished_l_diverse_partitions = partition_dataset(df, feature_columns, sensitive_column, full_spans, lambda *args: is_k_anonymous(*args) and is_l_diverse(*args))\n",
        "dfl_ad_count=count_anonymity(df, finished_l_diverse_partitions, feature_columns, sensitive_column)\n",
        "sort_dfl_cnt = sorted(dfl_ad_count, key=lambda x: x['age'])\n",
        "# Anonymized data\n",
        "dflad_cnt_k50l2 = pd.DataFrame(sort_dfl_cnt).loc[:, ['age', 'education', 'marital-status', 'race']]\n",
        "# this is attackers knowledge\n",
        "knowledge = dfa_attack.loc[:, ['age', 'education', 'marital-status', 'race']]\n",
        "\n",
        "rl,ab = attack(dflad_cnt_k50l2, knowledge)\n",
        "print(rl)\n",
        "link_cnt=0\n",
        "for i in range(11):\n",
        "  for j in range(3):\n",
        "    x=ab[0][j][i]\n",
        "    for k in range(4):\n",
        "      if(x!=-1):\n",
        "        if((dflad_cnt_k50l2.loc[x][feature_columns[k]])== knowledge.loc[i][feature_columns[k]]):\n",
        "          #print(dfad_cnt_k3.loc[x])\n",
        "          #print(knowledge.loc[i])\n",
        "          link_cnt+=1;\n",
        "\n",
        "print(link_cnt)"
      ],
      "metadata": {
        "colab": {
          "base_uri": "https://localhost:8080/"
        },
        "id": "lec1Ui1CdwXW",
        "outputId": "e9f6799e-9359-4000-fdbc-85d1c8338ddf"
      },
      "execution_count": null,
      "outputs": [
        {
          "output_type": "stream",
          "name": "stdout",
          "text": [
            "       0     1     2\n",
            "0     -1    -1    -1\n",
            "1    451   452   450\n",
            "2    886   889   888\n",
            "3     -1    -1    -1\n",
            "4   2768  2766  2767\n",
            "5     -1    -1    -1\n",
            "6    429   416   428\n",
            "7   1826  1824  1827\n",
            "8   3375  3373  3374\n",
            "9   3461  3459  3460\n",
            "10   451   452   450\n",
            "27\n"
          ]
        }
      ]
    },
    {
      "cell_type": "markdown",
      "source": [
        "K=50;L=4"
      ],
      "metadata": {
        "id": "7pW6pYljFNq-"
      }
    },
    {
      "cell_type": "code",
      "source": [
        "def is_l_diverse(df, partition, sensitive_column, l=4):\n",
        "    \"\"\"\n",
        "    :param               df: The dataframe for which to check l-diversity\n",
        "    :param        partition: The partition of the dataframe on which to check l-diversity\n",
        "    :param sensitive_column: The name of the sensitive column\n",
        "    :param                l: The minimum required diversity of sensitive attribute values in the partition\n",
        "    \"\"\"\n",
        "    return diversity(df, partition, sensitive_column) >= l\n",
        "finished_l_diverse_partitions = partition_dataset(df, feature_columns, sensitive_column, full_spans, lambda *args: is_k_anonymous(*args) and is_l_diverse(*args))\n",
        "dfl_ad_count=count_anonymity(df, finished_l_diverse_partitions, feature_columns, sensitive_column)\n",
        "sort_dfl_cnt = sorted(dfl_ad_count, key=lambda x: x['age'])\n",
        "# Anonymized data\n",
        "dflad_cnt_k50l4 = pd.DataFrame(sort_dfl_cnt).loc[:, ['age', 'education', 'marital-status', 'race']]\n",
        "# this is attackers knowledge\n",
        "knowledge = dfa_attack.loc[:, ['age', 'education', 'marital-status', 'race']]\n",
        "\n",
        "rl,ab = attack(dflad_cnt_k50l4, knowledge)\n",
        "print(rl)\n",
        "link_cnt=0\n",
        "for i in range(11):\n",
        "  for j in range(3):\n",
        "    x=ab[0][j][i]\n",
        "    for k in range(4):\n",
        "      if(x!=-1):\n",
        "        if((dflad_cnt_k50l4.loc[x][feature_columns[k]])== knowledge.loc[i][feature_columns[k]]):\n",
        "          #print(dfad_cnt_k3.loc[x])\n",
        "          #print(knowledge.loc[i])\n",
        "          link_cnt+=1;\n",
        "\n",
        "print(link_cnt)"
      ],
      "metadata": {
        "colab": {
          "base_uri": "https://localhost:8080/"
        },
        "id": "EaUZI5IBFPuP",
        "outputId": "31bc4919-e354-43ad-84ea-6107a9d2e970"
      },
      "execution_count": null,
      "outputs": [
        {
          "output_type": "stream",
          "name": "stdout",
          "text": [
            "       0     1     2\n",
            "0     -1    -1    -1\n",
            "1    452   463   451\n",
            "2    888   894   889\n",
            "3     -1    -1    -1\n",
            "4   2775  2773  2774\n",
            "5     -1    -1    -1\n",
            "6    410   407   406\n",
            "7   1828  1838  1827\n",
            "8   3382  3380  3381\n",
            "9   3468  3466  3467\n",
            "10   452   463   451\n",
            "27\n"
          ]
        }
      ]
    },
    {
      "cell_type": "markdown",
      "source": [
        "K=50;L=12"
      ],
      "metadata": {
        "id": "yTZTEbsee0nX"
      }
    },
    {
      "cell_type": "code",
      "source": [
        "def is_l_diverse(df, partition, sensitive_column, l=12):\n",
        "    \"\"\"\n",
        "    :param               df: The dataframe for which to check l-diversity\n",
        "    :param        partition: The partition of the dataframe on which to check l-diversity\n",
        "    :param sensitive_column: The name of the sensitive column\n",
        "    :param                l: The minimum required diversity of sensitive attribute values in the partition\n",
        "    \"\"\"\n",
        "    return diversity(df, partition, sensitive_column) >= l\n",
        "finished_l_diverse_partitions = partition_dataset(df, feature_columns, sensitive_column, full_spans, lambda *args: is_k_anonymous(*args) and is_l_diverse(*args))\n",
        "dfl_ad_count=count_anonymity(df, finished_l_diverse_partitions, feature_columns, sensitive_column)\n",
        "sort_dfl_cnt = sorted(dfl_ad_count, key=lambda x: x['age'])\n",
        "# Anonymized data\n",
        "dflad_cnt_k50l4 = pd.DataFrame(sort_dfl_cnt).loc[:, ['age', 'education', 'marital-status', 'race']]\n",
        "# this is attackers knowledge\n",
        "knowledge = dfa_attack.loc[:, ['age', 'education', 'marital-status', 'race']]\n",
        "\n",
        "rl,ab = attack(dflad_cnt_k50l4, knowledge)\n",
        "print(rl)\n",
        "link_cnt=0\n",
        "for i in range(11):\n",
        "  for j in range(3):\n",
        "    x=ab[0][j][i]\n",
        "    for k in range(4):\n",
        "      if(x!=-1):\n",
        "        if((dflad_cnt_k50l4.loc[x][feature_columns[k]])== knowledge.loc[i][feature_columns[k]]):\n",
        "          #print(dfad_cnt_k3.loc[x])\n",
        "          #print(knowledge.loc[i])\n",
        "          link_cnt+=1;\n",
        "\n",
        "print(link_cnt)"
      ],
      "metadata": {
        "colab": {
          "base_uri": "https://localhost:8080/"
        },
        "id": "yST-SewMeFbT",
        "outputId": "a2e92c8f-2e1f-4fee-8dc8-3a171879d70a"
      },
      "execution_count": null,
      "outputs": [
        {
          "output_type": "stream",
          "name": "stdout",
          "text": [
            "       0     1     2\n",
            "0     -1    -1    -1\n",
            "1    405   418   394\n",
            "2    757   751   752\n",
            "3     -1    -1    -1\n",
            "4     82    90    77\n",
            "5     -1    -1    -1\n",
            "6    234   238   233\n",
            "7   1582  1583  1574\n",
            "8     -1    -1    -1\n",
            "9    234   238   233\n",
            "10   405   418   394\n",
            "21\n"
          ]
        }
      ]
    },
    {
      "cell_type": "markdown",
      "source": [
        "k=50;p=0.15"
      ],
      "metadata": {
        "id": "rNdA3Qu8UaPz"
      }
    },
    {
      "cell_type": "code",
      "source": [
        "# here we generate the global frequencies for the sensitive column\n",
        "global_freqs = {}\n",
        "total_count = float(len(df))\n",
        "group_counts = df.groupby(sensitive_column)[sensitive_column].agg('count')\n",
        "for value, count in group_counts.to_dict().items():\n",
        "    p = count/total_count\n",
        "    global_freqs[value] = p\n",
        "\n",
        "def t_closeness(df, partition, column, global_freqs):\n",
        "    total_count = float(len(partition))\n",
        "    d_max = None\n",
        "    group_counts = df.loc[partition].groupby(column)[column].agg('count')\n",
        "    for value, count in group_counts.to_dict().items():\n",
        "        p = count/total_count\n",
        "        d = abs(p-global_freqs[value])\n",
        "        if d_max is None or d > d_max:\n",
        "            d_max = d\n",
        "    return d_max\n",
        "\n",
        "def is_t_close(df, partition, sensitive_column, global_freqs, p=0.15):\n",
        "    \"\"\"\n",
        "    :param               df: The dataframe for which to check l-diversity\n",
        "    :param        partition: The partition of the dataframe on which to check l-diversity\n",
        "    :param sensitive_column: The name of the sensitive column\n",
        "    :param     global_freqs: The global frequencies of the sensitive attribute values\n",
        "    :param                p: The maximum allowed Kolmogorov-Smirnov distance\n",
        "    \"\"\"\n",
        "    if not sensitive_column in categorical:\n",
        "        raise ValueError(\"this method only works for categorical values\")\n",
        "    return t_closeness(df, partition, sensitive_column, global_freqs) <= p\n",
        "\n",
        "# Let's apply this to our dataset\n",
        "finished_t_close_partitions = partition_dataset(df, feature_columns, sensitive_column, full_spans, lambda *args: is_k_anonymous(*args) and is_t_close(*args, global_freqs))\n",
        "dfp_ad_count=count_anonymity(df, finished_t_close_partitions, feature_columns, sensitive_column)\n",
        "sort_dfp_cnt = sorted(dfp_ad_count, key=lambda x: x['age'])\n",
        "dfpad_cnt_k50p02 = pd.DataFrame(sort_dfp_cnt).loc[:, ['age', 'education', 'marital-status', 'race']]\n",
        "\n",
        "knowledge = dfa_attack.loc[:, ['age', 'education', 'marital-status', 'race']]\n",
        "rl,ab = attack(dfpad_cnt_k50p02, knowledge)\n",
        "print(rl)\n",
        "link_cnt=0\n",
        "for i in range(11):\n",
        "  for j in range(3):\n",
        "    x=ab[0][j][i]\n",
        "    for k in range(4):\n",
        "      if(x!=-1):\n",
        "        if((dfpad_cnt_k50p02.loc[x][feature_columns[k]])== knowledge.loc[i][feature_columns[k]]):\n",
        "          #print(dfad_cnt_k3.loc[x])\n",
        "          #print(knowledge.loc[i])\n",
        "          link_cnt+=1;\n",
        "\n",
        "print(link_cnt)"
      ],
      "metadata": {
        "colab": {
          "base_uri": "https://localhost:8080/"
        },
        "id": "5IMQNiLOUcWv",
        "outputId": "a4359f77-2b6d-4254-e2e0-a80c115fdc8f"
      },
      "execution_count": null,
      "outputs": [
        {
          "output_type": "stream",
          "name": "stdout",
          "text": [
            "       0     1     2\n",
            "0     -1    -1    -1\n",
            "1    349   310   311\n",
            "2    586   599   572\n",
            "3     -1    -1    -1\n",
            "4   1915  1913  1914\n",
            "5     -1    -1    -1\n",
            "6    307   296   297\n",
            "7   1282  1285  1287\n",
            "8     -1    -1    -1\n",
            "9    307   296   297\n",
            "10   349   310   311\n",
            "21\n"
          ]
        }
      ]
    },
    {
      "cell_type": "markdown",
      "source": [
        "K=100"
      ],
      "metadata": {
        "id": "tNiLkJUkHcie"
      }
    },
    {
      "cell_type": "code",
      "source": [
        "def is_k_anonymous(df, partition, sensitive_column, k=100):\n",
        "    \"\"\"\n",
        "    :param               df: The dataframe on which to check the partition.\n",
        "    :param        partition: The partition of the dataframe to check.\n",
        "    :param sensitive_column: The name of the sensitive column\n",
        "    :param                k: The desired k\n",
        "    :returns               : True if the partition is valid according to our k-anonymity criteria, False otherwise.\n",
        "    \"\"\"\n",
        "    if len(partition) < k:\n",
        "        return False\n",
        "    return True\n",
        "finished_partitions = partition_dataset(df, feature_columns, sensitive_column, full_spans, is_k_anonymous)\n",
        "dfn_ad_count=count_anonymity(df, finished_partitions, feature_columns, sensitive_column)\n",
        "sort_dfn_cnt = sorted(dfn_ad_count, key=lambda x: x['age'])\n",
        "sort_dfn_cnt[:5]"
      ],
      "metadata": {
        "colab": {
          "base_uri": "https://localhost:8080/"
        },
        "id": "1yyBV_7uHeCw",
        "outputId": "a5ebec8a-7290-40a6-a55b-3ce88b6f378f"
      },
      "execution_count": null,
      "outputs": [
        {
          "output_type": "execute_result",
          "data": {
            "text/plain": [
              "[{'age': 17.0,\n",
              "  'education': '10th',\n",
              "  'marital-status': 'Never-married',\n",
              "  'race': 'White',\n",
              "  'occupation': '?',\n",
              "  'count': 29},\n",
              " {'age': 17.0,\n",
              "  'education': '10th',\n",
              "  'marital-status': 'Never-married',\n",
              "  'race': 'White',\n",
              "  'occupation': 'Adm-clerical',\n",
              "  'count': 2},\n",
              " {'age': 17.0,\n",
              "  'education': '10th',\n",
              "  'marital-status': 'Never-married',\n",
              "  'race': 'White',\n",
              "  'occupation': 'Craft-repair',\n",
              "  'count': 2},\n",
              " {'age': 17.0,\n",
              "  'education': '10th',\n",
              "  'marital-status': 'Never-married',\n",
              "  'race': 'White',\n",
              "  'occupation': 'Farming-fishing',\n",
              "  'count': 4},\n",
              " {'age': 17.0,\n",
              "  'education': '10th',\n",
              "  'marital-status': 'Never-married',\n",
              "  'race': 'White',\n",
              "  'occupation': 'Handlers-cleaners',\n",
              "  'count': 8}]"
            ]
          },
          "metadata": {},
          "execution_count": 13
        }
      ]
    },
    {
      "cell_type": "code",
      "source": [
        "# Anonymized data\n",
        "dfad_cnt_k100 = pd.DataFrame(sort_dfn_cnt).loc[:,  ['age', 'education', 'marital-status', 'race']]\n",
        "knowledge = dfa_attack.loc[:,  ['age', 'education', 'marital-status', 'race']]\n",
        "\n",
        "rl,ab = attack(dfad_cnt_k100, knowledge)\n",
        "print(rl)\n",
        "link_cnt=0\n",
        "for i in range(11):\n",
        "  for j in range(3):\n",
        "    x=ab[0][j][i]\n",
        "    for k in range(4):\n",
        "      if(x!=-1):\n",
        "        if((dfad_cnt_k100.loc[x][feature_columns[k]])== knowledge.loc[i][feature_columns[k]]):\n",
        "          #print(dfad_cnt_k3.loc[x])\n",
        "          #print(knowledge.loc[i])\n",
        "          link_cnt+=1;\n",
        "\n",
        "print(link_cnt)"
      ],
      "metadata": {
        "colab": {
          "base_uri": "https://localhost:8080/"
        },
        "id": "jKlZAOtXHr2I",
        "outputId": "746b070a-9524-4671-af28-3f4c3433f4d1"
      },
      "execution_count": null,
      "outputs": [
        {
          "output_type": "stream",
          "name": "stdout",
          "text": [
            "       0     1     2\n",
            "0     -1    -1    -1\n",
            "1    353   355   354\n",
            "2    593   591   592\n",
            "3     -1    -1    -1\n",
            "4     95    94    93\n",
            "5     -1    -1    -1\n",
            "6    326   315   320\n",
            "7   1178  1187  1182\n",
            "8     -1    -1    -1\n",
            "9   2400  2398  2399\n",
            "10   353   355   354\n",
            "21\n"
          ]
        }
      ]
    },
    {
      "cell_type": "markdown",
      "source": [
        "k=100;L=2"
      ],
      "metadata": {
        "id": "55jKepJyH1JP"
      }
    },
    {
      "cell_type": "code",
      "source": [
        "def is_l_diverse(df, partition, sensitive_column, l=2):\n",
        "    \"\"\"\n",
        "    :param               df: The dataframe for which to check l-diversity\n",
        "    :param        partition: The partition of the dataframe on which to check l-diversity\n",
        "    :param sensitive_column: The name of the sensitive column\n",
        "    :param                l: The minimum required diversity of sensitive attribute values in the partition\n",
        "    \"\"\"\n",
        "    return diversity(df, partition, sensitive_column) >= l\n",
        "finished_l_diverse_partitions = partition_dataset(df, feature_columns, sensitive_column, full_spans, lambda *args: is_k_anonymous(*args) and is_l_diverse(*args))\n",
        "dfl_ad_count=count_anonymity(df, finished_l_diverse_partitions, feature_columns, sensitive_column)\n",
        "sort_dfl_cnt = sorted(dfl_ad_count, key=lambda x: x['age'])\n",
        "# Anonymized data\n",
        "dflad_cnt_k100l2 = pd.DataFrame(sort_dfl_cnt).loc[:, ['age', 'education', 'marital-status', 'race']]\n",
        "# this is attackers knowledge\n",
        "knowledge = dfa_attack.loc[:, ['age', 'education', 'marital-status', 'race']]\n",
        "\n",
        "rl,ab = attack(dflad_cnt_k100l2, knowledge)\n",
        "print(rl)\n",
        "link_cnt=0\n",
        "for i in range(11):\n",
        "  for j in range(3):\n",
        "    x=ab[0][j][i]\n",
        "    for k in range(4):\n",
        "      if(x!=-1):\n",
        "        if((dflad_cnt_k100l2.loc[x][feature_columns[k]])== knowledge.loc[i][feature_columns[k]]):\n",
        "          #print(dfad_cnt_k3.loc[x])\n",
        "          #print(knowledge.loc[i])\n",
        "          link_cnt+=1;\n",
        "\n",
        "print(link_cnt)"
      ],
      "metadata": {
        "colab": {
          "base_uri": "https://localhost:8080/"
        },
        "id": "qWcUyPFCH9LF",
        "outputId": "5a6cac4d-79bc-46a4-b56d-45b0d43da561"
      },
      "execution_count": null,
      "outputs": [
        {
          "output_type": "stream",
          "name": "stdout",
          "text": [
            "       0     1     2\n",
            "0     -1    -1    -1\n",
            "1    353   355   354\n",
            "2    593   591   592\n",
            "3     -1    -1    -1\n",
            "4     95    94    93\n",
            "5     -1    -1    -1\n",
            "6    326   315   320\n",
            "7   1178  1187  1182\n",
            "8     -1    -1    -1\n",
            "9   2400  2398  2399\n",
            "10   353   355   354\n",
            "21\n"
          ]
        }
      ]
    },
    {
      "cell_type": "markdown",
      "source": [
        "K=100;L=4"
      ],
      "metadata": {
        "id": "kieUEIgMIM0P"
      }
    },
    {
      "cell_type": "code",
      "source": [
        "def is_l_diverse(df, partition, sensitive_column, l=13):\n",
        "    \"\"\"\n",
        "    :param               df: The dataframe for which to check l-diversity\n",
        "    :param        partition: The partition of the dataframe on which to check l-diversity\n",
        "    :param sensitive_column: The name of the sensitive column\n",
        "    :param                l: The minimum required diversity of sensitive attribute values in the partition\n",
        "    \"\"\"\n",
        "    return diversity(df, partition, sensitive_column) >= l\n",
        "finished_l_diverse_partitions = partition_dataset(df, feature_columns, sensitive_column, full_spans, lambda *args: is_k_anonymous(*args) and is_l_diverse(*args))\n",
        "dfl_ad_count=count_anonymity(df, finished_l_diverse_partitions, feature_columns, sensitive_column)\n",
        "sort_dfl_cnt = sorted(dfl_ad_count, key=lambda x: x['age'])\n",
        "# Anonymized data\n",
        "dflad_cnt_k100l4 = pd.DataFrame(sort_dfl_cnt).loc[:, ['age', 'education', 'marital-status', 'race']]\n",
        "# this is attackers knowledge\n",
        "knowledge = dfa_attack.loc[:, ['age', 'education', 'marital-status', 'race']]\n",
        "\n",
        "rl,ab = attack(dflad_cnt_k100l4, knowledge)\n",
        "print(rl)\n",
        "link_cnt=0\n",
        "for i in range(11):\n",
        "  for j in range(3):\n",
        "    x=ab[0][j][i]\n",
        "    for k in range(4):\n",
        "      if(x!=-1):\n",
        "        if((dflad_cnt_k100l4.loc[x][feature_columns[k]])== knowledge.loc[i][feature_columns[k]]):\n",
        "          #print(dfad_cnt_k3.loc[x])\n",
        "          #print(knowledge.loc[i])\n",
        "          link_cnt+=1;\n",
        "\n",
        "print(link_cnt)"
      ],
      "metadata": {
        "colab": {
          "base_uri": "https://localhost:8080/"
        },
        "id": "8DuNDZQNIOXM",
        "outputId": "ff00509b-555e-4b91-a9a8-2322c1bcadd4"
      },
      "execution_count": null,
      "outputs": [
        {
          "output_type": "stream",
          "name": "stdout",
          "text": [
            "       0     1     2\n",
            "0     -1    -1    -1\n",
            "1    324   331   316\n",
            "2    582   580   581\n",
            "3     -1    -1    -1\n",
            "4    106   108   107\n",
            "5     -1    -1    -1\n",
            "6    288   287   293\n",
            "7   1230  1236  1231\n",
            "8     -1    -1    -1\n",
            "9    113   118   109\n",
            "10    66    68    67\n",
            "21\n"
          ]
        }
      ]
    },
    {
      "cell_type": "markdown",
      "source": [
        "k=100;L=12"
      ],
      "metadata": {
        "id": "mphmtEuHitxb"
      }
    },
    {
      "cell_type": "code",
      "source": [
        "def is_l_diverse(df, partition, sensitive_column, l=12):\n",
        "    \"\"\"\n",
        "    :param               df: The dataframe for which to check l-diversity\n",
        "    :param        partition: The partition of the dataframe on which to check l-diversity\n",
        "    :param sensitive_column: The name of the sensitive column\n",
        "    :param                l: The minimum required diversity of sensitive attribute values in the partition\n",
        "    \"\"\"\n",
        "    return diversity(df, partition, sensitive_column) >= l\n",
        "finished_l_diverse_partitions = partition_dataset(df, feature_columns, sensitive_column, full_spans, lambda *args: is_k_anonymous(*args) and is_l_diverse(*args))\n",
        "dfl_ad_count=count_anonymity(df, finished_l_diverse_partitions, feature_columns, sensitive_column)\n",
        "sort_dfl_cnt = sorted(dfl_ad_count, key=lambda x: x['age'])\n",
        "# Anonymized data\n",
        "dflad_cnt_k100l4 = pd.DataFrame(sort_dfl_cnt).loc[:, ['age', 'education', 'marital-status', 'race']]\n",
        "# this is attackers knowledge\n",
        "knowledge = dfa_attack.loc[:, ['age', 'education', 'marital-status', 'race']]\n",
        "\n",
        "rl,ab = attack(dflad_cnt_k100l4, knowledge)\n",
        "print(rl)\n",
        "link_cnt=0\n",
        "for i in range(11):\n",
        "  for j in range(3):\n",
        "    x=ab[0][j][i]\n",
        "    for k in range(4):\n",
        "      if(x!=-1):\n",
        "        if((dflad_cnt_k100l4.loc[x][feature_columns[k]])== knowledge.loc[i][feature_columns[k]]):\n",
        "          #print(dfad_cnt_k3.loc[x])\n",
        "          #print(knowledge.loc[i])\n",
        "          link_cnt+=1;\n",
        "\n",
        "print(link_cnt)"
      ],
      "metadata": {
        "colab": {
          "base_uri": "https://localhost:8080/"
        },
        "id": "MmE-SeShiwNX",
        "outputId": "f6c02b52-988c-4cc6-f4af-0b7c43387b7a"
      },
      "execution_count": null,
      "outputs": [
        {
          "output_type": "stream",
          "name": "stdout",
          "text": [
            "       0     1     2\n",
            "0     -1    -1    -1\n",
            "1    335   337   336\n",
            "2    562   563   561\n",
            "3     -1    -1    -1\n",
            "4     79    77    78\n",
            "5     -1    -1    -1\n",
            "6    313   317   315\n",
            "7   1152  1154  1148\n",
            "8     -1    -1    -1\n",
            "9    313   317   315\n",
            "10   335   337   336\n",
            "21\n"
          ]
        }
      ]
    },
    {
      "cell_type": "markdown",
      "source": [
        "K=100;p=0.1"
      ],
      "metadata": {
        "id": "MFxNKKHxf40E"
      }
    },
    {
      "cell_type": "code",
      "source": [
        "# here we generate the global frequencies for the sensitive column\n",
        "global_freqs = {}\n",
        "total_count = float(len(df))\n",
        "group_counts = df.groupby(sensitive_column)[sensitive_column].agg('count')\n",
        "for value, count in group_counts.to_dict().items():\n",
        "    p = count/total_count\n",
        "    global_freqs[value] = p\n",
        "\n",
        "def t_closeness(df, partition, column, global_freqs):\n",
        "    total_count = float(len(partition))\n",
        "    d_max = None\n",
        "    group_counts = df.loc[partition].groupby(column)[column].agg('count')\n",
        "    for value, count in group_counts.to_dict().items():\n",
        "        p = count/total_count\n",
        "        d = abs(p-global_freqs[value])\n",
        "        if d_max is None or d > d_max:\n",
        "            d_max = d\n",
        "    return d_max\n",
        "\n",
        "def is_t_close(df, partition, sensitive_column, global_freqs, p=0.15):\n",
        "    \"\"\"\n",
        "    :param               df: The dataframe for which to check l-diversity\n",
        "    :param        partition: The partition of the dataframe on which to check l-diversity\n",
        "    :param sensitive_column: The name of the sensitive column\n",
        "    :param     global_freqs: The global frequencies of the sensitive attribute values\n",
        "    :param                p: The maximum allowed Kolmogorov-Smirnov distance\n",
        "    \"\"\"\n",
        "    if not sensitive_column in categorical:\n",
        "        raise ValueError(\"this method only works for categorical values\")\n",
        "    return t_closeness(df, partition, sensitive_column, global_freqs) <= p\n",
        "\n",
        "# Let's apply this to our dataset\n",
        "finished_t_close_partitions = partition_dataset(df, feature_columns, sensitive_column, full_spans, lambda *args: is_k_anonymous(*args) and is_t_close(*args, global_freqs))\n",
        "dfp_ad_count=count_anonymity(df, finished_t_close_partitions, feature_columns, sensitive_column)\n",
        "sort_dfp_cnt = sorted(dfp_ad_count, key=lambda x: x['age'])\n",
        "dfpad_cnt_k50p02 = pd.DataFrame(sort_dfp_cnt).loc[:, ['age', 'education', 'marital-status', 'race']]\n",
        "\n",
        "knowledge = dfa_attack.loc[:, ['age', 'education', 'marital-status', 'race']]\n",
        "rl,ab = attack(dfpad_cnt_k50p02, knowledge)\n",
        "print(rl)\n",
        "link_cnt=0\n",
        "for i in range(11):\n",
        "  for j in range(3):\n",
        "    x=ab[0][j][i]\n",
        "    for k in range(4):\n",
        "      if(x!=-1):\n",
        "        if((dfpad_cnt_k50p02.loc[x][feature_columns[k]])== knowledge.loc[i][feature_columns[k]]):\n",
        "          #print(dfad_cnt_k3.loc[x])\n",
        "          #print(knowledge.loc[i])\n",
        "          link_cnt+=1;\n",
        "\n",
        "print(link_cnt)"
      ],
      "metadata": {
        "colab": {
          "base_uri": "https://localhost:8080/"
        },
        "id": "ZTBqkDipT4jg",
        "outputId": "183aaeeb-1d15-496e-dec8-e1b609aec473"
      },
      "execution_count": null,
      "outputs": [
        {
          "output_type": "stream",
          "name": "stdout",
          "text": [
            "       0     1     2\n",
            "0     -1    -1    -1\n",
            "1    254   245   246\n",
            "2    441   434   446\n",
            "3     -1    -1    -1\n",
            "4   1374  1372  1373\n",
            "5     -1    -1    -1\n",
            "6    235   232   231\n",
            "7     -1    -1    -1\n",
            "8     -1    -1    -1\n",
            "9    235   232   231\n",
            "10   254   245   246\n",
            "18\n"
          ]
        }
      ]
    }
  ]
}