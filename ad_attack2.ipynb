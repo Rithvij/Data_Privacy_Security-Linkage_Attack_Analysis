{
  "nbformat": 4,
  "nbformat_minor": 0,
  "metadata": {
    "colab": {
      "provenance": []
    },
    "kernelspec": {
      "name": "python3",
      "display_name": "Python 3"
    },
    "language_info": {
      "name": "python"
    }
  },
  "cells": [
    {
      "cell_type": "code",
      "source": [
        "def get_spans(df, partition, scale=None):\n",
        "    \"\"\"\n",
        "    :param        df: the dataframe for which to calculate the spans\n",
        "    :param partition: the partition for which to calculate the spans\n",
        "    :param     scale: if given, the spans of each column will be divided\n",
        "                      by the value in `scale` for that column\n",
        "    :        returns: The spans of all columns in the partition\n",
        "    \"\"\"\n",
        "    spans = {}\n",
        "    for column in df.columns:\n",
        "        if column in categorical:\n",
        "            span = len(df[column][partition].unique())\n",
        "            #print(\"span-cat\",span)\n",
        "        else:\n",
        "            span = df[column][partition].max()-df[column][partition].min()\n",
        "            #print(\"span-num\",span)\n",
        "        if scale is not None:\n",
        "            span = span/scale[column]\n",
        "            #print(\"span/scale-num\",span)\n",
        "        spans[column] = span\n",
        "    return spans\n",
        "'''def get_spans(df, partition, scale=None):\n",
        "    spans = {}\n",
        "    for column in feature_columns:\n",
        "        if df[column].dtype.name == \"category\":\n",
        "            span = len(df[column][partition].unique())\n",
        "        else:\n",
        "            span = (\n",
        "                df[column][partition].max() - df[column][partition].min()\n",
        "            )\n",
        "        if scale is not None:\n",
        "            span = span / scale[column]\n",
        "        spans[column] = span\n",
        "    return spans'''\n",
        "def split(df, partition, column):\n",
        "    \"\"\"\n",
        "    :param        df: The dataframe to split\n",
        "    :param partition: The partition to split\n",
        "    :param    column: The column along which to split\n",
        "    :        returns: A tuple containing a split of the original partition\n",
        "    \"\"\"\n",
        "    dfp = df[column][partition]\n",
        "    if column in categorical:\n",
        "        values = dfp.unique()\n",
        "        lv = set(values[:len(values)//2])\n",
        "        #print(\"lv-cat\",lv)\n",
        "        rv = set(values[len(values)//2:])\n",
        "        #print(\"rv-cat\",rv)\n",
        "        return dfp.index[dfp.isin(lv)], dfp.index[dfp.isin(rv)]\n",
        "    else:\n",
        "        median = dfp.median()\n",
        "        dfl = dfp.index[dfp < median]\n",
        "        #print(\"dfl-num\",dfl)\n",
        "        dfr = dfp.index[dfp >= median]\n",
        "        #print(\"dfr-num\",dfr)\n",
        "        return (dfl, dfr)\n",
        "def is_k_anonymous(df, partition, sensitive_column, k=3):\n",
        "    \"\"\"\n",
        "    :param               df: The dataframe on which to check the partition.\n",
        "    :param        partition: The partition of the dataframe to check.\n",
        "    :param sensitive_column: The name of the sensitive column\n",
        "    :param                k: The desired k\n",
        "    :returns               : True if the partition is valid according to our k-anonymity criteria, False otherwise.\n",
        "    \"\"\"\n",
        "    if len(partition) < k:\n",
        "        return False\n",
        "    return True\n",
        "\n",
        "def partition_dataset(df, feature_columns, sensitive_column, scale, is_valid):\n",
        "    \"\"\"\n",
        "    :param               df: The dataframe to be partitioned.\n",
        "    :param  feature_columns: A list of column names along which to partition the dataset.\n",
        "    :param sensitive_column: The name of the sensitive column (to be passed on to the `is_valid` function)\n",
        "    :param            scale: The column spans as generated before.\n",
        "    :param         is_valid: A function that takes a dataframe and a partition and returns True if the partition is valid.\n",
        "    :returns               : A list of valid partitions that cover the entire dataframe.\n",
        "    \"\"\"\n",
        "    finished_partitions = []\n",
        "    partitions = [df.index]\n",
        "    while partitions:\n",
        "        partition = partitions.pop(0)\n",
        "        #print(\"partition\",partition)\n",
        "        spans = get_spans(df[feature_columns], partition, scale)\n",
        "        #print(\"spans\",spans)\n",
        "        for column, span in sorted(spans.items(), key=lambda x:-x[1]):\n",
        "            lp, rp = split(df, partition, column)\n",
        "            #print(\"lp\",lp)\n",
        "            #print(\"rp\",rp)\n",
        "            if not is_valid(df, lp, sensitive_column) or not is_valid(df, rp, sensitive_column):\n",
        "                #print(\"continue happened\")\n",
        "                continue\n",
        "            #print(\"satisfied if here\")\n",
        "            partitions.extend((lp, rp))\n",
        "            #print(\"breaking\")\n",
        "            break\n",
        "        else:\n",
        "            #print(\"satisfied else here\")\n",
        "            finished_partitions.append(partition)\n",
        "            #print(\"appending fin part here\",finished_partitions)\n",
        "    return finished_partitions\n",
        "def agg_categorical_column(series):\n",
        "    return [','.join(set(series))]\n",
        "\n",
        "def agg_numerical_column(series):\n",
        "    return [series.mean()]\n",
        "def build_anonymized_dataset(df, partitions, feature_columns, sensitive_column, max_partitions=None):\n",
        "    aggregations = {}\n",
        "    for column in feature_columns:\n",
        "        if column in categorical:\n",
        "            aggregations[column] = agg_categorical_column\n",
        "        else:\n",
        "            aggregations[column] = agg_numerical_column\n",
        "    rows = []\n",
        "    for i, partition in enumerate(partitions):\n",
        "        if i % 100 == 1:\n",
        "            print(\"Finished {} partitions...\".format(i))\n",
        "        if max_partitions is not None and i > max_partitions:\n",
        "            break\n",
        "        grouped_columns = df.loc[partition].agg(aggregations, squeeze=False)\n",
        "        #print(\"grouped_columns\",grouped_columns)\n",
        "        sensitive_counts = df.loc[partition].groupby(sensitive_column).agg({sensitive_column: 'count'})\n",
        "        #print(\"sensitive-columns\",sensitive_counts)\n",
        "\n",
        "        # Check if grouped_columns is a list\n",
        "        if isinstance(grouped_columns, list):\n",
        "            # If it's a list, iterate over each DataFrame and process\n",
        "            for group_df in grouped_columns:\n",
        "                values = group_df.iloc[0].to_dict()\n",
        "                for sensitive_value, count in sensitive_counts[sensitive_column].items():\n",
        "                    if count == 0:\n",
        "                        continue\n",
        "                    values.update({\n",
        "                        sensitive_column: sensitive_value,\n",
        "                        'count': count,\n",
        "                    })\n",
        "                    rows.append(values.copy())\n",
        "        else:\n",
        "            # If it's not a list, it's a single DataFrame, so process it directly\n",
        "            #print(\"not list\")\n",
        "            values = grouped_columns.to_dict()\n",
        "            for sensitive_value, count in sensitive_counts[sensitive_column].items():\n",
        "                if count == 0:\n",
        "                    continue\n",
        "                values.update({\n",
        "                    sensitive_column: sensitive_value,\n",
        "                    'count': count,\n",
        "                })\n",
        "                rows.append(values.copy())\n",
        "\n",
        "    return pd.DataFrame(rows)\n",
        "def diversity(df, partition, column):\n",
        "    return len(df[column][partition].unique())\n",
        "\n",
        "def is_l_diverse(df, partition, sensitive_column, l=2):\n",
        "    \"\"\"\n",
        "    :param               df: The dataframe for which to check l-diversity\n",
        "    :param        partition: The partition of the dataframe on which to check l-diversity\n",
        "    :param sensitive_column: The name of the sensitive column\n",
        "    :param                l: The minimum required diversity of sensitive attribute values in the partition\n",
        "    \"\"\"\n",
        "    return diversity(df, partition, sensitive_column) >= l\n",
        "\n",
        "def t_closeness(df, partition, column, global_freqs):\n",
        "    total_count = float(len(partition))\n",
        "    d_max = None\n",
        "    group_counts = df.loc[partition].groupby(column)[column].agg('count')\n",
        "    for value, count in group_counts.to_dict().items():\n",
        "        p = count/total_count\n",
        "        d = abs(p-global_freqs[value])\n",
        "        if d_max is None or d > d_max:\n",
        "            d_max = d\n",
        "    return d_max\n",
        "\n",
        "def is_t_close(df, partition, sensitive_column, global_freqs, p=0.2):\n",
        "    \"\"\"\n",
        "    :param               df: The dataframe for which to check l-diversity\n",
        "    :param        partition: The partition of the dataframe on which to check l-diversity\n",
        "    :param sensitive_column: The name of the sensitive column\n",
        "    :param     global_freqs: The global frequencies of the sensitive attribute values\n",
        "    :param                p: The maximum allowed Kolmogorov-Smirnov distance\n",
        "    \"\"\"\n",
        "    if not sensitive_column in categorical:\n",
        "        raise ValueError(\"this method only works for categorical values\")\n",
        "    return t_closeness(df, partition, sensitive_column, global_freqs) <= p"
      ],
      "metadata": {
        "id": "QbXSkKXuJdhD"
      },
      "execution_count": null,
      "outputs": []
    },
    {
      "cell_type": "markdown",
      "source": [
        "**For Adult Dataset**"
      ],
      "metadata": {
        "id": "XyrZrRbGFSDx"
      }
    },
    {
      "cell_type": "code",
      "source": [
        "\n",
        "import pandas as pd\n",
        "from google.colab import drive\n",
        "drive.mount('/content/drive')\n",
        "# this is a list of the column names in our dataset (as the file doesn't contain any headers)\n",
        "names = (\n",
        "    'age',\n",
        "    'workclass', #Private, Self-emp-not-inc, Self-emp-inc, Federal-gov, Local-gov, State-gov, Without-pay, Never-worked.\n",
        "    'fnlwgt',\n",
        "    'education',\n",
        "    'education-num',\n",
        "    'marital-status',\n",
        "    'occupation',\n",
        "    'relationship',\n",
        "    'race',\n",
        "    'sex',\n",
        "    'capital-gain',\n",
        "    'capital-loss',\n",
        "    'hours-per-week',\n",
        "    'native-country',\n",
        "    'income',\n",
        ")\n",
        "\n",
        "# some fields are categorical and will require special treatment\n",
        "categorical = set((\n",
        "    'workclass',\n",
        "    'education',\n",
        "    'marital-status',\n",
        "    'occupation',\n",
        "    'relationship',\n",
        "    'sex',\n",
        "    'native-country',\n",
        "    'race',\n",
        "    'income',\n",
        "))\n",
        "path=\"/content/drive/My Drive/Data Privacy Assignment/Data Priv_dataset/Adult_test.csv\"\n",
        "df = pd.read_csv(path, header=None, names=names, engine='python');# We load the data using Pandas\n",
        "for name in categorical:\n",
        "    df[name] = df[name].astype(\"category\")\n",
        "df"
      ],
      "metadata": {
        "colab": {
          "base_uri": "https://localhost:8080/",
          "height": 441
        },
        "id": "vRKfKDR_Fa5g",
        "outputId": "8dd080a6-15e9-4f01-8742-4d53102c8136"
      },
      "execution_count": null,
      "outputs": [
        {
          "output_type": "stream",
          "name": "stdout",
          "text": [
            "Mounted at /content/drive\n"
          ]
        },
        {
          "output_type": "execute_result",
          "data": {
            "text/plain": [
              "       age         workclass  fnlwgt   education  education-num  \\\n",
              "0       39         State-gov   77516   Bachelors             13   \n",
              "1       50  Self-emp-not-inc   83311   Bachelors             13   \n",
              "2       38           Private  215646     HS-grad              9   \n",
              "3       53           Private  234721        11th              7   \n",
              "4       28           Private  338409   Bachelors             13   \n",
              "...    ...               ...     ...         ...            ...   \n",
              "32556   27           Private  257302  Assoc-acdm             12   \n",
              "32557   40           Private  154374     HS-grad              9   \n",
              "32558   58           Private  151910     HS-grad              9   \n",
              "32559   22           Private  201490     HS-grad              9   \n",
              "32560   52      Self-emp-inc  287927     HS-grad              9   \n",
              "\n",
              "           marital-status         occupation   relationship   race     sex  \\\n",
              "0           Never-married       Adm-clerical  Not-in-family  White    Male   \n",
              "1      Married-civ-spouse    Exec-managerial        Husband  White    Male   \n",
              "2                Divorced  Handlers-cleaners  Not-in-family  White    Male   \n",
              "3      Married-civ-spouse  Handlers-cleaners        Husband  Black    Male   \n",
              "4      Married-civ-spouse     Prof-specialty           Wife  Black  Female   \n",
              "...                   ...                ...            ...    ...     ...   \n",
              "32556  Married-civ-spouse       Tech-support           Wife  White  Female   \n",
              "32557  Married-civ-spouse  Machine-op-inspct        Husband  White    Male   \n",
              "32558             Widowed       Adm-clerical      Unmarried  White  Female   \n",
              "32559       Never-married       Adm-clerical      Own-child  White    Male   \n",
              "32560  Married-civ-spouse    Exec-managerial           Wife  White  Female   \n",
              "\n",
              "       capital-gain  capital-loss  hours-per-week native-country income  \n",
              "0              2174             0              40  United-States  <=50K  \n",
              "1                 0             0              13  United-States  <=50K  \n",
              "2                 0             0              40  United-States  <=50K  \n",
              "3                 0             0              40  United-States  <=50K  \n",
              "4                 0             0              40           Cuba  <=50K  \n",
              "...             ...           ...             ...            ...    ...  \n",
              "32556             0             0              38  United-States  <=50K  \n",
              "32557             0             0              40  United-States   >50K  \n",
              "32558             0             0              40  United-States  <=50K  \n",
              "32559             0             0              20  United-States  <=50K  \n",
              "32560         15024             0              40  United-States   >50K  \n",
              "\n",
              "[32561 rows x 15 columns]"
            ],
            "text/html": [
              "\n",
              "  <div id=\"df-3b4f0dba-e581-43a1-ae57-d375285af295\" class=\"colab-df-container\">\n",
              "    <div>\n",
              "<style scoped>\n",
              "    .dataframe tbody tr th:only-of-type {\n",
              "        vertical-align: middle;\n",
              "    }\n",
              "\n",
              "    .dataframe tbody tr th {\n",
              "        vertical-align: top;\n",
              "    }\n",
              "\n",
              "    .dataframe thead th {\n",
              "        text-align: right;\n",
              "    }\n",
              "</style>\n",
              "<table border=\"1\" class=\"dataframe\">\n",
              "  <thead>\n",
              "    <tr style=\"text-align: right;\">\n",
              "      <th></th>\n",
              "      <th>age</th>\n",
              "      <th>workclass</th>\n",
              "      <th>fnlwgt</th>\n",
              "      <th>education</th>\n",
              "      <th>education-num</th>\n",
              "      <th>marital-status</th>\n",
              "      <th>occupation</th>\n",
              "      <th>relationship</th>\n",
              "      <th>race</th>\n",
              "      <th>sex</th>\n",
              "      <th>capital-gain</th>\n",
              "      <th>capital-loss</th>\n",
              "      <th>hours-per-week</th>\n",
              "      <th>native-country</th>\n",
              "      <th>income</th>\n",
              "    </tr>\n",
              "  </thead>\n",
              "  <tbody>\n",
              "    <tr>\n",
              "      <th>0</th>\n",
              "      <td>39</td>\n",
              "      <td>State-gov</td>\n",
              "      <td>77516</td>\n",
              "      <td>Bachelors</td>\n",
              "      <td>13</td>\n",
              "      <td>Never-married</td>\n",
              "      <td>Adm-clerical</td>\n",
              "      <td>Not-in-family</td>\n",
              "      <td>White</td>\n",
              "      <td>Male</td>\n",
              "      <td>2174</td>\n",
              "      <td>0</td>\n",
              "      <td>40</td>\n",
              "      <td>United-States</td>\n",
              "      <td>&lt;=50K</td>\n",
              "    </tr>\n",
              "    <tr>\n",
              "      <th>1</th>\n",
              "      <td>50</td>\n",
              "      <td>Self-emp-not-inc</td>\n",
              "      <td>83311</td>\n",
              "      <td>Bachelors</td>\n",
              "      <td>13</td>\n",
              "      <td>Married-civ-spouse</td>\n",
              "      <td>Exec-managerial</td>\n",
              "      <td>Husband</td>\n",
              "      <td>White</td>\n",
              "      <td>Male</td>\n",
              "      <td>0</td>\n",
              "      <td>0</td>\n",
              "      <td>13</td>\n",
              "      <td>United-States</td>\n",
              "      <td>&lt;=50K</td>\n",
              "    </tr>\n",
              "    <tr>\n",
              "      <th>2</th>\n",
              "      <td>38</td>\n",
              "      <td>Private</td>\n",
              "      <td>215646</td>\n",
              "      <td>HS-grad</td>\n",
              "      <td>9</td>\n",
              "      <td>Divorced</td>\n",
              "      <td>Handlers-cleaners</td>\n",
              "      <td>Not-in-family</td>\n",
              "      <td>White</td>\n",
              "      <td>Male</td>\n",
              "      <td>0</td>\n",
              "      <td>0</td>\n",
              "      <td>40</td>\n",
              "      <td>United-States</td>\n",
              "      <td>&lt;=50K</td>\n",
              "    </tr>\n",
              "    <tr>\n",
              "      <th>3</th>\n",
              "      <td>53</td>\n",
              "      <td>Private</td>\n",
              "      <td>234721</td>\n",
              "      <td>11th</td>\n",
              "      <td>7</td>\n",
              "      <td>Married-civ-spouse</td>\n",
              "      <td>Handlers-cleaners</td>\n",
              "      <td>Husband</td>\n",
              "      <td>Black</td>\n",
              "      <td>Male</td>\n",
              "      <td>0</td>\n",
              "      <td>0</td>\n",
              "      <td>40</td>\n",
              "      <td>United-States</td>\n",
              "      <td>&lt;=50K</td>\n",
              "    </tr>\n",
              "    <tr>\n",
              "      <th>4</th>\n",
              "      <td>28</td>\n",
              "      <td>Private</td>\n",
              "      <td>338409</td>\n",
              "      <td>Bachelors</td>\n",
              "      <td>13</td>\n",
              "      <td>Married-civ-spouse</td>\n",
              "      <td>Prof-specialty</td>\n",
              "      <td>Wife</td>\n",
              "      <td>Black</td>\n",
              "      <td>Female</td>\n",
              "      <td>0</td>\n",
              "      <td>0</td>\n",
              "      <td>40</td>\n",
              "      <td>Cuba</td>\n",
              "      <td>&lt;=50K</td>\n",
              "    </tr>\n",
              "    <tr>\n",
              "      <th>...</th>\n",
              "      <td>...</td>\n",
              "      <td>...</td>\n",
              "      <td>...</td>\n",
              "      <td>...</td>\n",
              "      <td>...</td>\n",
              "      <td>...</td>\n",
              "      <td>...</td>\n",
              "      <td>...</td>\n",
              "      <td>...</td>\n",
              "      <td>...</td>\n",
              "      <td>...</td>\n",
              "      <td>...</td>\n",
              "      <td>...</td>\n",
              "      <td>...</td>\n",
              "      <td>...</td>\n",
              "    </tr>\n",
              "    <tr>\n",
              "      <th>32556</th>\n",
              "      <td>27</td>\n",
              "      <td>Private</td>\n",
              "      <td>257302</td>\n",
              "      <td>Assoc-acdm</td>\n",
              "      <td>12</td>\n",
              "      <td>Married-civ-spouse</td>\n",
              "      <td>Tech-support</td>\n",
              "      <td>Wife</td>\n",
              "      <td>White</td>\n",
              "      <td>Female</td>\n",
              "      <td>0</td>\n",
              "      <td>0</td>\n",
              "      <td>38</td>\n",
              "      <td>United-States</td>\n",
              "      <td>&lt;=50K</td>\n",
              "    </tr>\n",
              "    <tr>\n",
              "      <th>32557</th>\n",
              "      <td>40</td>\n",
              "      <td>Private</td>\n",
              "      <td>154374</td>\n",
              "      <td>HS-grad</td>\n",
              "      <td>9</td>\n",
              "      <td>Married-civ-spouse</td>\n",
              "      <td>Machine-op-inspct</td>\n",
              "      <td>Husband</td>\n",
              "      <td>White</td>\n",
              "      <td>Male</td>\n",
              "      <td>0</td>\n",
              "      <td>0</td>\n",
              "      <td>40</td>\n",
              "      <td>United-States</td>\n",
              "      <td>&gt;50K</td>\n",
              "    </tr>\n",
              "    <tr>\n",
              "      <th>32558</th>\n",
              "      <td>58</td>\n",
              "      <td>Private</td>\n",
              "      <td>151910</td>\n",
              "      <td>HS-grad</td>\n",
              "      <td>9</td>\n",
              "      <td>Widowed</td>\n",
              "      <td>Adm-clerical</td>\n",
              "      <td>Unmarried</td>\n",
              "      <td>White</td>\n",
              "      <td>Female</td>\n",
              "      <td>0</td>\n",
              "      <td>0</td>\n",
              "      <td>40</td>\n",
              "      <td>United-States</td>\n",
              "      <td>&lt;=50K</td>\n",
              "    </tr>\n",
              "    <tr>\n",
              "      <th>32559</th>\n",
              "      <td>22</td>\n",
              "      <td>Private</td>\n",
              "      <td>201490</td>\n",
              "      <td>HS-grad</td>\n",
              "      <td>9</td>\n",
              "      <td>Never-married</td>\n",
              "      <td>Adm-clerical</td>\n",
              "      <td>Own-child</td>\n",
              "      <td>White</td>\n",
              "      <td>Male</td>\n",
              "      <td>0</td>\n",
              "      <td>0</td>\n",
              "      <td>20</td>\n",
              "      <td>United-States</td>\n",
              "      <td>&lt;=50K</td>\n",
              "    </tr>\n",
              "    <tr>\n",
              "      <th>32560</th>\n",
              "      <td>52</td>\n",
              "      <td>Self-emp-inc</td>\n",
              "      <td>287927</td>\n",
              "      <td>HS-grad</td>\n",
              "      <td>9</td>\n",
              "      <td>Married-civ-spouse</td>\n",
              "      <td>Exec-managerial</td>\n",
              "      <td>Wife</td>\n",
              "      <td>White</td>\n",
              "      <td>Female</td>\n",
              "      <td>15024</td>\n",
              "      <td>0</td>\n",
              "      <td>40</td>\n",
              "      <td>United-States</td>\n",
              "      <td>&gt;50K</td>\n",
              "    </tr>\n",
              "  </tbody>\n",
              "</table>\n",
              "<p>32561 rows × 15 columns</p>\n",
              "</div>\n",
              "    <div class=\"colab-df-buttons\">\n",
              "\n",
              "  <div class=\"colab-df-container\">\n",
              "    <button class=\"colab-df-convert\" onclick=\"convertToInteractive('df-3b4f0dba-e581-43a1-ae57-d375285af295')\"\n",
              "            title=\"Convert this dataframe to an interactive table.\"\n",
              "            style=\"display:none;\">\n",
              "\n",
              "  <svg xmlns=\"http://www.w3.org/2000/svg\" height=\"24px\" viewBox=\"0 -960 960 960\">\n",
              "    <path d=\"M120-120v-720h720v720H120Zm60-500h600v-160H180v160Zm220 220h160v-160H400v160Zm0 220h160v-160H400v160ZM180-400h160v-160H180v160Zm440 0h160v-160H620v160ZM180-180h160v-160H180v160Zm440 0h160v-160H620v160Z\"/>\n",
              "  </svg>\n",
              "    </button>\n",
              "\n",
              "  <style>\n",
              "    .colab-df-container {\n",
              "      display:flex;\n",
              "      gap: 12px;\n",
              "    }\n",
              "\n",
              "    .colab-df-convert {\n",
              "      background-color: #E8F0FE;\n",
              "      border: none;\n",
              "      border-radius: 50%;\n",
              "      cursor: pointer;\n",
              "      display: none;\n",
              "      fill: #1967D2;\n",
              "      height: 32px;\n",
              "      padding: 0 0 0 0;\n",
              "      width: 32px;\n",
              "    }\n",
              "\n",
              "    .colab-df-convert:hover {\n",
              "      background-color: #E2EBFA;\n",
              "      box-shadow: 0px 1px 2px rgba(60, 64, 67, 0.3), 0px 1px 3px 1px rgba(60, 64, 67, 0.15);\n",
              "      fill: #174EA6;\n",
              "    }\n",
              "\n",
              "    .colab-df-buttons div {\n",
              "      margin-bottom: 4px;\n",
              "    }\n",
              "\n",
              "    [theme=dark] .colab-df-convert {\n",
              "      background-color: #3B4455;\n",
              "      fill: #D2E3FC;\n",
              "    }\n",
              "\n",
              "    [theme=dark] .colab-df-convert:hover {\n",
              "      background-color: #434B5C;\n",
              "      box-shadow: 0px 1px 3px 1px rgba(0, 0, 0, 0.15);\n",
              "      filter: drop-shadow(0px 1px 2px rgba(0, 0, 0, 0.3));\n",
              "      fill: #FFFFFF;\n",
              "    }\n",
              "  </style>\n",
              "\n",
              "    <script>\n",
              "      const buttonEl =\n",
              "        document.querySelector('#df-3b4f0dba-e581-43a1-ae57-d375285af295 button.colab-df-convert');\n",
              "      buttonEl.style.display =\n",
              "        google.colab.kernel.accessAllowed ? 'block' : 'none';\n",
              "\n",
              "      async function convertToInteractive(key) {\n",
              "        const element = document.querySelector('#df-3b4f0dba-e581-43a1-ae57-d375285af295');\n",
              "        const dataTable =\n",
              "          await google.colab.kernel.invokeFunction('convertToInteractive',\n",
              "                                                    [key], {});\n",
              "        if (!dataTable) return;\n",
              "\n",
              "        const docLinkHtml = 'Like what you see? Visit the ' +\n",
              "          '<a target=\"_blank\" href=https://colab.research.google.com/notebooks/data_table.ipynb>data table notebook</a>'\n",
              "          + ' to learn more about interactive tables.';\n",
              "        element.innerHTML = '';\n",
              "        dataTable['output_type'] = 'display_data';\n",
              "        await google.colab.output.renderOutput(dataTable, element);\n",
              "        const docLink = document.createElement('div');\n",
              "        docLink.innerHTML = docLinkHtml;\n",
              "        element.appendChild(docLink);\n",
              "      }\n",
              "    </script>\n",
              "  </div>\n",
              "\n",
              "\n",
              "<div id=\"df-469db082-cc81-49dc-9f7e-5b8c5ac4a4ca\">\n",
              "  <button class=\"colab-df-quickchart\" onclick=\"quickchart('df-469db082-cc81-49dc-9f7e-5b8c5ac4a4ca')\"\n",
              "            title=\"Suggest charts\"\n",
              "            style=\"display:none;\">\n",
              "\n",
              "<svg xmlns=\"http://www.w3.org/2000/svg\" height=\"24px\"viewBox=\"0 0 24 24\"\n",
              "     width=\"24px\">\n",
              "    <g>\n",
              "        <path d=\"M19 3H5c-1.1 0-2 .9-2 2v14c0 1.1.9 2 2 2h14c1.1 0 2-.9 2-2V5c0-1.1-.9-2-2-2zM9 17H7v-7h2v7zm4 0h-2V7h2v10zm4 0h-2v-4h2v4z\"/>\n",
              "    </g>\n",
              "</svg>\n",
              "  </button>\n",
              "\n",
              "<style>\n",
              "  .colab-df-quickchart {\n",
              "      --bg-color: #E8F0FE;\n",
              "      --fill-color: #1967D2;\n",
              "      --hover-bg-color: #E2EBFA;\n",
              "      --hover-fill-color: #174EA6;\n",
              "      --disabled-fill-color: #AAA;\n",
              "      --disabled-bg-color: #DDD;\n",
              "  }\n",
              "\n",
              "  [theme=dark] .colab-df-quickchart {\n",
              "      --bg-color: #3B4455;\n",
              "      --fill-color: #D2E3FC;\n",
              "      --hover-bg-color: #434B5C;\n",
              "      --hover-fill-color: #FFFFFF;\n",
              "      --disabled-bg-color: #3B4455;\n",
              "      --disabled-fill-color: #666;\n",
              "  }\n",
              "\n",
              "  .colab-df-quickchart {\n",
              "    background-color: var(--bg-color);\n",
              "    border: none;\n",
              "    border-radius: 50%;\n",
              "    cursor: pointer;\n",
              "    display: none;\n",
              "    fill: var(--fill-color);\n",
              "    height: 32px;\n",
              "    padding: 0;\n",
              "    width: 32px;\n",
              "  }\n",
              "\n",
              "  .colab-df-quickchart:hover {\n",
              "    background-color: var(--hover-bg-color);\n",
              "    box-shadow: 0 1px 2px rgba(60, 64, 67, 0.3), 0 1px 3px 1px rgba(60, 64, 67, 0.15);\n",
              "    fill: var(--button-hover-fill-color);\n",
              "  }\n",
              "\n",
              "  .colab-df-quickchart-complete:disabled,\n",
              "  .colab-df-quickchart-complete:disabled:hover {\n",
              "    background-color: var(--disabled-bg-color);\n",
              "    fill: var(--disabled-fill-color);\n",
              "    box-shadow: none;\n",
              "  }\n",
              "\n",
              "  .colab-df-spinner {\n",
              "    border: 2px solid var(--fill-color);\n",
              "    border-color: transparent;\n",
              "    border-bottom-color: var(--fill-color);\n",
              "    animation:\n",
              "      spin 1s steps(1) infinite;\n",
              "  }\n",
              "\n",
              "  @keyframes spin {\n",
              "    0% {\n",
              "      border-color: transparent;\n",
              "      border-bottom-color: var(--fill-color);\n",
              "      border-left-color: var(--fill-color);\n",
              "    }\n",
              "    20% {\n",
              "      border-color: transparent;\n",
              "      border-left-color: var(--fill-color);\n",
              "      border-top-color: var(--fill-color);\n",
              "    }\n",
              "    30% {\n",
              "      border-color: transparent;\n",
              "      border-left-color: var(--fill-color);\n",
              "      border-top-color: var(--fill-color);\n",
              "      border-right-color: var(--fill-color);\n",
              "    }\n",
              "    40% {\n",
              "      border-color: transparent;\n",
              "      border-right-color: var(--fill-color);\n",
              "      border-top-color: var(--fill-color);\n",
              "    }\n",
              "    60% {\n",
              "      border-color: transparent;\n",
              "      border-right-color: var(--fill-color);\n",
              "    }\n",
              "    80% {\n",
              "      border-color: transparent;\n",
              "      border-right-color: var(--fill-color);\n",
              "      border-bottom-color: var(--fill-color);\n",
              "    }\n",
              "    90% {\n",
              "      border-color: transparent;\n",
              "      border-bottom-color: var(--fill-color);\n",
              "    }\n",
              "  }\n",
              "</style>\n",
              "\n",
              "  <script>\n",
              "    async function quickchart(key) {\n",
              "      const quickchartButtonEl =\n",
              "        document.querySelector('#' + key + ' button');\n",
              "      quickchartButtonEl.disabled = true;  // To prevent multiple clicks.\n",
              "      quickchartButtonEl.classList.add('colab-df-spinner');\n",
              "      try {\n",
              "        const charts = await google.colab.kernel.invokeFunction(\n",
              "            'suggestCharts', [key], {});\n",
              "      } catch (error) {\n",
              "        console.error('Error during call to suggestCharts:', error);\n",
              "      }\n",
              "      quickchartButtonEl.classList.remove('colab-df-spinner');\n",
              "      quickchartButtonEl.classList.add('colab-df-quickchart-complete');\n",
              "    }\n",
              "    (() => {\n",
              "      let quickchartButtonEl =\n",
              "        document.querySelector('#df-469db082-cc81-49dc-9f7e-5b8c5ac4a4ca button');\n",
              "      quickchartButtonEl.style.display =\n",
              "        google.colab.kernel.accessAllowed ? 'block' : 'none';\n",
              "    })();\n",
              "  </script>\n",
              "</div>\n",
              "    </div>\n",
              "  </div>\n"
            ]
          },
          "metadata": {},
          "execution_count": 2
        }
      ]
    },
    {
      "cell_type": "markdown",
      "source": [
        "K=3"
      ],
      "metadata": {
        "id": "U6xc6x5WLX7H"
      }
    },
    {
      "cell_type": "code",
      "source": [
        "def is_k_anonymous(df, partition, sensitive_column, k=3):\n",
        "    \"\"\"\n",
        "    :param               df: The dataframe on which to check the partition.\n",
        "    :param        partition: The partition of the dataframe to check.\n",
        "    :param sensitive_column: The name of the sensitive column\n",
        "    :param                k: The desired k\n",
        "    :returns               : True if the partition is valid according to our k-anonymity criteria, False otherwise.\n",
        "    \"\"\"\n",
        "    if len(partition) < k:\n",
        "        return False\n",
        "    return True\n",
        "full_spans = get_spans(df, df.index)\n",
        "# we apply our partitioning method to two columns of our dataset, using \"income\" as the sensitive attribute\n",
        "feature_columns = ['age', 'education', 'marital-status', 'race']\n",
        "sensitive_column = 'occupation'\n",
        "finished_partitions = partition_dataset(df, feature_columns, sensitive_column, full_spans, is_k_anonymous)\n",
        "#dfn_adult = build_anonymized_dataset(df, finished_partitions, feature_columns, sensitive_column)\n",
        "#dfn_adult"
      ],
      "metadata": {
        "id": "otromJXBLGkA"
      },
      "execution_count": null,
      "outputs": []
    },
    {
      "cell_type": "code",
      "source": [
        "def count_anonymity(\n",
        "    df, partitions, feature_columns, sensitive_column, max_partitions=None\n",
        "):\n",
        "    aggregations = {}\n",
        "    for column in feature_columns:\n",
        "        if df[column].dtype.name == \"category\":\n",
        "            aggregations[column] = agg_categorical_column\n",
        "        else:\n",
        "            aggregations[column] = agg_numerical_column\n",
        "    aggregations[sensitive_column] = \"count\"\n",
        "    rows = []\n",
        "    for i, partition in enumerate(partitions):\n",
        "        if max_partitions is not None and i > max_partitions:\n",
        "            break\n",
        "        grouped_columns = df.loc[partition].agg(aggregations, squeeze=False)\n",
        "        sensitive_counts = df.loc[partition].groupby(sensitive_column).agg({sensitive_column: 'count'})\n",
        "\n",
        "        # Check if grouped_columns is a list\n",
        "        if isinstance(grouped_columns, list):\n",
        "            # If it's a list, iterate over each DataFrame and process\n",
        "            for group_df in grouped_columns:\n",
        "                values = group_df.apply(lambda x: x[0] if isinstance(x, list) and len(x) > 0 else x).to_dict()\n",
        "                for sensitive_value, count in sensitive_counts[sensitive_column].items():\n",
        "                    if count == 0:\n",
        "                        continue\n",
        "                    values.update({\n",
        "                        sensitive_column: sensitive_value,\n",
        "                        'count': count,\n",
        "                    })\n",
        "                    rows.append(values.copy())\n",
        "        else:\n",
        "            # If it's not a list, it's a single DataFrame, so process it directly\n",
        "            values = grouped_columns.apply(lambda x: x[0] if isinstance(x, list) and len(x) > 0 else x).to_dict()\n",
        "            for sensitive_value, count in sensitive_counts[sensitive_column].items():\n",
        "                if count == 0:\n",
        "                    continue\n",
        "                values.update({\n",
        "                    sensitive_column: sensitive_value,\n",
        "                    'count': count,\n",
        "                })\n",
        "                rows.append(values.copy())\n",
        "\n",
        "    return rows\n",
        "dfn_ad_count=count_anonymity(df, finished_partitions, feature_columns, sensitive_column)\n",
        "sort_dfn_cnt = sorted(dfn_ad_count, key=lambda x: x['age'])\n",
        "sort_dfn_cnt[:5]"
      ],
      "metadata": {
        "colab": {
          "base_uri": "https://localhost:8080/"
        },
        "id": "pFt7VbOhLPLv",
        "outputId": "f75adb34-5c83-4062-f978-38bc888dda7c"
      },
      "execution_count": null,
      "outputs": [
        {
          "output_type": "execute_result",
          "data": {
            "text/plain": [
              "[{'age': 17.0,\n",
              "  'education': '10th',\n",
              "  'marital-status': 'Never-married',\n",
              "  'race': 'White',\n",
              "  'occupation': '?',\n",
              "  'count': 29},\n",
              " {'age': 17.0,\n",
              "  'education': '10th',\n",
              "  'marital-status': 'Never-married',\n",
              "  'race': 'White',\n",
              "  'occupation': 'Adm-clerical',\n",
              "  'count': 2},\n",
              " {'age': 17.0,\n",
              "  'education': '10th',\n",
              "  'marital-status': 'Never-married',\n",
              "  'race': 'White',\n",
              "  'occupation': 'Craft-repair',\n",
              "  'count': 2},\n",
              " {'age': 17.0,\n",
              "  'education': '10th',\n",
              "  'marital-status': 'Never-married',\n",
              "  'race': 'White',\n",
              "  'occupation': 'Farming-fishing',\n",
              "  'count': 4},\n",
              " {'age': 17.0,\n",
              "  'education': '10th',\n",
              "  'marital-status': 'Never-married',\n",
              "  'race': 'White',\n",
              "  'occupation': 'Handlers-cleaners',\n",
              "  'count': 8}]"
            ]
          },
          "metadata": {},
          "execution_count": 4
        }
      ]
    },
    {
      "cell_type": "code",
      "source": [
        "import pandas as pd\n",
        "import numpy as np\n",
        "from sklearn.neighbors import KDTree\n",
        "#!pip install category_encoders\n",
        "import category_encoders as ce\n",
        "\n",
        "class RecordLinkage:\n",
        "    def __init__(self, df, knowledge):\n",
        "        self.df = df\n",
        "        self.knowledge = knowledge\n",
        "\n",
        "        categories = (df.dtypes == \"object\").keys().to_list()\n",
        "        self.enc = ce.OneHotEncoder(cols=categories, drop_invariant=False)\n",
        "        df_concat = pd.concat([self.df, self.knowledge], ignore_index=True)\n",
        "        self.enc.fit(df_concat)\n",
        "\n",
        "    def execute(self, k=3):\n",
        "        enc_df = self.enc.transform(self.df).astype(\"float64\").values\n",
        "        enc_knowledge = self.enc.transform(self.knowledge).astype(\"float64\").values\n",
        "\n",
        "        tree = KDTree(enc_df)\n",
        "        dist, index = tree.query(enc_knowledge, k=k)\n",
        "        return dist, index\n",
        "\n",
        "\n",
        "def attack(df, knowledge):\n",
        "    k = 3\n",
        "    a = RecordLinkage(df, knowledge)\n",
        "    ab=[]\n",
        "    dist, index = a.execute(k)\n",
        "\n",
        "    di = pd.DataFrame(np.hstack((index, dist)))\n",
        "    #print(di)\n",
        "\n",
        "    di.loc[di[3] > di[3].median(), :] = -1\n",
        "    #print(di[3].median())\n",
        "    # Display the top three\n",
        "    ab.append(di.iloc[:, 0:k].astype(int))\n",
        "    return di.iloc[:, 0:k].astype(int),ab\n",
        "\n",
        "path1=\"/content/drive/My Drive/Data Privacy Assignment/adult_attack2.csv\"\n",
        "dfa_attack = pd.read_csv(path1)\n",
        "\n",
        "# Anonymized data\n",
        "dfad_cnt_k3 = pd.DataFrame(sort_dfn_cnt).loc[:, ['age', 'education', 'marital-status', 'race']]\n",
        "# this is attackers knowledge\n",
        "knowledge = dfa_attack.loc[:, ['age', 'education', 'marital-status', 'race']]\n",
        "\n",
        "rl,ab = attack(dfad_cnt_k3, knowledge)\n",
        "print(rl)\n",
        "\n",
        "link_cnt=0\n",
        "for i in range(11):\n",
        "  for j in range(3):\n",
        "    x=ab[0][j][i]\n",
        "    flag=0\n",
        "    for k in range(4):\n",
        "      if(x!=-1):\n",
        "        if((dfad_cnt_k3.loc[x][feature_columns[k]])== knowledge.loc[i][feature_columns[k]]):\n",
        "          #print(dfad_cnt_k3.loc[x])\n",
        "          #print(knowledge.loc[i])\n",
        "          link_cnt+=1;\n",
        "        else:\n",
        "          flag=1\n",
        "\n",
        "print(link_cnt)"
      ],
      "metadata": {
        "colab": {
          "base_uri": "https://localhost:8080/"
        },
        "id": "x9d9OyDRNtHP",
        "outputId": "88ac1680-2e66-4924-a6b3-70457010663f"
      },
      "execution_count": null,
      "outputs": [
        {
          "output_type": "stream",
          "name": "stdout",
          "text": [
            "Collecting category_encoders\n",
            "  Downloading category_encoders-2.6.3-py2.py3-none-any.whl (81 kB)\n",
            "\u001b[2K     \u001b[90m━━━━━━━━━━━━━━━━━━━━━━━━━━━━━━━━━━━━━━━━\u001b[0m \u001b[32m81.9/81.9 kB\u001b[0m \u001b[31m2.0 MB/s\u001b[0m eta \u001b[36m0:00:00\u001b[0m\n",
            "\u001b[?25hRequirement already satisfied: numpy>=1.14.0 in /usr/local/lib/python3.10/dist-packages (from category_encoders) (1.23.5)\n",
            "Requirement already satisfied: scikit-learn>=0.20.0 in /usr/local/lib/python3.10/dist-packages (from category_encoders) (1.2.2)\n",
            "Requirement already satisfied: scipy>=1.0.0 in /usr/local/lib/python3.10/dist-packages (from category_encoders) (1.11.4)\n",
            "Requirement already satisfied: statsmodels>=0.9.0 in /usr/local/lib/python3.10/dist-packages (from category_encoders) (0.14.0)\n",
            "Requirement already satisfied: pandas>=1.0.5 in /usr/local/lib/python3.10/dist-packages (from category_encoders) (1.5.3)\n",
            "Requirement already satisfied: patsy>=0.5.1 in /usr/local/lib/python3.10/dist-packages (from category_encoders) (0.5.3)\n",
            "Requirement already satisfied: python-dateutil>=2.8.1 in /usr/local/lib/python3.10/dist-packages (from pandas>=1.0.5->category_encoders) (2.8.2)\n",
            "Requirement already satisfied: pytz>=2020.1 in /usr/local/lib/python3.10/dist-packages (from pandas>=1.0.5->category_encoders) (2023.3.post1)\n",
            "Requirement already satisfied: six in /usr/local/lib/python3.10/dist-packages (from patsy>=0.5.1->category_encoders) (1.16.0)\n",
            "Requirement already satisfied: joblib>=1.1.1 in /usr/local/lib/python3.10/dist-packages (from scikit-learn>=0.20.0->category_encoders) (1.3.2)\n",
            "Requirement already satisfied: threadpoolctl>=2.0.0 in /usr/local/lib/python3.10/dist-packages (from scikit-learn>=0.20.0->category_encoders) (3.2.0)\n",
            "Requirement already satisfied: packaging>=21.3 in /usr/local/lib/python3.10/dist-packages (from statsmodels>=0.9.0->category_encoders) (23.2)\n",
            "Installing collected packages: category_encoders\n",
            "Successfully installed category_encoders-2.6.3\n",
            "        0      1      2\n",
            "0      -1     -1     -1\n",
            "1    1204   1203   1208\n",
            "2    2015   2013   2014\n",
            "3   10969  10967  10968\n",
            "4    6718   6716   6717\n",
            "5   11055  11053  11054\n",
            "6     239    237    238\n",
            "7      -1     -1     -1\n",
            "8   11015  11013  11014\n",
            "9     138    135    136\n",
            "10    108    110    109\n",
            "27\n"
          ]
        }
      ]
    },
    {
      "cell_type": "markdown",
      "source": [
        "K=3;L=2"
      ],
      "metadata": {
        "id": "rtG9Bxq_auT0"
      }
    },
    {
      "cell_type": "code",
      "source": [
        "def diversity(df, partition, column):\n",
        "    return len(df[column][partition].unique())\n",
        "\n",
        "def is_l_diverse(df, partition, sensitive_column, l=2):\n",
        "    \"\"\"\n",
        "    :param               df: The dataframe for which to check l-diversity\n",
        "    :param        partition: The partition of the dataframe on which to check l-diversity\n",
        "    :param sensitive_column: The name of the sensitive column\n",
        "    :param                l: The minimum required diversity of sensitive attribute values in the partition\n",
        "    \"\"\"\n",
        "    return diversity(df, partition, sensitive_column) >= l\n",
        "# now let's apply this method to our data and see how the result changes\n",
        "finished_l_diverse_partitions = partition_dataset(df, feature_columns, sensitive_column, full_spans, lambda *args: is_k_anonymous(*args) and is_l_diverse(*args))\n",
        "dfl_ad_count=count_anonymity(df, finished_l_diverse_partitions, feature_columns, sensitive_column)\n",
        "sort_dfl_cnt = sorted(dfl_ad_count, key=lambda x: x['age'])"
      ],
      "metadata": {
        "id": "V7F4oYt1asvY"
      },
      "execution_count": null,
      "outputs": []
    },
    {
      "cell_type": "code",
      "source": [
        "# Anonymized data\n",
        "dflad_cnt_k3l2 = pd.DataFrame(sort_dfl_cnt).loc[:, ['age', 'education', 'marital-status', 'race']]\n",
        "# this is attackers knowledge\n",
        "knowledge = dfa_attack.loc[:, ['age', 'education', 'marital-status', 'race']]\n",
        "\n",
        "rl,ab = attack(dflad_cnt_k3l2, knowledge)\n",
        "print(rl)\n",
        "link_cnt=0\n",
        "for i in range(11):\n",
        "  for j in range(3):\n",
        "    x=ab[0][j][i]\n",
        "    for k in range(4):\n",
        "      if(x!=-1):\n",
        "        if((dflad_cnt_k3l2.loc[x][feature_columns[k]])== knowledge.loc[i][feature_columns[k]]):\n",
        "          #print(dfad_cnt_k3.loc[x])\n",
        "          #print(knowledge.loc[i])\n",
        "          link_cnt+=1;\n",
        "\n",
        "print(link_cnt)"
      ],
      "metadata": {
        "colab": {
          "base_uri": "https://localhost:8080/"
        },
        "id": "P8Blsrp3bVSH",
        "outputId": "e53a99ea-b1db-402d-c432-1315e60d9bdd"
      },
      "execution_count": null,
      "outputs": [
        {
          "output_type": "stream",
          "name": "stdout",
          "text": [
            "        0      1      2\n",
            "0      -1     -1     -1\n",
            "1    1207   1216   1203\n",
            "2    2007   2006   2008\n",
            "3   10913  10911  10912\n",
            "4    6690   6688   6689\n",
            "5   10997  10995  10996\n",
            "6     239    237    238\n",
            "7      -1     -1     -1\n",
            "8   10958  10956  10957\n",
            "9     138    135    136\n",
            "10    110    108    109\n",
            "27\n"
          ]
        }
      ]
    },
    {
      "cell_type": "markdown",
      "source": [
        "K=3;L=4"
      ],
      "metadata": {
        "id": "XE48ou7tuh3T"
      }
    },
    {
      "cell_type": "code",
      "source": [
        "def diversity(df, partition, column):\n",
        "    return len(df[column][partition].unique())\n",
        "\n",
        "def is_l_diverse(df, partition, sensitive_column, l=4):\n",
        "    \"\"\"\n",
        "    :param               df: The dataframe for which to check l-diversity\n",
        "    :param        partition: The partition of the dataframe on which to check l-diversity\n",
        "    :param sensitive_column: The name of the sensitive column\n",
        "    :param                l: The minimum required diversity of sensitive attribute values in the partition\n",
        "    \"\"\"\n",
        "    return diversity(df, partition, sensitive_column) >= l\n",
        "# now let's apply this method to our data and see how the result changes\n",
        "finished_l_diverse_partitions = partition_dataset(df, feature_columns, sensitive_column, full_spans, lambda *args: is_k_anonymous(*args) and is_l_diverse(*args))\n",
        "dfl_ad_count=count_anonymity(df, finished_l_diverse_partitions, feature_columns, sensitive_column)\n",
        "sort_dfl_cnt = sorted(dfl_ad_count, key=lambda x: x['age'])\n",
        "\n",
        "# Anonymized data\n",
        "dflad_cnt_k3l4 = pd.DataFrame(sort_dfl_cnt).loc[:, ['age', 'education', 'marital-status', 'race']]\n",
        "# this is attackers knowledge\n",
        "knowledge = dfa_attack.loc[:, ['age', 'education', 'marital-status', 'race']]\n",
        "\n",
        "rl,ab = attack(dflad_cnt_k3l4, knowledge)\n",
        "print(rl)\n",
        "link_cnt=0\n",
        "for i in range(11):\n",
        "  for j in range(3):\n",
        "    x=ab[0][j][i]\n",
        "    for k in range(4):\n",
        "      if(x!=-1):\n",
        "        if((dflad_cnt_k3l4.loc[x][feature_columns[k]])== knowledge.loc[i][feature_columns[k]]):\n",
        "          #print(dfad_cnt_k3.loc[x])\n",
        "          #print(knowledge.loc[i])\n",
        "          link_cnt+=1;\n",
        "\n",
        "print(link_cnt)"
      ],
      "metadata": {
        "colab": {
          "base_uri": "https://localhost:8080/"
        },
        "id": "pOKq_FTlt-a_",
        "outputId": "52625bce-cac5-4c71-d7f0-1b3f435f0a08"
      },
      "execution_count": null,
      "outputs": [
        {
          "output_type": "stream",
          "name": "stdout",
          "text": [
            "        0      1      2\n",
            "0      -1     -1     -1\n",
            "1    1127   1128   1118\n",
            "2    1908   1906   1909\n",
            "3      -1     -1     -1\n",
            "4    6263   6265   6262\n",
            "5      -1     -1     -1\n",
            "6     269    265    270\n",
            "7      -1     -1     -1\n",
            "8   10140  10137  10139\n",
            "9      88    133     87\n",
            "10    109    104    103\n",
            "21\n"
          ]
        }
      ]
    },
    {
      "cell_type": "markdown",
      "source": [
        "K=3;L=12"
      ],
      "metadata": {
        "id": "2frLUOXUjbRS"
      }
    },
    {
      "cell_type": "code",
      "source": [
        "def diversity(df, partition, column):\n",
        "    return len(df[column][partition].unique())\n",
        "\n",
        "def is_l_diverse(df, partition, sensitive_column, l=12):\n",
        "    \"\"\"\n",
        "    :param               df: The dataframe for which to check l-diversity\n",
        "    :param        partition: The partition of the dataframe on which to check l-diversity\n",
        "    :param sensitive_column: The name of the sensitive column\n",
        "    :param                l: The minimum required diversity of sensitive attribute values in the partition\n",
        "    \"\"\"\n",
        "    return diversity(df, partition, sensitive_column) >= l\n",
        "# now let's apply this method to our data and see how the result changes\n",
        "finished_l_diverse_partitions = partition_dataset(df, feature_columns, sensitive_column, full_spans, lambda *args: is_k_anonymous(*args) and is_l_diverse(*args))\n",
        "dfl_ad_count=count_anonymity(df, finished_l_diverse_partitions, feature_columns, sensitive_column)\n",
        "sort_dfl_cnt = sorted(dfl_ad_count, key=lambda x: x['age'])\n",
        "\n",
        "# Anonymized data\n",
        "dflad_cnt_k3l4 = pd.DataFrame(sort_dfl_cnt).loc[:, ['age', 'education', 'marital-status', 'race']]\n",
        "# this is attackers knowledge\n",
        "knowledge = dfa_attack.loc[:, ['age', 'education', 'marital-status', 'race']]\n",
        "\n",
        "rl,ab = attack(dflad_cnt_k3l4, knowledge)\n",
        "print(rl)\n",
        "link_cnt=0\n",
        "for i in range(11):\n",
        "  for j in range(3):\n",
        "    x=ab[0][j][i]\n",
        "    for k in range(4):\n",
        "      if(x!=-1):\n",
        "        if((dflad_cnt_k3l4.loc[x][feature_columns[k]])== knowledge.loc[i][feature_columns[k]]):\n",
        "          #print(dfad_cnt_k3.loc[x])\n",
        "          #print(knowledge.loc[i])\n",
        "          link_cnt+=1;\n",
        "\n",
        "print(link_cnt)"
      ],
      "metadata": {
        "colab": {
          "base_uri": "https://localhost:8080/"
        },
        "id": "L6a9KVbAjddt",
        "outputId": "94f7c0a6-b689-4c19-c634-1a02f427d86c"
      },
      "execution_count": null,
      "outputs": [
        {
          "output_type": "stream",
          "name": "stdout",
          "text": [
            "      0    1    2\n",
            "0    98  115   99\n",
            "1   403  449  402\n",
            "2   827  824  825\n",
            "3    98  115   99\n",
            "4    98  115   99\n",
            "5    98  115   99\n",
            "6   235  234  233\n",
            "7    98  115   99\n",
            "8    98  115   99\n",
            "9    79   77   78\n",
            "10   98  115   99\n",
            "12\n"
          ]
        }
      ]
    },
    {
      "cell_type": "markdown",
      "source": [
        "K=3;P=0.15"
      ],
      "metadata": {
        "id": "tpAeOFh5_Paj"
      }
    },
    {
      "cell_type": "code",
      "source": [
        "# here we generate the global frequencies for the sensitive column\n",
        "global_freqs = {}\n",
        "total_count = float(len(df))\n",
        "group_counts = df.groupby(sensitive_column)[sensitive_column].agg('count')\n",
        "for value, count in group_counts.to_dict().items():\n",
        "    p = count/total_count\n",
        "    global_freqs[value] = p\n",
        "\n",
        "def t_closeness(df, partition, column, global_freqs):\n",
        "    total_count = float(len(partition))\n",
        "    d_max = None\n",
        "    group_counts = df.loc[partition].groupby(column)[column].agg('count')\n",
        "    for value, count in group_counts.to_dict().items():\n",
        "        p = count/total_count\n",
        "        d = abs(p-global_freqs[value])\n",
        "        if d_max is None or d > d_max:\n",
        "            d_max = d\n",
        "    return d_max\n",
        "\n",
        "def is_t_close(df, partition, sensitive_column, global_freqs, p=0.15):\n",
        "    \"\"\"\n",
        "    :param               df: The dataframe for which to check l-diversity\n",
        "    :param        partition: The partition of the dataframe on which to check l-diversity\n",
        "    :param sensitive_column: The name of the sensitive column\n",
        "    :param     global_freqs: The global frequencies of the sensitive attribute values\n",
        "    :param                p: The maximum allowed Kolmogorov-Smirnov distance\n",
        "    \"\"\"\n",
        "    if not sensitive_column in categorical:\n",
        "        raise ValueError(\"this method only works for categorical values\")\n",
        "    return t_closeness(df, partition, sensitive_column, global_freqs) <= p\n",
        "\n",
        "# Let's apply this to our dataset\n",
        "finished_t_close_partitions = partition_dataset(df, feature_columns, sensitive_column, full_spans, lambda *args: is_k_anonymous(*args) and is_t_close(*args, global_freqs))\n",
        "dfp_ad_count=count_anonymity(df, finished_t_close_partitions, feature_columns, sensitive_column)\n",
        "sort_dfp_cnt = sorted(dfp_ad_count, key=lambda x: x['age'])"
      ],
      "metadata": {
        "id": "Lm2ecJXY_lwc"
      },
      "execution_count": null,
      "outputs": []
    },
    {
      "cell_type": "code",
      "source": [
        "# Anonymized data\n",
        "dfpad_cnt_k3p02 = pd.DataFrame(sort_dfp_cnt).loc[:, ['age', 'education', 'marital-status', 'race']]\n",
        "# this is attackers knowledge\n",
        "knowledge = dfa_attack.loc[:, ['age', 'education', 'marital-status', 'race']]\n",
        "\n",
        "rl,ab = attack(dfpad_cnt_k3p02, knowledge)\n",
        "print(rl)\n",
        "link_cnt=0\n",
        "for i in range(11):\n",
        "  for j in range(3):\n",
        "    x=ab[0][j][i]\n",
        "    for k in range(4):\n",
        "      if(x!=-1):\n",
        "        if((dfpad_cnt_k3p02.loc[x][feature_columns[k]])== knowledge.loc[i][feature_columns[k]]):\n",
        "          #print(dfad_cnt_k3.loc[x])\n",
        "          #print(knowledge.loc[i])\n",
        "          link_cnt+=1;\n",
        "\n",
        "print(link_cnt)"
      ],
      "metadata": {
        "colab": {
          "base_uri": "https://localhost:8080/"
        },
        "id": "6P5nJ9U5ky3d",
        "outputId": "301e5d1d-8ee2-486c-c863-acfd5a2d391a"
      },
      "execution_count": null,
      "outputs": [
        {
          "output_type": "stream",
          "name": "stdout",
          "text": [
            "       0     1     2\n",
            "0     82   100    87\n",
            "1    357   356   355\n",
            "2    699   708   703\n",
            "3     82   100    87\n",
            "4   2570  2569  2568\n",
            "5     82   100    87\n",
            "6    341   344   342\n",
            "7     82   100    87\n",
            "8     82   100    87\n",
            "9     52    45    53\n",
            "10    82   100    87\n",
            "15\n"
          ]
        }
      ]
    },
    {
      "cell_type": "markdown",
      "source": [
        "K=10"
      ],
      "metadata": {
        "id": "gJo3mqF-bV7I"
      }
    },
    {
      "cell_type": "code",
      "source": [
        "def is_k_anonymous(df, partition, sensitive_column, k=10):\n",
        "    \"\"\"\n",
        "    :param               df: The dataframe on which to check the partition.\n",
        "    :param        partition: The partition of the dataframe to check.\n",
        "    :param sensitive_column: The name of the sensitive column\n",
        "    :param                k: The desired k\n",
        "    :returns               : True if the partition is valid according to our k-anonymity criteria, False otherwise.\n",
        "    \"\"\"\n",
        "    if len(partition) < k:\n",
        "        return False\n",
        "    return True\n",
        "finished_partitions = partition_dataset(df, feature_columns, sensitive_column, full_spans, is_k_anonymous)\n",
        "dfn_ad_count=count_anonymity(df, finished_partitions, feature_columns, sensitive_column)\n",
        "sort_dfn_cnt = sorted(dfn_ad_count, key=lambda x: x['age'])\n",
        "sort_dfn_cnt[:5]"
      ],
      "metadata": {
        "colab": {
          "base_uri": "https://localhost:8080/"
        },
        "id": "rDjNTtLPOduK",
        "outputId": "924a209c-b2bb-49f2-fac7-87a87ca2c9cb"
      },
      "execution_count": null,
      "outputs": [
        {
          "output_type": "execute_result",
          "data": {
            "text/plain": [
              "[{'age': 17.0,\n",
              "  'education': '10th',\n",
              "  'marital-status': 'Never-married',\n",
              "  'race': 'White',\n",
              "  'occupation': '?',\n",
              "  'count': 29},\n",
              " {'age': 17.0,\n",
              "  'education': '10th',\n",
              "  'marital-status': 'Never-married',\n",
              "  'race': 'White',\n",
              "  'occupation': 'Adm-clerical',\n",
              "  'count': 2},\n",
              " {'age': 17.0,\n",
              "  'education': '10th',\n",
              "  'marital-status': 'Never-married',\n",
              "  'race': 'White',\n",
              "  'occupation': 'Craft-repair',\n",
              "  'count': 2},\n",
              " {'age': 17.0,\n",
              "  'education': '10th',\n",
              "  'marital-status': 'Never-married',\n",
              "  'race': 'White',\n",
              "  'occupation': 'Farming-fishing',\n",
              "  'count': 4},\n",
              " {'age': 17.0,\n",
              "  'education': '10th',\n",
              "  'marital-status': 'Never-married',\n",
              "  'race': 'White',\n",
              "  'occupation': 'Handlers-cleaners',\n",
              "  'count': 8}]"
            ]
          },
          "metadata": {},
          "execution_count": 73
        }
      ]
    },
    {
      "cell_type": "code",
      "source": [
        "# Anonymized data\n",
        "dfad_cnt_k10 = pd.DataFrame(sort_dfn_cnt).loc[:, ['age', 'education', 'marital-status', 'race']]\n",
        "# this is attackers knowledge\n",
        "knowledge = dfa_attack.loc[:, ['age', 'education', 'marital-status', 'race']]\n",
        "\n",
        "rl,ab = attack(dfad_cnt_k10, knowledge)\n",
        "print(rl)\n",
        "link_cnt=0\n",
        "for i in range(11):\n",
        "  for j in range(3):\n",
        "    x=ab[0][j][i]\n",
        "    for k in range(4):\n",
        "      if(x!=-1):\n",
        "        if((dfad_cnt_k10.loc[x][feature_columns[k]])== knowledge.loc[i][feature_columns[k]]):\n",
        "          #print(dfad_cnt_k3.loc[x])\n",
        "          #print(knowledge.loc[i])\n",
        "          link_cnt+=1;\n",
        "\n",
        "print(link_cnt)"
      ],
      "metadata": {
        "colab": {
          "base_uri": "https://localhost:8080/"
        },
        "id": "xFHtE7YbOlha",
        "outputId": "cf17e7a7-81f1-4cd6-8db1-c929e6ead272"
      },
      "execution_count": null,
      "outputs": [
        {
          "output_type": "stream",
          "name": "stdout",
          "text": [
            "       0     1     2\n",
            "0     -1    -1    -1\n",
            "1    968   970   967\n",
            "2   1685  1686  1678\n",
            "3     -1    -1    -1\n",
            "4   5521  5535  5520\n",
            "5     -1    -1    -1\n",
            "6    371   369   370\n",
            "7     -1    -1    -1\n",
            "8     -1    -1    -1\n",
            "9    120   130   118\n",
            "10    96    98    97\n",
            "18\n"
          ]
        }
      ]
    },
    {
      "cell_type": "markdown",
      "source": [
        "L=2;K=10"
      ],
      "metadata": {
        "id": "ZPWgeag7cAR9"
      }
    },
    {
      "cell_type": "code",
      "source": [
        "def is_l_diverse(df, partition, sensitive_column, l=2):\n",
        "    \"\"\"\n",
        "    :param               df: The dataframe for which to check l-diversity\n",
        "    :param        partition: The partition of the dataframe on which to check l-diversity\n",
        "    :param sensitive_column: The name of the sensitive column\n",
        "    :param                l: The minimum required diversity of sensitive attribute values in the partition\n",
        "    \"\"\"\n",
        "    return diversity(df, partition, sensitive_column) >= l\n",
        "finished_l_diverse_partitions = partition_dataset(df, feature_columns, sensitive_column, full_spans, lambda *args: is_k_anonymous(*args) and is_l_diverse(*args))\n",
        "dfl_ad_count=count_anonymity(df, finished_l_diverse_partitions, feature_columns, sensitive_column)\n",
        "sort_dfl_cnt = sorted(dfl_ad_count, key=lambda x: x['age'])\n",
        "# Anonymized data\n",
        "dflad_cnt_k10l2 = pd.DataFrame(sort_dfl_cnt).loc[:, ['age', 'education', 'marital-status', 'race']]\n",
        "# this is attackers knowledge\n",
        "knowledge = dfa_attack.loc[:, ['age', 'education', 'marital-status', 'race']]\n",
        "\n",
        "rl,ab = attack(dflad_cnt_k10l2, knowledge)\n",
        "print(rl)\n",
        "link_cnt=0\n",
        "for i in range(11):\n",
        "  for j in range(3):\n",
        "    x=ab[0][j][i]\n",
        "    for k in range(4):\n",
        "      if(x!=-1):\n",
        "        if((dflad_cnt_k10l2.loc[x][feature_columns[k]])== knowledge.loc[i][feature_columns[k]]):\n",
        "          #print(dfad_cnt_k3.loc[x])\n",
        "          #print(knowledge.loc[i])\n",
        "          link_cnt+=1;\n",
        "\n",
        "print(link_cnt)"
      ],
      "metadata": {
        "colab": {
          "base_uri": "https://localhost:8080/"
        },
        "id": "jVgbUc_ocB7E",
        "outputId": "e172f997-fbcb-4482-e538-bb349f03f7b5"
      },
      "execution_count": null,
      "outputs": [
        {
          "output_type": "stream",
          "name": "stdout",
          "text": [
            "       0     1     2\n",
            "0     -1    -1    -1\n",
            "1    968   974   967\n",
            "2   1686  1678  1682\n",
            "3     -1    -1    -1\n",
            "4   5518  5531  5517\n",
            "5     -1    -1    -1\n",
            "6    375   377   376\n",
            "7     -1    -1    -1\n",
            "8     -1    -1    -1\n",
            "9    118   129   122\n",
            "10   214   213   212\n",
            "18\n"
          ]
        }
      ]
    },
    {
      "cell_type": "markdown",
      "source": [
        "L=4,k=10"
      ],
      "metadata": {
        "id": "RKJc4jTZpcAR"
      }
    },
    {
      "cell_type": "code",
      "source": [
        "def is_l_diverse(df, partition, sensitive_column, l=4):\n",
        "    \"\"\"\n",
        "    :param               df: The dataframe for which to check l-diversity\n",
        "    :param        partition: The partition of the dataframe on which to check l-diversity\n",
        "    :param sensitive_column: The name of the sensitive column\n",
        "    :param                l: The minimum required diversity of sensitive attribute values in the partition\n",
        "    \"\"\"\n",
        "    return diversity(df, partition, sensitive_column) >= l\n",
        "finished_l_diverse_partitions = partition_dataset(df, feature_columns, sensitive_column, full_spans, lambda *args: is_k_anonymous(*args) and is_l_diverse(*args))\n",
        "dfl_ad_count=count_anonymity(df, finished_l_diverse_partitions, feature_columns, sensitive_column)\n",
        "sort_dfl_cnt = sorted(dfl_ad_count, key=lambda x: x['age'])\n",
        "# Anonymized data\n",
        "dflad_cnt_k10l4 = pd.DataFrame(sort_dfl_cnt).loc[:, ['age', 'education', 'marital-status', 'race']]\n",
        "\n",
        "# this is attackers knowledge\n",
        "knowledge = dfa_attack.loc[:, ['age', 'education', 'marital-status', 'race']]\n",
        "\n",
        "rl,ab = attack(dflad_cnt_k10l4, knowledge)\n",
        "print(rl)\n",
        "link_cnt=0\n",
        "for i in range(11):\n",
        "  for j in range(3):\n",
        "    x=ab[0][j][i]\n",
        "    for k in range(4):\n",
        "      if(x!=-1):\n",
        "        if((dflad_cnt_k10l4.loc[x][feature_columns[k]])== knowledge.loc[i][feature_columns[k]]):\n",
        "          #print(dfad_cnt_k3.loc[x])\n",
        "          #print(knowledge.loc[i])\n",
        "          link_cnt+=1;\n",
        "\n",
        "print(link_cnt)"
      ],
      "metadata": {
        "colab": {
          "base_uri": "https://localhost:8080/"
        },
        "id": "pDzYlJA4pdmI",
        "outputId": "d36c7344-3200-4cbf-f7c6-173e9bf4c335"
      },
      "execution_count": null,
      "outputs": [
        {
          "output_type": "stream",
          "name": "stdout",
          "text": [
            "       0     1     2\n",
            "0     -1    -1    -1\n",
            "1    972   974   973\n",
            "2   1681  1690  1680\n",
            "3     -1    -1    -1\n",
            "4   5520  5544  5519\n",
            "5     -1    -1    -1\n",
            "6    376   375   374\n",
            "7     -1    -1    -1\n",
            "8     -1    -1    -1\n",
            "9    121   136   122\n",
            "10   213   212   216\n",
            "18\n"
          ]
        }
      ]
    },
    {
      "cell_type": "markdown",
      "source": [
        "K=10;L=12"
      ],
      "metadata": {
        "id": "c83kjizQkG8B"
      }
    },
    {
      "cell_type": "code",
      "source": [
        "def is_l_diverse(df, partition, sensitive_column, l=12):\n",
        "    \"\"\"\n",
        "    :param               df: The dataframe for which to check l-diversity\n",
        "    :param        partition: The partition of the dataframe on which to check l-diversity\n",
        "    :param sensitive_column: The name of the sensitive column\n",
        "    :param                l: The minimum required diversity of sensitive attribute values in the partition\n",
        "    \"\"\"\n",
        "    return diversity(df, partition, sensitive_column) >= l\n",
        "finished_l_diverse_partitions = partition_dataset(df, feature_columns, sensitive_column, full_spans, lambda *args: is_k_anonymous(*args) and is_l_diverse(*args))\n",
        "dfl_ad_count=count_anonymity(df, finished_l_diverse_partitions, feature_columns, sensitive_column)\n",
        "sort_dfl_cnt = sorted(dfl_ad_count, key=lambda x: x['age'])\n",
        "# Anonymized data\n",
        "dflad_cnt_k20l4 = pd.DataFrame(sort_dfl_cnt).loc[:, ['age', 'education', 'marital-status', 'race']]\n",
        "#print(dflad_cnt_k20l4.head(50))\n",
        "# this is attackers knowledge\n",
        "knowledge = dfa_attack.loc[:, ['age', 'education', 'marital-status', 'race']]\n",
        "\n",
        "rl,ab = attack(dflad_cnt_k20l4, knowledge)\n",
        "print(rl)\n",
        "link_cnt=0\n",
        "for i in range(11):\n",
        "  for j in range(3):\n",
        "    x=ab[0][j][i]\n",
        "    for k in range(4):\n",
        "      if(x!=-1):\n",
        "        if((dflad_cnt_k20l4.loc[x][feature_columns[k]])== knowledge.loc[i][feature_columns[k]]):\n",
        "          #print(dfad_cnt_k3.loc[x])\n",
        "          #print(knowledge.loc[i])\n",
        "          link_cnt+=1;\n",
        "\n",
        "print(link_cnt)"
      ],
      "metadata": {
        "colab": {
          "base_uri": "https://localhost:8080/"
        },
        "id": "20-HkIK3eXco",
        "outputId": "7c52f439-9fdc-42c8-ce13-c01d7f7b5f3c"
      },
      "execution_count": null,
      "outputs": [
        {
          "output_type": "stream",
          "name": "stdout",
          "text": [
            "      0    1    2\n",
            "0    98  115   99\n",
            "1   403  449  402\n",
            "2   827  824  825\n",
            "3    98  115   99\n",
            "4    98  115   99\n",
            "5    98  115   99\n",
            "6   235  234  233\n",
            "7    98  115   99\n",
            "8    98  115   99\n",
            "9    79   77   78\n",
            "10   98  115   99\n",
            "12\n"
          ]
        }
      ]
    },
    {
      "cell_type": "markdown",
      "source": [
        "k=10;p=0.1"
      ],
      "metadata": {
        "id": "ec09vVuaYQhQ"
      }
    },
    {
      "cell_type": "code",
      "source": [
        "# here we generate the global frequencies for the sensitive column\n",
        "global_freqs = {}\n",
        "total_count = float(len(df))\n",
        "group_counts = df.groupby(sensitive_column)[sensitive_column].agg('count')\n",
        "for value, count in group_counts.to_dict().items():\n",
        "    p = count/total_count\n",
        "    global_freqs[value] = p\n",
        "\n",
        "def t_closeness(df, partition, column, global_freqs):\n",
        "    total_count = float(len(partition))\n",
        "    d_max = None\n",
        "    group_counts = df.loc[partition].groupby(column)[column].agg('count')\n",
        "    for value, count in group_counts.to_dict().items():\n",
        "        p = count/total_count\n",
        "        d = abs(p-global_freqs[value])\n",
        "        if d_max is None or d > d_max:\n",
        "            d_max = d\n",
        "    return d_max\n",
        "\n",
        "def is_t_close(df, partition, sensitive_column, global_freqs, p=0.15):\n",
        "    \"\"\"\n",
        "    :param               df: The dataframe for which to check l-diversity\n",
        "    :param        partition: The partition of the dataframe on which to check l-diversity\n",
        "    :param sensitive_column: The name of the sensitive column\n",
        "    :param     global_freqs: The global frequencies of the sensitive attribute values\n",
        "    :param                p: The maximum allowed Kolmogorov-Smirnov distance\n",
        "    \"\"\"\n",
        "    if not sensitive_column in categorical:\n",
        "        raise ValueError(\"this method only works for categorical values\")\n",
        "    return t_closeness(df, partition, sensitive_column, global_freqs) <= p\n",
        "\n",
        "# Let's apply this to our dataset\n",
        "finished_t_close_partitions = partition_dataset(df, feature_columns, sensitive_column, full_spans, lambda *args: is_k_anonymous(*args) and is_t_close(*args, global_freqs))\n",
        "dfp_ad_count=count_anonymity(df, finished_t_close_partitions, feature_columns, sensitive_column)\n",
        "sort_dfp_cnt = sorted(dfp_ad_count, key=lambda x: x['age'])\n",
        "# Anonymized data\n",
        "dfpad_cnt_k10p02 = pd.DataFrame(sort_dfp_cnt).loc[:, ['age', 'education', 'marital-status', 'race']]\n",
        "# this is attackers knowledge\n",
        "knowledge = dfa_attack.loc[:, ['age', 'education', 'marital-status', 'race']]\n",
        "\n",
        "rl,ab = attack(dfpad_cnt_k10p02, knowledge)\n",
        "print(rl)\n",
        "link_cnt=0\n",
        "for i in range(11):\n",
        "  for j in range(3):\n",
        "    x=ab[0][j][i]\n",
        "    for k in range(4):\n",
        "      if(x!=-1):\n",
        "        if((dfpad_cnt_k10p02.loc[x][feature_columns[k]])== knowledge.loc[i][feature_columns[k]]):\n",
        "          #print(dfad_cnt_k3.loc[x])\n",
        "          #print(knowledge.loc[i])\n",
        "          link_cnt+=1;\n",
        "\n",
        "print(link_cnt)"
      ],
      "metadata": {
        "colab": {
          "base_uri": "https://localhost:8080/"
        },
        "id": "5-zw4RUNWDQW",
        "outputId": "77e7ea17-7f14-42c3-b198-4ec69f61e20e"
      },
      "execution_count": null,
      "outputs": [
        {
          "output_type": "stream",
          "name": "stdout",
          "text": [
            "       0     1     2\n",
            "0     85   122    91\n",
            "1    355   357   356\n",
            "2    699   700   697\n",
            "3     85   122    91\n",
            "4   2547  2545  2546\n",
            "5     85   122    91\n",
            "6    352   354   353\n",
            "7     85   122    91\n",
            "8     85   122    91\n",
            "9     51    53    52\n",
            "10    85   122    91\n",
            "15\n"
          ]
        }
      ]
    },
    {
      "cell_type": "markdown",
      "source": [
        "K=20"
      ],
      "metadata": {
        "id": "djjd7GP6dFsI"
      }
    },
    {
      "cell_type": "code",
      "source": [
        "def is_k_anonymous(df, partition, sensitive_column, k=20):\n",
        "    \"\"\"\n",
        "    :param               df: The dataframe on which to check the partition.\n",
        "    :param        partition: The partition of the dataframe to check.\n",
        "    :param sensitive_column: The name of the sensitive column\n",
        "    :param                k: The desired k\n",
        "    :returns               : True if the partition is valid according to our k-anonymity criteria, False otherwise.\n",
        "    \"\"\"\n",
        "    if len(partition) < k:\n",
        "        return False\n",
        "    return True\n",
        "finished_partitions = partition_dataset(df, feature_columns, sensitive_column, full_spans, is_k_anonymous)\n",
        "dfn_ad_count=count_anonymity(df, finished_partitions, feature_columns, sensitive_column)\n",
        "sort_dfn_cnt = sorted(dfn_ad_count, key=lambda x: x['age'])\n",
        "sort_dfn_cnt[:5]"
      ],
      "metadata": {
        "colab": {
          "base_uri": "https://localhost:8080/"
        },
        "id": "GU12y2eDPEx4",
        "outputId": "ff1d0123-c7db-4b14-e69b-600adf98b1de"
      },
      "execution_count": null,
      "outputs": [
        {
          "output_type": "execute_result",
          "data": {
            "text/plain": [
              "[{'age': 17.0,\n",
              "  'education': '10th',\n",
              "  'marital-status': 'Never-married',\n",
              "  'race': 'White',\n",
              "  'occupation': '?',\n",
              "  'count': 29},\n",
              " {'age': 17.0,\n",
              "  'education': '10th',\n",
              "  'marital-status': 'Never-married',\n",
              "  'race': 'White',\n",
              "  'occupation': 'Adm-clerical',\n",
              "  'count': 2},\n",
              " {'age': 17.0,\n",
              "  'education': '10th',\n",
              "  'marital-status': 'Never-married',\n",
              "  'race': 'White',\n",
              "  'occupation': 'Craft-repair',\n",
              "  'count': 2},\n",
              " {'age': 17.0,\n",
              "  'education': '10th',\n",
              "  'marital-status': 'Never-married',\n",
              "  'race': 'White',\n",
              "  'occupation': 'Farming-fishing',\n",
              "  'count': 4},\n",
              " {'age': 17.0,\n",
              "  'education': '10th',\n",
              "  'marital-status': 'Never-married',\n",
              "  'race': 'White',\n",
              "  'occupation': 'Handlers-cleaners',\n",
              "  'count': 8}]"
            ]
          },
          "metadata": {},
          "execution_count": 50
        }
      ]
    },
    {
      "cell_type": "code",
      "source": [
        "# Anonymized data\n",
        "dfad_cnt_k20 = pd.DataFrame(sort_dfn_cnt).loc[:, ['age', 'education', 'marital-status', 'race']]\n",
        "# this is attackers knowledge\n",
        "knowledge = dfa_attack.loc[:, ['age', 'education', 'marital-status', 'race']]\n",
        "\n",
        "rl,ab = attack(dfad_cnt_k20, knowledge)\n",
        "print(rl)\n",
        "link_cnt=0\n",
        "for i in range(11):\n",
        "  for j in range(3):\n",
        "    x=ab[0][j][i]\n",
        "    for k in range(4):\n",
        "      if(x!=-1):\n",
        "        if((dfad_cnt_k20.loc[x][feature_columns[k]])== knowledge.loc[i][feature_columns[k]]):\n",
        "          #print(dfad_cnt_k3.loc[x])\n",
        "          #print(knowledge.loc[i])\n",
        "          link_cnt+=1;\n",
        "\n",
        "print(link_cnt)"
      ],
      "metadata": {
        "colab": {
          "base_uri": "https://localhost:8080/"
        },
        "id": "GGSCfsAOPKpN",
        "outputId": "226af980-5740-43fd-866e-988f9f9dfb49"
      },
      "execution_count": null,
      "outputs": [
        {
          "output_type": "stream",
          "name": "stdout",
          "text": [
            "       0     1     2\n",
            "0     -1    -1    -1\n",
            "1    758   756   757\n",
            "2   1311  1308  1306\n",
            "3     -1    -1    -1\n",
            "4   4309  4307  4308\n",
            "5     -1    -1    -1\n",
            "6    449   441   440\n",
            "7     -1    -1    -1\n",
            "8     -1    -1    -1\n",
            "9    168   169   171\n",
            "10   184   186   183\n",
            "18\n"
          ]
        }
      ]
    },
    {
      "cell_type": "markdown",
      "source": [
        "K=20;L=2"
      ],
      "metadata": {
        "id": "Qv-WdePydQmM"
      }
    },
    {
      "cell_type": "code",
      "source": [
        "def is_l_diverse(df, partition, sensitive_column, l=2):\n",
        "    \"\"\"\n",
        "    :param               df: The dataframe for which to check l-diversity\n",
        "    :param        partition: The partition of the dataframe on which to check l-diversity\n",
        "    :param sensitive_column: The name of the sensitive column\n",
        "    :param                l: The minimum required diversity of sensitive attribute values in the partition\n",
        "    \"\"\"\n",
        "    return diversity(df, partition, sensitive_column) >= l\n",
        "finished_l_diverse_partitions = partition_dataset(df, feature_columns, sensitive_column, full_spans, lambda *args: is_k_anonymous(*args) and is_l_diverse(*args))\n",
        "dfl_ad_count=count_anonymity(df, finished_l_diverse_partitions, feature_columns, sensitive_column)\n",
        "sort_dfl_cnt = sorted(dfl_ad_count, key=lambda x: x['age'])\n",
        "# Anonymized data\n",
        "dflad_cnt_k20l2 = pd.DataFrame(sort_dfl_cnt).loc[:, ['age', 'education', 'marital-status', 'race']]\n",
        "# this is attackers knowledge\n",
        "knowledge = dfa_attack.loc[:, ['age', 'education', 'marital-status', 'race']]\n",
        "\n",
        "rl,ab = attack(dflad_cnt_k20l2, knowledge)\n",
        "print(rl)\n",
        "link_cnt=0\n",
        "for i in range(11):\n",
        "  for j in range(3):\n",
        "    x=ab[0][j][i]\n",
        "    for k in range(4):\n",
        "      if(x!=-1):\n",
        "        if((dflad_cnt_k20l2.loc[x][feature_columns[k]])== knowledge.loc[i][feature_columns[k]]):\n",
        "          #print(dfad_cnt_k3.loc[x])\n",
        "          #print(knowledge.loc[i])\n",
        "          link_cnt+=1;\n",
        "\n",
        "print(link_cnt)"
      ],
      "metadata": {
        "colab": {
          "base_uri": "https://localhost:8080/"
        },
        "id": "eKMaMzVidUI9",
        "outputId": "165b97f6-202d-4c6e-b68c-8a1ffaafa078"
      },
      "execution_count": null,
      "outputs": [
        {
          "output_type": "stream",
          "name": "stdout",
          "text": [
            "       0     1     2\n",
            "0     -1    -1    -1\n",
            "1    758   756   757\n",
            "2   1306  1307  1310\n",
            "3     -1    -1    -1\n",
            "4   4308  4306  4307\n",
            "5     -1    -1    -1\n",
            "6    443   450   449\n",
            "7     -1    -1    -1\n",
            "8     -1    -1    -1\n",
            "9    174   172   171\n",
            "10   182   185   184\n",
            "18\n"
          ]
        }
      ]
    },
    {
      "cell_type": "markdown",
      "source": [
        "k=20;L=4"
      ],
      "metadata": {
        "id": "ssAMFFM1r1yJ"
      }
    },
    {
      "cell_type": "code",
      "source": [
        "def is_l_diverse(df, partition, sensitive_column, l=4):\n",
        "    \"\"\"\n",
        "    :param               df: The dataframe for which to check l-diversity\n",
        "    :param        partition: The partition of the dataframe on which to check l-diversity\n",
        "    :param sensitive_column: The name of the sensitive column\n",
        "    :param                l: The minimum required diversity of sensitive attribute values in the partition\n",
        "    \"\"\"\n",
        "    return diversity(df, partition, sensitive_column) >= l\n",
        "finished_l_diverse_partitions = partition_dataset(df, feature_columns, sensitive_column, full_spans, lambda *args: is_k_anonymous(*args) and is_l_diverse(*args))\n",
        "dfl_ad_count=count_anonymity(df, finished_l_diverse_partitions, feature_columns, sensitive_column)\n",
        "sort_dfl_cnt = sorted(dfl_ad_count, key=lambda x: x['age'])\n",
        "# Anonymized data\n",
        "dflad_cnt_k20l4 = pd.DataFrame(sort_dfl_cnt).loc[:, ['age', 'education', 'marital-status', 'race']]\n",
        "#print(dflad_cnt_k20l4.head(50))\n",
        "# this is attackers knowledge\n",
        "knowledge = dfa_attack.loc[:, ['age', 'education', 'marital-status', 'race']]\n",
        "\n",
        "rl,ab = attack(dflad_cnt_k20l4, knowledge)\n",
        "print(rl)\n",
        "link_cnt=0\n",
        "for i in range(11):\n",
        "  for j in range(3):\n",
        "    x=ab[0][j][i]\n",
        "    for k in range(4):\n",
        "      if(x!=-1):\n",
        "        if((dflad_cnt_k20l4.loc[x][feature_columns[k]])== knowledge.loc[i][feature_columns[k]]):\n",
        "          #print(dfad_cnt_k3.loc[x])\n",
        "          #print(knowledge.loc[i])\n",
        "          link_cnt+=1;\n",
        "\n",
        "print(link_cnt)"
      ],
      "metadata": {
        "colab": {
          "base_uri": "https://localhost:8080/"
        },
        "id": "O6qEzdwHr3US",
        "outputId": "4ce3c5c7-b1ee-47c7-9c15-ebe9f567f299"
      },
      "execution_count": null,
      "outputs": [
        {
          "output_type": "stream",
          "name": "stdout",
          "text": [
            "       0     1     2\n",
            "0     -1    -1    -1\n",
            "1    759   756   757\n",
            "2   1308  1311  1310\n",
            "3     -1    -1    -1\n",
            "4   4307  4305  4306\n",
            "5     -1    -1    -1\n",
            "6    442   446   443\n",
            "7     -1    -1    -1\n",
            "8     -1    -1    -1\n",
            "9    171   168   169\n",
            "10   183   185   184\n",
            "18\n"
          ]
        }
      ]
    },
    {
      "cell_type": "markdown",
      "source": [
        "K=20;L=12"
      ],
      "metadata": {
        "id": "swCKwVTWew9L"
      }
    },
    {
      "cell_type": "code",
      "source": [
        "def is_l_diverse(df, partition, sensitive_column, l=12):\n",
        "    \"\"\"\n",
        "    :param               df: The dataframe for which to check l-diversity\n",
        "    :param        partition: The partition of the dataframe on which to check l-diversity\n",
        "    :param sensitive_column: The name of the sensitive column\n",
        "    :param                l: The minimum required diversity of sensitive attribute values in the partition\n",
        "    \"\"\"\n",
        "    return diversity(df, partition, sensitive_column) >= l\n",
        "finished_l_diverse_partitions = partition_dataset(df, feature_columns, sensitive_column, full_spans, lambda *args: is_k_anonymous(*args) and is_l_diverse(*args))\n",
        "dfl_ad_count=count_anonymity(df, finished_l_diverse_partitions, feature_columns, sensitive_column)\n",
        "sort_dfl_cnt = sorted(dfl_ad_count, key=lambda x: x['age'])\n",
        "# Anonymized data\n",
        "dflad_cnt_k20l4 = pd.DataFrame(sort_dfl_cnt).loc[:, ['age', 'education', 'marital-status', 'race']]\n",
        "#print(dflad_cnt_k20l4.head(50))\n",
        "# this is attackers knowledge\n",
        "knowledge = dfa_attack.loc[:, ['age', 'education', 'marital-status', 'race']]\n",
        "\n",
        "rl,ab = attack(dflad_cnt_k20l4, knowledge)\n",
        "print(rl)\n",
        "link_cnt=0\n",
        "for i in range(11):\n",
        "  for j in range(3):\n",
        "    x=ab[0][j][i]\n",
        "    for k in range(4):\n",
        "      if(x!=-1):\n",
        "        if((dflad_cnt_k20l4.loc[x][feature_columns[k]])== knowledge.loc[i][feature_columns[k]]):\n",
        "          #print(dfad_cnt_k3.loc[x])\n",
        "          #print(knowledge.loc[i])\n",
        "          link_cnt+=1;\n",
        "\n",
        "print(link_cnt)"
      ],
      "metadata": {
        "colab": {
          "base_uri": "https://localhost:8080/"
        },
        "id": "przQSzRpeQ0n",
        "outputId": "667936d7-0fa8-4319-d8b3-af354d1d0d0d"
      },
      "execution_count": null,
      "outputs": [
        {
          "output_type": "stream",
          "name": "stdout",
          "text": [
            "      0    1    2\n",
            "0    98  115   99\n",
            "1   403  449  402\n",
            "2   827  824  825\n",
            "3    98  115   99\n",
            "4    98  115   99\n",
            "5    98  115   99\n",
            "6   235  234  233\n",
            "7    98  115   99\n",
            "8    98  115   99\n",
            "9    79   77   78\n",
            "10   98  115   99\n",
            "12\n"
          ]
        }
      ]
    },
    {
      "cell_type": "markdown",
      "source": [
        "K=20;p=0.15"
      ],
      "metadata": {
        "id": "0oDXqX6ZCCdR"
      }
    },
    {
      "cell_type": "code",
      "source": [
        "# here we generate the global frequencies for the sensitive column\n",
        "global_freqs = {}\n",
        "total_count = float(len(df))\n",
        "group_counts = df.groupby(sensitive_column)[sensitive_column].agg('count')\n",
        "for value, count in group_counts.to_dict().items():\n",
        "    p = count/total_count\n",
        "    global_freqs[value] = p\n",
        "\n",
        "def t_closeness(df, partition, column, global_freqs):\n",
        "    total_count = float(len(partition))\n",
        "    d_max = None\n",
        "    group_counts = df.loc[partition].groupby(column)[column].agg('count')\n",
        "    for value, count in group_counts.to_dict().items():\n",
        "        p = count/total_count\n",
        "        d = abs(p-global_freqs[value])\n",
        "        if d_max is None or d > d_max:\n",
        "            d_max = d\n",
        "    return d_max\n",
        "\n",
        "def is_t_close(df, partition, sensitive_column, global_freqs, p=0.15):\n",
        "    \"\"\"\n",
        "    :param               df: The dataframe for which to check l-diversity\n",
        "    :param        partition: The partition of the dataframe on which to check l-diversity\n",
        "    :param sensitive_column: The name of the sensitive column\n",
        "    :param     global_freqs: The global frequencies of the sensitive attribute values\n",
        "    :param                p: The maximum allowed Kolmogorov-Smirnov distance\n",
        "    \"\"\"\n",
        "    if not sensitive_column in categorical:\n",
        "        raise ValueError(\"this method only works for categorical values\")\n",
        "    return t_closeness(df, partition, sensitive_column, global_freqs) <= p\n",
        "\n",
        "# Let's apply this to our dataset\n",
        "finished_t_close_partitions = partition_dataset(df, feature_columns, sensitive_column, full_spans, lambda *args: is_k_anonymous(*args) and is_t_close(*args, global_freqs))\n",
        "dfp_ad_count=count_anonymity(df, finished_t_close_partitions, feature_columns, sensitive_column)\n",
        "sort_dfp_cnt = sorted(dfp_ad_count, key=lambda x: x['age'])\n",
        "dfpad_cnt_k20p02 = pd.DataFrame(sort_dfp_cnt).loc[:, ['age', 'education', 'marital-status', 'race']]\n",
        "\n",
        "knowledge = dfa_attack.loc[:, ['age', 'education', 'marital-status', 'race']]\n",
        "rl,ab = attack(dfpad_cnt_k20p02, knowledge)\n",
        "print(rl)\n",
        "link_cnt=0\n",
        "for i in range(11):\n",
        "  for j in range(3):\n",
        "    x=ab[0][j][i]\n",
        "    for k in range(4):\n",
        "      if(x!=-1):\n",
        "        if((dfpad_cnt_k20p02.loc[x][feature_columns[k]])== knowledge.loc[i][feature_columns[k]]):\n",
        "          #print(dfad_cnt_k3.loc[x])\n",
        "          #print(knowledge.loc[i])\n",
        "          link_cnt+=1;\n",
        "\n",
        "print(link_cnt)"
      ],
      "metadata": {
        "colab": {
          "base_uri": "https://localhost:8080/"
        },
        "id": "k3MWOLQOY8FA",
        "outputId": "e966774e-ef35-4fc9-94aa-78d122941155"
      },
      "execution_count": null,
      "outputs": [
        {
          "output_type": "stream",
          "name": "stdout",
          "text": [
            "       0     1     2\n",
            "0     83    93    92\n",
            "1    352   349   351\n",
            "2    666   669   667\n",
            "3     83    93    92\n",
            "4   2393  2395  2394\n",
            "5     83    93    92\n",
            "6    337   339   345\n",
            "7     83    93    92\n",
            "8     83    93    92\n",
            "9     43    41    42\n",
            "10    83    93    92\n",
            "15\n"
          ]
        }
      ]
    },
    {
      "cell_type": "markdown",
      "source": [
        "K=50"
      ],
      "metadata": {
        "id": "eIXOdiB6dlWH"
      }
    },
    {
      "cell_type": "code",
      "source": [
        "def is_k_anonymous(df, partition, sensitive_column, k=50):\n",
        "    \"\"\"\n",
        "    :param               df: The dataframe on which to check the partition.\n",
        "    :param        partition: The partition of the dataframe to check.\n",
        "    :param sensitive_column: The name of the sensitive column\n",
        "    :param                k: The desired k\n",
        "    :returns               : True if the partition is valid according to our k-anonymity criteria, False otherwise.\n",
        "    \"\"\"\n",
        "    if len(partition) < k:\n",
        "        return False\n",
        "    return True\n",
        "finished_partitions = partition_dataset(df, feature_columns, sensitive_column, full_spans, is_k_anonymous)\n",
        "dfn_ad_count=count_anonymity(df, finished_partitions, feature_columns, sensitive_column)\n",
        "sort_dfn_cnt = sorted(dfn_ad_count, key=lambda x: x['age'])\n",
        "sort_dfn_cnt[:5]"
      ],
      "metadata": {
        "colab": {
          "base_uri": "https://localhost:8080/"
        },
        "id": "iftUPkUfPQ2g",
        "outputId": "19d99358-f37d-4fbc-8eb4-ed6d2ca4c661"
      },
      "execution_count": null,
      "outputs": [
        {
          "output_type": "execute_result",
          "data": {
            "text/plain": [
              "[{'age': 17.0,\n",
              "  'education': '10th',\n",
              "  'marital-status': 'Never-married',\n",
              "  'race': 'White',\n",
              "  'occupation': '?',\n",
              "  'count': 29},\n",
              " {'age': 17.0,\n",
              "  'education': '10th',\n",
              "  'marital-status': 'Never-married',\n",
              "  'race': 'White',\n",
              "  'occupation': 'Adm-clerical',\n",
              "  'count': 2},\n",
              " {'age': 17.0,\n",
              "  'education': '10th',\n",
              "  'marital-status': 'Never-married',\n",
              "  'race': 'White',\n",
              "  'occupation': 'Craft-repair',\n",
              "  'count': 2},\n",
              " {'age': 17.0,\n",
              "  'education': '10th',\n",
              "  'marital-status': 'Never-married',\n",
              "  'race': 'White',\n",
              "  'occupation': 'Farming-fishing',\n",
              "  'count': 4},\n",
              " {'age': 17.0,\n",
              "  'education': '10th',\n",
              "  'marital-status': 'Never-married',\n",
              "  'race': 'White',\n",
              "  'occupation': 'Handlers-cleaners',\n",
              "  'count': 8}]"
            ]
          },
          "metadata": {},
          "execution_count": 75
        }
      ]
    },
    {
      "cell_type": "code",
      "source": [
        "# Anonymized data\n",
        "dfad_cnt_k50 = pd.DataFrame(sort_dfn_cnt).loc[:,  ['age', 'education', 'marital-status', 'race']]\n",
        "knowledge = dfa_attack.loc[:,  ['age', 'education', 'marital-status', 'race']]\n",
        "\n",
        "rl,ab = attack(dfad_cnt_k50, knowledge)\n",
        "print(rl)\n",
        "link_cnt=0\n",
        "for i in range(11):\n",
        "  for j in range(3):\n",
        "    x=ab[0][j][i]\n",
        "    for k in range(4):\n",
        "      if(x!=-1):\n",
        "        if((dfad_cnt_k50.loc[x][feature_columns[k]])== knowledge.loc[i][feature_columns[k]]):\n",
        "          #print(dfad_cnt_k3.loc[x])\n",
        "          #print(knowledge.loc[i])\n",
        "          link_cnt+=1;\n",
        "\n",
        "print(link_cnt)"
      ],
      "metadata": {
        "colab": {
          "base_uri": "https://localhost:8080/"
        },
        "id": "_D_VKFdHPX5b",
        "outputId": "8d60ca5e-1d5f-4c76-cd13-5b4542fd0241"
      },
      "execution_count": null,
      "outputs": [
        {
          "output_type": "stream",
          "name": "stdout",
          "text": [
            "       0     1     2\n",
            "0     -1    -1    -1\n",
            "1    451   452   450\n",
            "2    886   889   888\n",
            "3     -1    -1    -1\n",
            "4   2756  2754  2755\n",
            "5     -1    -1    -1\n",
            "6    429   416   428\n",
            "7     -1    -1    -1\n",
            "8     -1    -1    -1\n",
            "9    114   132   108\n",
            "10  3461  3459  3460\n",
            "18\n"
          ]
        }
      ]
    },
    {
      "cell_type": "markdown",
      "source": [
        "K=50;l=2"
      ],
      "metadata": {
        "id": "mhwobyXbdrYM"
      }
    },
    {
      "cell_type": "code",
      "source": [
        "def is_l_diverse(df, partition, sensitive_column, l=2):\n",
        "    \"\"\"\n",
        "    :param               df: The dataframe for which to check l-diversity\n",
        "    :param        partition: The partition of the dataframe on which to check l-diversity\n",
        "    :param sensitive_column: The name of the sensitive column\n",
        "    :param                l: The minimum required diversity of sensitive attribute values in the partition\n",
        "    \"\"\"\n",
        "    return diversity(df, partition, sensitive_column) >= l\n",
        "finished_l_diverse_partitions = partition_dataset(df, feature_columns, sensitive_column, full_spans, lambda *args: is_k_anonymous(*args) and is_l_diverse(*args))\n",
        "dfl_ad_count=count_anonymity(df, finished_l_diverse_partitions, feature_columns, sensitive_column)\n",
        "sort_dfl_cnt = sorted(dfl_ad_count, key=lambda x: x['age'])\n",
        "# Anonymized data\n",
        "dflad_cnt_k50l2 = pd.DataFrame(sort_dfl_cnt).loc[:, ['age', 'education', 'marital-status', 'race']]\n",
        "# this is attackers knowledge\n",
        "knowledge = dfa_attack.loc[:, ['age', 'education', 'marital-status', 'race']]\n",
        "\n",
        "rl,ab = attack(dflad_cnt_k50l2, knowledge)\n",
        "print(rl)\n",
        "link_cnt=0\n",
        "for i in range(11):\n",
        "  for j in range(3):\n",
        "    x=ab[0][j][i]\n",
        "    for k in range(4):\n",
        "      if(x!=-1):\n",
        "        if((dflad_cnt_k50l2.loc[x][feature_columns[k]])== knowledge.loc[i][feature_columns[k]]):\n",
        "          #print(dfad_cnt_k3.loc[x])\n",
        "          #print(knowledge.loc[i])\n",
        "          link_cnt+=1;\n",
        "\n",
        "print(link_cnt)"
      ],
      "metadata": {
        "colab": {
          "base_uri": "https://localhost:8080/"
        },
        "id": "lec1Ui1CdwXW",
        "outputId": "74348121-17a7-4650-bb13-b52fd2108dce"
      },
      "execution_count": null,
      "outputs": [
        {
          "output_type": "stream",
          "name": "stdout",
          "text": [
            "       0     1     2\n",
            "0     -1    -1    -1\n",
            "1    451   452   450\n",
            "2    886   889   888\n",
            "3     -1    -1    -1\n",
            "4   2756  2754  2755\n",
            "5     -1    -1    -1\n",
            "6    429   416   428\n",
            "7     -1    -1    -1\n",
            "8     -1    -1    -1\n",
            "9    114   132   108\n",
            "10  3461  3459  3460\n",
            "18\n"
          ]
        }
      ]
    },
    {
      "cell_type": "markdown",
      "source": [
        "K=50;L=4"
      ],
      "metadata": {
        "id": "7pW6pYljFNq-"
      }
    },
    {
      "cell_type": "code",
      "source": [
        "def is_l_diverse(df, partition, sensitive_column, l=4):\n",
        "    \"\"\"\n",
        "    :param               df: The dataframe for which to check l-diversity\n",
        "    :param        partition: The partition of the dataframe on which to check l-diversity\n",
        "    :param sensitive_column: The name of the sensitive column\n",
        "    :param                l: The minimum required diversity of sensitive attribute values in the partition\n",
        "    \"\"\"\n",
        "    return diversity(df, partition, sensitive_column) >= l\n",
        "finished_l_diverse_partitions = partition_dataset(df, feature_columns, sensitive_column, full_spans, lambda *args: is_k_anonymous(*args) and is_l_diverse(*args))\n",
        "dfl_ad_count=count_anonymity(df, finished_l_diverse_partitions, feature_columns, sensitive_column)\n",
        "sort_dfl_cnt = sorted(dfl_ad_count, key=lambda x: x['age'])\n",
        "# Anonymized data\n",
        "dflad_cnt_k50l4 = pd.DataFrame(sort_dfl_cnt).loc[:, ['age', 'education', 'marital-status', 'race']]\n",
        "# this is attackers knowledge\n",
        "knowledge = dfa_attack.loc[:, ['age', 'education', 'marital-status', 'race']]\n",
        "\n",
        "rl,ab = attack(dflad_cnt_k50l4, knowledge)\n",
        "print(rl)\n",
        "link_cnt=0\n",
        "for i in range(11):\n",
        "  for j in range(3):\n",
        "    x=ab[0][j][i]\n",
        "    for k in range(4):\n",
        "      if(x!=-1):\n",
        "        if((dflad_cnt_k50l4.loc[x][feature_columns[k]])== knowledge.loc[i][feature_columns[k]]):\n",
        "          #print(dfad_cnt_k3.loc[x])\n",
        "          #print(knowledge.loc[i])\n",
        "          link_cnt+=1;\n",
        "\n",
        "print(link_cnt)"
      ],
      "metadata": {
        "colab": {
          "base_uri": "https://localhost:8080/"
        },
        "id": "EaUZI5IBFPuP",
        "outputId": "27291b61-c427-4967-da77-ca4071788221"
      },
      "execution_count": null,
      "outputs": [
        {
          "output_type": "stream",
          "name": "stdout",
          "text": [
            "       0     1     2\n",
            "0     -1    -1    -1\n",
            "1    452   463   451\n",
            "2    888   894   889\n",
            "3     -1    -1    -1\n",
            "4   2763  2761  2762\n",
            "5     -1    -1    -1\n",
            "6    410   407   406\n",
            "7     -1    -1    -1\n",
            "8     -1    -1    -1\n",
            "9    112   138   111\n",
            "10  3468  3466  3467\n",
            "18\n"
          ]
        }
      ]
    },
    {
      "cell_type": "markdown",
      "source": [
        "k=50;L=12"
      ],
      "metadata": {
        "id": "y6VGv6NDfI55"
      }
    },
    {
      "cell_type": "code",
      "source": [
        "def is_l_diverse(df, partition, sensitive_column, l=12):\n",
        "    \"\"\"\n",
        "    :param               df: The dataframe for which to check l-diversity\n",
        "    :param        partition: The partition of the dataframe on which to check l-diversity\n",
        "    :param sensitive_column: The name of the sensitive column\n",
        "    :param                l: The minimum required diversity of sensitive attribute values in the partition\n",
        "    \"\"\"\n",
        "    return diversity(df, partition, sensitive_column) >= l\n",
        "finished_l_diverse_partitions = partition_dataset(df, feature_columns, sensitive_column, full_spans, lambda *args: is_k_anonymous(*args) and is_l_diverse(*args))\n",
        "dfl_ad_count=count_anonymity(df, finished_l_diverse_partitions, feature_columns, sensitive_column)\n",
        "sort_dfl_cnt = sorted(dfl_ad_count, key=lambda x: x['age'])\n",
        "# Anonymized data\n",
        "dflad_cnt_k50l12 = pd.DataFrame(sort_dfl_cnt).loc[:, ['age', 'education', 'marital-status', 'race']]\n",
        "# this is attackers knowledge\n",
        "knowledge = dfa_attack.loc[:, ['age', 'education', 'marital-status', 'race']]\n",
        "\n",
        "rl,ab = attack(dflad_cnt_k50l12, knowledge)\n",
        "print(rl)\n",
        "link_cnt=0\n",
        "for i in range(11):\n",
        "  for j in range(3):\n",
        "    x=ab[0][j][i]\n",
        "    for k in range(4):\n",
        "      if(x!=-1):\n",
        "        if((dflad_cnt_k50l12.loc[x][feature_columns[k]])== knowledge.loc[i][feature_columns[k]]):\n",
        "          #print(dfad_cnt_k3.loc[x])\n",
        "          #print(knowledge.loc[i])\n",
        "          link_cnt+=1;\n",
        "\n",
        "print(link_cnt)"
      ],
      "metadata": {
        "colab": {
          "base_uri": "https://localhost:8080/"
        },
        "id": "oeIbdQ9efKVp",
        "outputId": "7f54439c-62ba-4bdd-cc52-cfc932ad1e24"
      },
      "execution_count": null,
      "outputs": [
        {
          "output_type": "stream",
          "name": "stdout",
          "text": [
            "      0    1    2\n",
            "0    91   98   77\n",
            "1   405  418  394\n",
            "2   757  751  752\n",
            "3    91   98   77\n",
            "4    91   98   77\n",
            "5    91   98   77\n",
            "6   234  238  233\n",
            "7    91   98   77\n",
            "8    91   98   77\n",
            "9    82   90   77\n",
            "10   91   98   77\n",
            "12\n"
          ]
        }
      ]
    },
    {
      "cell_type": "markdown",
      "source": [
        "k=50;p=0.15"
      ],
      "metadata": {
        "id": "rNdA3Qu8UaPz"
      }
    },
    {
      "cell_type": "code",
      "source": [
        "# here we generate the global frequencies for the sensitive column\n",
        "global_freqs = {}\n",
        "total_count = float(len(df))\n",
        "group_counts = df.groupby(sensitive_column)[sensitive_column].agg('count')\n",
        "for value, count in group_counts.to_dict().items():\n",
        "    p = count/total_count\n",
        "    global_freqs[value] = p\n",
        "\n",
        "def t_closeness(df, partition, column, global_freqs):\n",
        "    total_count = float(len(partition))\n",
        "    d_max = None\n",
        "    group_counts = df.loc[partition].groupby(column)[column].agg('count')\n",
        "    for value, count in group_counts.to_dict().items():\n",
        "        p = count/total_count\n",
        "        d = abs(p-global_freqs[value])\n",
        "        if d_max is None or d > d_max:\n",
        "            d_max = d\n",
        "    return d_max\n",
        "\n",
        "def is_t_close(df, partition, sensitive_column, global_freqs, p=0.15):\n",
        "    \"\"\"\n",
        "    :param               df: The dataframe for which to check l-diversity\n",
        "    :param        partition: The partition of the dataframe on which to check l-diversity\n",
        "    :param sensitive_column: The name of the sensitive column\n",
        "    :param     global_freqs: The global frequencies of the sensitive attribute values\n",
        "    :param                p: The maximum allowed Kolmogorov-Smirnov distance\n",
        "    \"\"\"\n",
        "    if not sensitive_column in categorical:\n",
        "        raise ValueError(\"this method only works for categorical values\")\n",
        "    return t_closeness(df, partition, sensitive_column, global_freqs) <= p\n",
        "\n",
        "# Let's apply this to our dataset\n",
        "finished_t_close_partitions = partition_dataset(df, feature_columns, sensitive_column, full_spans, lambda *args: is_k_anonymous(*args) and is_t_close(*args, global_freqs))\n",
        "dfp_ad_count=count_anonymity(df, finished_t_close_partitions, feature_columns, sensitive_column)\n",
        "sort_dfp_cnt = sorted(dfp_ad_count, key=lambda x: x['age'])\n",
        "dfpad_cnt_k50p02 = pd.DataFrame(sort_dfp_cnt).loc[:, ['age', 'education', 'marital-status', 'race']]\n",
        "\n",
        "knowledge = dfa_attack.loc[:, ['age', 'education', 'marital-status', 'race']]\n",
        "rl,ab = attack(dfpad_cnt_k50p02, knowledge)\n",
        "print(rl)\n",
        "link_cnt=0\n",
        "for i in range(11):\n",
        "  for j in range(3):\n",
        "    x=ab[0][j][i]\n",
        "    for k in range(4):\n",
        "      if(x!=-1):\n",
        "        if((dfpad_cnt_k50p02.loc[x][feature_columns[k]])== knowledge.loc[i][feature_columns[k]]):\n",
        "          #print(dfad_cnt_k3.loc[x])\n",
        "          #print(knowledge.loc[i])\n",
        "          link_cnt+=1;\n",
        "\n",
        "print(link_cnt)"
      ],
      "metadata": {
        "colab": {
          "base_uri": "https://localhost:8080/"
        },
        "id": "5IMQNiLOUcWv",
        "outputId": "d045fe04-b62b-47da-cda5-d76e8bdc0863"
      },
      "execution_count": null,
      "outputs": [
        {
          "output_type": "stream",
          "name": "stdout",
          "text": [
            "       0     1     2\n",
            "0    121   119   120\n",
            "1    349   310   311\n",
            "2    586   599   572\n",
            "3    121   119   120\n",
            "4   1915  1913  1914\n",
            "5    121   119   120\n",
            "6    307   296   297\n",
            "7    121   119   120\n",
            "8    121   119   120\n",
            "9     56    54    55\n",
            "10   121   119   120\n",
            "15\n"
          ]
        }
      ]
    },
    {
      "cell_type": "markdown",
      "source": [
        "K=100"
      ],
      "metadata": {
        "id": "tNiLkJUkHcie"
      }
    },
    {
      "cell_type": "code",
      "source": [
        "def is_k_anonymous(df, partition, sensitive_column, k=100):\n",
        "    \"\"\"\n",
        "    :param               df: The dataframe on which to check the partition.\n",
        "    :param        partition: The partition of the dataframe to check.\n",
        "    :param sensitive_column: The name of the sensitive column\n",
        "    :param                k: The desired k\n",
        "    :returns               : True if the partition is valid according to our k-anonymity criteria, False otherwise.\n",
        "    \"\"\"\n",
        "    if len(partition) < k:\n",
        "        return False\n",
        "    return True\n",
        "finished_partitions = partition_dataset(df, feature_columns, sensitive_column, full_spans, is_k_anonymous)\n",
        "dfn_ad_count=count_anonymity(df, finished_partitions, feature_columns, sensitive_column)\n",
        "sort_dfn_cnt = sorted(dfn_ad_count, key=lambda x: x['age'])\n",
        "sort_dfn_cnt[:5]"
      ],
      "metadata": {
        "colab": {
          "base_uri": "https://localhost:8080/"
        },
        "id": "1yyBV_7uHeCw",
        "outputId": "7acefae9-f48a-4aae-e830-4eb5077774e8"
      },
      "execution_count": null,
      "outputs": [
        {
          "output_type": "execute_result",
          "data": {
            "text/plain": [
              "[{'age': 17.0,\n",
              "  'education': '10th',\n",
              "  'marital-status': 'Never-married',\n",
              "  'race': 'White',\n",
              "  'occupation': '?',\n",
              "  'count': 29},\n",
              " {'age': 17.0,\n",
              "  'education': '10th',\n",
              "  'marital-status': 'Never-married',\n",
              "  'race': 'White',\n",
              "  'occupation': 'Adm-clerical',\n",
              "  'count': 2},\n",
              " {'age': 17.0,\n",
              "  'education': '10th',\n",
              "  'marital-status': 'Never-married',\n",
              "  'race': 'White',\n",
              "  'occupation': 'Craft-repair',\n",
              "  'count': 2},\n",
              " {'age': 17.0,\n",
              "  'education': '10th',\n",
              "  'marital-status': 'Never-married',\n",
              "  'race': 'White',\n",
              "  'occupation': 'Farming-fishing',\n",
              "  'count': 4},\n",
              " {'age': 17.0,\n",
              "  'education': '10th',\n",
              "  'marital-status': 'Never-married',\n",
              "  'race': 'White',\n",
              "  'occupation': 'Handlers-cleaners',\n",
              "  'count': 8}]"
            ]
          },
          "metadata": {},
          "execution_count": 6
        }
      ]
    },
    {
      "cell_type": "code",
      "source": [
        "# Anonymized data\n",
        "dfad_cnt_k100 = pd.DataFrame(sort_dfn_cnt).loc[:,  ['age', 'education', 'marital-status', 'race']]\n",
        "knowledge = dfa_attack.loc[:,  ['age', 'education', 'marital-status', 'race']]\n",
        "\n",
        "rl,ab = attack(dfad_cnt_k100, knowledge)\n",
        "print(rl)\n",
        "link_cnt=0\n",
        "for i in range(11):\n",
        "  for j in range(3):\n",
        "    x=ab[0][j][i]\n",
        "    for k in range(4):\n",
        "      if(x!=-1):\n",
        "        if((dfad_cnt_k100.loc[x][feature_columns[k]])== knowledge.loc[i][feature_columns[k]]):\n",
        "          #print(dfad_cnt_k3.loc[x])\n",
        "          #print(knowledge.loc[i])\n",
        "          link_cnt+=1;\n",
        "\n",
        "print(link_cnt)"
      ],
      "metadata": {
        "colab": {
          "base_uri": "https://localhost:8080/"
        },
        "id": "jKlZAOtXHr2I",
        "outputId": "44352260-0a27-4835-f353-e0da82f20b75"
      },
      "execution_count": null,
      "outputs": [
        {
          "output_type": "stream",
          "name": "stdout",
          "text": [
            "      0    1    2\n",
            "0    76  126  114\n",
            "1   353  355  354\n",
            "2   593  591  592\n",
            "3    76  126  114\n",
            "4    76  126  114\n",
            "5    76  126  114\n",
            "6   326  315  320\n",
            "7    76  126  114\n",
            "8    76  126  114\n",
            "9    95   94   93\n",
            "10    8   10    9\n",
            "15\n"
          ]
        }
      ]
    },
    {
      "cell_type": "markdown",
      "source": [
        "k=100;L=2"
      ],
      "metadata": {
        "id": "55jKepJyH1JP"
      }
    },
    {
      "cell_type": "code",
      "source": [
        "def is_l_diverse(df, partition, sensitive_column, l=2):\n",
        "    \"\"\"\n",
        "    :param               df: The dataframe for which to check l-diversity\n",
        "    :param        partition: The partition of the dataframe on which to check l-diversity\n",
        "    :param sensitive_column: The name of the sensitive column\n",
        "    :param                l: The minimum required diversity of sensitive attribute values in the partition\n",
        "    \"\"\"\n",
        "    return diversity(df, partition, sensitive_column) >= l\n",
        "finished_l_diverse_partitions = partition_dataset(df, feature_columns, sensitive_column, full_spans, lambda *args: is_k_anonymous(*args) and is_l_diverse(*args))\n",
        "dfl_ad_count=count_anonymity(df, finished_l_diverse_partitions, feature_columns, sensitive_column)\n",
        "sort_dfl_cnt = sorted(dfl_ad_count, key=lambda x: x['age'])\n",
        "# Anonymized data\n",
        "dflad_cnt_k100l2 = pd.DataFrame(sort_dfl_cnt).loc[:, ['age', 'education', 'marital-status', 'race']]\n",
        "# this is attackers knowledge\n",
        "knowledge = dfa_attack.loc[:, ['age', 'education', 'marital-status', 'race']]\n",
        "\n",
        "rl,ab = attack(dflad_cnt_k100l2, knowledge)\n",
        "print(rl)\n",
        "link_cnt=0\n",
        "for i in range(11):\n",
        "  for j in range(3):\n",
        "    x=ab[0][j][i]\n",
        "    for k in range(4):\n",
        "      if(x!=-1):\n",
        "        if((dflad_cnt_k100l2.loc[x][feature_columns[k]])== knowledge.loc[i][feature_columns[k]]):\n",
        "          #print(dfad_cnt_k3.loc[x])\n",
        "          #print(knowledge.loc[i])\n",
        "          link_cnt+=1;\n",
        "\n",
        "print(link_cnt)"
      ],
      "metadata": {
        "colab": {
          "base_uri": "https://localhost:8080/"
        },
        "id": "qWcUyPFCH9LF",
        "outputId": "1ee4a3bc-1036-4991-9c5b-6c5355edc5b8"
      },
      "execution_count": null,
      "outputs": [
        {
          "output_type": "stream",
          "name": "stdout",
          "text": [
            "      0    1    2\n",
            "0    76  126  114\n",
            "1   353  355  354\n",
            "2   593  591  592\n",
            "3    76  126  114\n",
            "4    76  126  114\n",
            "5    76  126  114\n",
            "6   326  315  320\n",
            "7    76  126  114\n",
            "8    76  126  114\n",
            "9    95   94   93\n",
            "10    8   10    9\n",
            "15\n"
          ]
        }
      ]
    },
    {
      "cell_type": "markdown",
      "source": [
        "K=100;L=4"
      ],
      "metadata": {
        "id": "kieUEIgMIM0P"
      }
    },
    {
      "cell_type": "code",
      "source": [
        "def is_l_diverse(df, partition, sensitive_column, l=4):\n",
        "    \"\"\"\n",
        "    :param               df: The dataframe for which to check l-diversity\n",
        "    :param        partition: The partition of the dataframe on which to check l-diversity\n",
        "    :param sensitive_column: The name of the sensitive column\n",
        "    :param                l: The minimum required diversity of sensitive attribute values in the partition\n",
        "    \"\"\"\n",
        "    return diversity(df, partition, sensitive_column) >= l\n",
        "finished_l_diverse_partitions = partition_dataset(df, feature_columns, sensitive_column, full_spans, lambda *args: is_k_anonymous(*args) and is_l_diverse(*args))\n",
        "dfl_ad_count=count_anonymity(df, finished_l_diverse_partitions, feature_columns, sensitive_column)\n",
        "sort_dfl_cnt = sorted(dfl_ad_count, key=lambda x: x['age'])\n",
        "# Anonymized data\n",
        "dflad_cnt_k100l4 = pd.DataFrame(sort_dfl_cnt).loc[:, ['age', 'education', 'marital-status', 'race']]\n",
        "# this is attackers knowledge\n",
        "knowledge = dfa_attack.loc[:, ['age', 'education', 'marital-status', 'race']]\n",
        "\n",
        "rl,ab = attack(dflad_cnt_k100l4, knowledge)\n",
        "print(rl)\n",
        "link_cnt=0\n",
        "for i in range(11):\n",
        "  for j in range(3):\n",
        "    x=ab[0][j][i]\n",
        "    for k in range(4):\n",
        "      if(x!=-1):\n",
        "        if((dflad_cnt_k100l4.loc[x][feature_columns[k]])== knowledge.loc[i][feature_columns[k]]):\n",
        "          #print(dfad_cnt_k3.loc[x])\n",
        "          #print(knowledge.loc[i])\n",
        "          link_cnt+=1;\n",
        "\n",
        "print(link_cnt)"
      ],
      "metadata": {
        "colab": {
          "base_uri": "https://localhost:8080/"
        },
        "id": "8DuNDZQNIOXM",
        "outputId": "c6566e36-527a-4607-9807-2adbf3954c20"
      },
      "execution_count": null,
      "outputs": [
        {
          "output_type": "stream",
          "name": "stdout",
          "text": [
            "      0    1    2\n",
            "0    76  126  114\n",
            "1   353  355  354\n",
            "2   593  591  592\n",
            "3    76  126  114\n",
            "4    76  126  114\n",
            "5    76  126  114\n",
            "6   326  315  320\n",
            "7    76  126  114\n",
            "8    76  126  114\n",
            "9    95   94   93\n",
            "10    8   10    9\n",
            "15\n"
          ]
        }
      ]
    },
    {
      "cell_type": "markdown",
      "source": [
        "K=100;L=12"
      ],
      "metadata": {
        "id": "EPdZx1XUfke8"
      }
    },
    {
      "cell_type": "code",
      "source": [
        "def is_l_diverse(df, partition, sensitive_column, l=12):\n",
        "    \"\"\"\n",
        "    :param               df: The dataframe for which to check l-diversity\n",
        "    :param        partition: The partition of the dataframe on which to check l-diversity\n",
        "    :param sensitive_column: The name of the sensitive column\n",
        "    :param                l: The minimum required diversity of sensitive attribute values in the partition\n",
        "    \"\"\"\n",
        "    return diversity(df, partition, sensitive_column) >= l\n",
        "finished_l_diverse_partitions = partition_dataset(df, feature_columns, sensitive_column, full_spans, lambda *args: is_k_anonymous(*args) and is_l_diverse(*args))\n",
        "dfl_ad_count=count_anonymity(df, finished_l_diverse_partitions, feature_columns, sensitive_column)\n",
        "sort_dfl_cnt = sorted(dfl_ad_count, key=lambda x: x['age'])\n",
        "# Anonymized data\n",
        "dflad_cnt_k100l12 = pd.DataFrame(sort_dfl_cnt).loc[:, ['age', 'education', 'marital-status', 'race']]\n",
        "# this is attackers knowledge\n",
        "knowledge = dfa_attack.loc[:, ['age', 'education', 'marital-status', 'race']]\n",
        "\n",
        "rl,ab = attack(dflad_cnt_k100l12, knowledge)\n",
        "print(rl)\n",
        "link_cnt=0\n",
        "for i in range(11):\n",
        "  for j in range(3):\n",
        "    x=ab[0][j][i]\n",
        "    for k in range(4):\n",
        "      if(x!=-1):\n",
        "        if((dflad_cnt_k100l12.loc[x][feature_columns[k]])== knowledge.loc[i][feature_columns[k]]):\n",
        "          #print(dfad_cnt_k3.loc[x])\n",
        "          #print(knowledge.loc[i])\n",
        "          link_cnt+=1;\n",
        "\n",
        "print(link_cnt)"
      ],
      "metadata": {
        "colab": {
          "base_uri": "https://localhost:8080/"
        },
        "id": "9x6MxI7mfl2A",
        "outputId": "69fcf29f-ca68-4475-ca38-0e47d6aded5c"
      },
      "execution_count": null,
      "outputs": [
        {
          "output_type": "stream",
          "name": "stdout",
          "text": [
            "      0    1    2\n",
            "0    96  122   66\n",
            "1   335  337  336\n",
            "2   562  563  561\n",
            "3    96  122   66\n",
            "4    96  122   66\n",
            "5    96  122   66\n",
            "6   313  317  315\n",
            "7    96  122   66\n",
            "8    96  122   66\n",
            "9    79   77   78\n",
            "10   96  122   66\n",
            "12\n"
          ]
        }
      ]
    },
    {
      "cell_type": "markdown",
      "source": [
        "K=100;p=0.15"
      ],
      "metadata": {
        "id": "d0buwEeG0uKw"
      }
    },
    {
      "cell_type": "code",
      "source": [
        "# here we generate the global frequencies for the sensitive column\n",
        "global_freqs = {}\n",
        "total_count = float(len(df))\n",
        "group_counts = df.groupby(sensitive_column)[sensitive_column].agg('count')\n",
        "for value, count in group_counts.to_dict().items():\n",
        "    p = count/total_count\n",
        "    global_freqs[value] = p\n",
        "\n",
        "def t_closeness(df, partition, column, global_freqs):\n",
        "    total_count = float(len(partition))\n",
        "    d_max = None\n",
        "    group_counts = df.loc[partition].groupby(column)[column].agg('count')\n",
        "    for value, count in group_counts.to_dict().items():\n",
        "        p = count/total_count\n",
        "        d = abs(p-global_freqs[value])\n",
        "        if d_max is None or d > d_max:\n",
        "            d_max = d\n",
        "    return d_max\n",
        "\n",
        "def is_t_close(df, partition, sensitive_column, global_freqs, p=0.15):\n",
        "    \"\"\"\n",
        "    :param               df: The dataframe for which to check l-diversity\n",
        "    :param        partition: The partition of the dataframe on which to check l-diversity\n",
        "    :param sensitive_column: The name of the sensitive column\n",
        "    :param     global_freqs: The global frequencies of the sensitive attribute values\n",
        "    :param                p: The maximum allowed Kolmogorov-Smirnov distance\n",
        "    \"\"\"\n",
        "    if not sensitive_column in categorical:\n",
        "        raise ValueError(\"this method only works for categorical values\")\n",
        "    return t_closeness(df, partition, sensitive_column, global_freqs) <= p\n",
        "\n",
        "# Let's apply this to our dataset\n",
        "finished_t_close_partitions = partition_dataset(df, feature_columns, sensitive_column, full_spans, lambda *args: is_k_anonymous(*args) and is_t_close(*args, global_freqs))\n",
        "dfp_ad_count=count_anonymity(df, finished_t_close_partitions, feature_columns, sensitive_column)\n",
        "sort_dfp_cnt = sorted(dfp_ad_count, key=lambda x: x['age'])\n",
        "dfpad_cnt_k50p02 = pd.DataFrame(sort_dfp_cnt).loc[:, ['age', 'education', 'marital-status', 'race']]\n",
        "\n",
        "knowledge = dfa_attack.loc[:, ['age', 'education', 'marital-status', 'race']]\n",
        "rl,ab = attack(dfpad_cnt_k50p02, knowledge)\n",
        "print(rl)\n",
        "link_cnt=0\n",
        "for i in range(11):\n",
        "  for j in range(3):\n",
        "    x=ab[0][j][i]\n",
        "    for k in range(4):\n",
        "      if(x!=-1):\n",
        "        if((dfpad_cnt_k50p02.loc[x][feature_columns[k]])== knowledge.loc[i][feature_columns[k]]):\n",
        "          #print(dfad_cnt_k3.loc[x])\n",
        "          #print(knowledge.loc[i])\n",
        "          link_cnt+=1;\n",
        "\n",
        "print(link_cnt)"
      ],
      "metadata": {
        "colab": {
          "base_uri": "https://localhost:8080/"
        },
        "id": "ZTBqkDipT4jg",
        "outputId": "07ce7bbc-424b-45f8-c42f-da8540ccdd37"
      },
      "execution_count": null,
      "outputs": [
        {
          "output_type": "stream",
          "name": "stdout",
          "text": [
            "       0     1     2\n",
            "0     72    97    87\n",
            "1    254   245   246\n",
            "2    441   434   446\n",
            "3     72    97    87\n",
            "4   1374  1372  1373\n",
            "5     72    97    87\n",
            "6    235   232   231\n",
            "7     72    97    87\n",
            "8     72    97    87\n",
            "9     47    46    50\n",
            "10    72    97    87\n",
            "15\n"
          ]
        }
      ]
    }
  ]
}